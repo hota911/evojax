{
 "cells": [
  {
   "cell_type": "code",
   "execution_count": 4,
   "metadata": {},
   "outputs": [],
   "source": [
    "\n",
    "import argparse\n",
    "from dataclasses import dataclass\n",
    "import os\n",
    "import shutil\n",
    "import jax\n",
    "import jax.numpy as jnp\n",
    "\n",
    "from evojax.policy.base import PolicyNetwork, PolicyState\n",
    "from evojax.task.base import TaskState\n",
    "from evojax.task.slimevolley import SlimeVolley\n",
    "from evojax.policy.mlp import MLPPolicy\n",
    "from evojax.algo import CMA\n",
    "from evojax import Trainer\n",
    "from evojax import util\n",
    "\n",
    "from flax import linen as nn"
   ]
  },
  {
   "cell_type": "code",
   "execution_count": 2,
   "metadata": {},
   "outputs": [],
   "source": [
    "\n",
    "class NEATModel(nn.Module):\n",
    "    input_dim: int\n",
    "    output_dim: int\n",
    "    max_nodes: int\n",
    "    max_edges: int\n",
    "\n",
    "    @nn.compact\n",
    "    def __call__(self, x):\n",
    "        nodes = self.param('nodes', nn.initializers.zeros, (self.max_nodes, 3)) # (id, activattion)\n",
    "        edges = self.param('edges', nn.initializers.zeros, (self.max_edges, 3)) # (from, to, weight, enabled)\n",
    "        values = jnp.zeros((self.max_nodes, ))\n",
    "        return jax.slice(values, -self.output_dim)\n",
    "class NEATPolicy(PolicyNetwork):\n",
    "  def __init__(self, input_dim: int, output_dim: int):\n",
    "    self._input_dim = input_dim\n",
    "    self._output_dim = output_dim\n",
    "    # TODO: Implement NEAT policy.\n",
    "    self.num_params = 1\n",
    "    model = NEATModel(input_dim, output_dim, 100, 100)\n",
    "    params = model.init(jax.random.PRNGKey(0), jnp.ones([1, input_dim]))\n",
    "    print(params)\n",
    "    self.num_params, format_params_fn = util.get_params_format_fn(params)\n",
    "    self._format_params_fn = jax.vmap(format_params_fn)\n",
    "    self._forward_fn = jax.vmap(model.apply)\n",
    "\n",
    "  def get_actions(self, t_states, params, p_states: PolicyState) -> tuple[jax.Array, PolicyState]:\n",
    "    return self._forward_fn(params, t_states.obs), p_states\n"
   ]
  },
  {
   "cell_type": "code",
   "execution_count": 25,
   "metadata": {},
   "outputs": [],
   "source": [
    "@jax.tree_util.register_dataclass\n",
    "@dataclass\n",
    "class Genome:\n",
    "    \"\"\"Stores node and connection info in JAX arrays.\"\"\"\n",
    "\n",
    "    node_ids: jax.Array  # shape [num_nodes]\n",
    "    # 0: relu\n",
    "    node_activation: jax.Array  # shape [num_nodes]\n",
    "\n",
    "    # Connections.\n",
    "    conn_id: jax.Array  # shape [num_connections]\n",
    "    conn_in: jax.Array  # shape [num_connections]\n",
    "    conn_out: jax.Array  # shape [num_connections]\n",
    "    conn_weights: jax.Array  # shape [num_connections]\n",
    "    conn_enabled: jax.Array  # shape [num_connections]"
   ]
  },
  {
   "cell_type": "code",
   "execution_count": 43,
   "metadata": {},
   "outputs": [
    {
     "data": {
      "text/plain": [
       "Array([0, 1, 2, 3, 4], dtype=int32)"
      ]
     },
     "metadata": {},
     "output_type": "display_data"
    },
    {
     "data": {
      "text/plain": [
       "Array([2, 3, 4, 4, 0], dtype=int32)"
      ]
     },
     "metadata": {},
     "output_type": "display_data"
    }
   ],
   "source": [
    "max_nodes = 5\n",
    "input_dim = 2\n",
    "node_ids = jnp.array([0, 1, 2, 3, 4])\n",
    "node_activation = jnp.array([0, 0, 0, 0, 2])\n",
    "\n",
    "# 0 1\n",
    "# | |\n",
    "# 2 3\n",
    "#  \\|\n",
    "#   4\n",
    "conn_id = jnp.array([0, 1, 2, 3, 4])\n",
    "conn_in = jnp.array([0, 1, 2, 3, -1])\n",
    "conn_out = jnp.array([2, 3, 4, 4, 0])\n",
    "conn_weights = jnp.array([1.0, 1.0, 1.0, 1.0, 1.0])\n",
    "conn_enabled = jnp.array([True, True, True, True, False])\n",
    "display(node_ids)\n",
    "display(conn_out)\n",
    "\n",
    "genome = Genome(node_ids, node_activation, conn_id, conn_in, conn_out, conn_weights, conn_enabled)"
   ]
  },
  {
   "cell_type": "code",
   "execution_count": 138,
   "metadata": {},
   "outputs": [],
   "source": [
    "def get_adjacency_matrix_fn(max_nodes: int, input_dim: int, genome: Genome):\n",
    "    matrix = jnp.zeros((max_nodes, max_nodes))\n",
    "    matrix = matrix + jnp.pad(jnp.identity(input_dim), ((0, max_nodes - input_dim), (0, max_nodes - input_dim)))\n",
    "    matrix = matrix.at[genome.conn_out, genome.conn_in].set(\n",
    "        jnp.where(genome.conn_enabled, genome.conn_weights, 0.0)\n",
    "    )\n",
    "    return matrix\n",
    "\n",
    "def create_genome_fn(node_ids, node_activation, conn_id, conn_in, conn_out, conn_weights, conn_enabled):\n",
    "    return Genome(node_ids, node_activation, conn_id, conn_in, conn_out, conn_weights, conn_enabled)\n",
    "\n",
    "get_adjacency_matrix = jax.jit(jax.vmap(get_adjacency_matrix_fn, in_axes=(None, None, 0)), static_argnums=(0, 1))\n",
    "create_genome = jax.jit(jax.vmap(create_genome_fn, in_axes=0))"
   ]
  },
  {
   "cell_type": "code",
   "execution_count": 54,
   "metadata": {},
   "outputs": [
    {
     "data": {
      "text/plain": [
       "<PjitFunction of <function get_adjacency_matrix_fn at 0x3050f6840>>"
      ]
     },
     "metadata": {},
     "output_type": "display_data"
    }
   ],
   "source": [
    "display(get_adjacency_matrix)"
   ]
  },
  {
   "cell_type": "code",
   "execution_count": 140,
   "metadata": {},
   "outputs": [
    {
     "data": {
      "text/plain": [
       "Genome(node_ids=Array([[0, 1, 2, 3, 4]], dtype=int32), node_activation=Array([[0, 0, 0, 0, 0]], dtype=int32), conn_id=Array([[0, 1, 2, 3, 4]], dtype=int32), conn_in=Array([[ 0,  1,  2,  3, -1]], dtype=int32), conn_out=Array([[2, 3, 4, 4, 0]], dtype=int32), conn_weights=Array([[1., 1., 1., 1., 1.]], dtype=float32), conn_enabled=Array([[ True,  True,  True,  True, False]], dtype=bool))"
      ]
     },
     "metadata": {},
     "output_type": "display_data"
    },
    {
     "data": {
      "text/plain": [
       "Array([[[1., 0., 0., 0., 0.],\n",
       "        [0., 1., 0., 0., 0.],\n",
       "        [1., 0., 0., 0., 0.],\n",
       "        [0., 1., 0., 0., 0.],\n",
       "        [0., 0., 1., 1., 0.]]], dtype=float32)"
      ]
     },
     "metadata": {},
     "output_type": "display_data"
    },
    {
     "data": {
      "text/plain": [
       "Array([[1., 1., 1., 1., 0.]], dtype=float32)"
      ]
     },
     "metadata": {},
     "output_type": "display_data"
    },
    {
     "data": {
      "text/plain": [
       "Array([[1., 1., 1., 1., 2.]], dtype=float32)"
      ]
     },
     "metadata": {},
     "output_type": "display_data"
    },
    {
     "data": {
      "text/plain": [
       "Array([[1., 1., 1., 1., 2.]], dtype=float32)"
      ]
     },
     "metadata": {},
     "output_type": "display_data"
    }
   ],
   "source": [
    "genome = create_genome(node_ids, node_activation, conn_id, conn_in, conn_out, conn_weights, conn_enabled)\n",
    "genome = jax.tree.map(lambda x: jnp.array([x]), genome)\n",
    "display(genome)\n",
    "adj = get_adjacency_matrix(max_nodes, input_dim, genome)\n",
    "display(adj)\n",
    "\n",
    "def matmul_fn(adj, x):\n",
    "    return jnp.matmul(adj, x)\n",
    "\n",
    "matmul = jax.vmap(matmul_fn)\n",
    "x = jnp.array([[1, 1, 0, 0, 0]])\n",
    "display(matmul(adj, x))\n",
    "display(matmul(adj, matmul(adj, x)))\n",
    "display(matmul(adj, matmul(adj, matmul(adj, x))))"
   ]
  },
  {
   "cell_type": "code",
   "execution_count": 170,
   "metadata": {},
   "outputs": [
    {
     "name": "stdout",
     "output_type": "stream",
     "text": [
      "(5,)\n",
      "(5, 5)\n",
      "(5,)\n",
      "(5,)\n",
      "(5, 5)\n",
      "(5,)\n",
      "(5,)\n",
      "(5, 5)\n",
      "(5,)\n",
      "(5,)\n"
     ]
    },
    {
     "data": {
      "text/plain": [
       "Array([[1., 1., 1., 1., 2.]], dtype=float32)"
      ]
     },
     "execution_count": 170,
     "metadata": {},
     "output_type": "execute_result"
    }
   ],
   "source": [
    "# TODO: Check NEAT-python for activation functions.\n",
    "ACTIVATION_FUNCTIONS = [lambda x: x, jax.nn.relu, jax.nn.sigmoid, jax.nn.tanh]\n",
    "\n",
    "def forward_fn(max_depth: int, genome: Genome, x: jax.Array):\n",
    "    print(genome.node_ids.shape)\n",
    "    adj = get_adjacency_matrix_fn(max_nodes, input_dim, genome)\n",
    "    for _ in range(max_depth):\n",
    "        x = matmul_fn(adj, x)\n",
    "\n",
    "        print(adj.shape)\n",
    "        print(x.shape)\n",
    "        print(genome.node_activation.shape)\n",
    "\n",
    "        # Apply the activation function.\n",
    "        def activate_fn(activation, x):\n",
    "            return jax.lax.switch(activation, ACTIVATION_FUNCTIONS, x)\n",
    "        activate = jax.vmap(activate_fn)\n",
    "        x = activate(genome.node_activation, x)\n",
    "    return x\n",
    "\n",
    "forward = jax.jit(jax.vmap(forward_fn, in_axes=(None, 0, 0)), static_argnums=(0))\n",
    "# forward = jax.vmap(forward_fn, in_axes=(None, 0, 0))\n",
    "\n",
    "forward(3, genome, x)"
   ]
  },
  {
   "cell_type": "code",
   "execution_count": 169,
   "metadata": {},
   "outputs": [
    {
     "data": {
      "text/plain": [
       "Array([[0.66263026, 0.66263026, 0.66263026, 0.66263026, 0.7941419 ]],      dtype=float32)"
      ]
     },
     "execution_count": 169,
     "metadata": {},
     "output_type": "execute_result"
    }
   ],
   "source": [
    "genome2 = Genome(node_ids, jnp.array([1, 1, 1, 1, 1]), conn_id, conn_in, conn_out, conn_weights, conn_enabled)\n",
    "genome2 = jax.tree.map(lambda x: jnp.array([x]), genome2)\n",
    "\n",
    "forward(3, genome2, x)"
   ]
  },
  {
   "cell_type": "code",
   "execution_count": 129,
   "metadata": {},
   "outputs": [
    {
     "name": "stdout",
     "output_type": "stream",
     "text": [
      "env: JAX_TRACEBACK_FILTERING=off\n"
     ]
    },
    {
     "data": {
      "text/plain": [
       "Array([0.], dtype=float32)"
      ]
     },
     "execution_count": 129,
     "metadata": {},
     "output_type": "execute_result"
    }
   ],
   "source": [
    "%env JAX_TRACEBACK_FILTERING=off\n",
    "ACTIVATION_FUNCTIONS = [jax.nn.relu, jax.nn.sigmoid, jax.nn.tanh, lambda x: x]\n",
    "# ACTIVATION_FUNCTIONS = [jax.nn.relu]\n",
    "\n",
    "jax.lax.switch(0, ACTIVATION_FUNCTIONS, jnp.array([0.]))"
   ]
  }
 ],
 "metadata": {
  "kernelspec": {
   "display_name": ".venv",
   "language": "python",
   "name": "python3"
  },
  "language_info": {
   "codemirror_mode": {
    "name": "ipython",
    "version": 3
   },
   "file_extension": ".py",
   "mimetype": "text/x-python",
   "name": "python",
   "nbconvert_exporter": "python",
   "pygments_lexer": "ipython3",
   "version": "3.12.8"
  }
 },
 "nbformat": 4,
 "nbformat_minor": 2
}
