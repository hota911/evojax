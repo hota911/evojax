{
 "cells": [
  {
   "cell_type": "code",
   "execution_count": 4,
   "metadata": {},
   "outputs": [],
   "source": [
    "import argparse\n",
    "from dataclasses import dataclass\n",
    "import os\n",
    "import shutil\n",
    "import jax\n",
    "import jax.numpy as jnp\n",
    "\n",
    "from evojax.policy.base import PolicyNetwork, PolicyState\n",
    "from evojax.task.base import TaskState\n",
    "from evojax.task.slimevolley import SlimeVolley\n",
    "from evojax.policy.mlp import MLPPolicy\n",
    "from evojax.algo import CMA\n",
    "from evojax import Trainer\n",
    "from evojax import util\n",
    "\n",
    "from flax import linen as nn"
   ]
  },
  {
   "cell_type": "code",
   "execution_count": 2,
   "metadata": {},
   "outputs": [],
   "source": [
    "class NEATModel(nn.Module):\n",
    "    input_dim: int\n",
    "    output_dim: int\n",
    "    max_nodes: int\n",
    "    max_edges: int\n",
    "\n",
    "    @nn.compact\n",
    "    def __call__(self, x):\n",
    "        nodes = self.param(\n",
    "            \"nodes\", nn.initializers.zeros, (self.max_nodes, 3)\n",
    "        )  # (id, activattion)\n",
    "        edges = self.param(\n",
    "            \"edges\", nn.initializers.zeros, (self.max_edges, 3)\n",
    "        )  # (from, to, weight, enabled)\n",
    "        values = jnp.zeros((self.max_nodes,))\n",
    "        return jax.slice(values, -self.output_dim)\n",
    "\n",
    "\n",
    "class NEATPolicy(PolicyNetwork):\n",
    "    def __init__(self, input_dim: int, output_dim: int):\n",
    "        self._input_dim = input_dim\n",
    "        self._output_dim = output_dim\n",
    "        # TODO: Implement NEAT policy.\n",
    "        self.num_params = 1\n",
    "        model = NEATModel(input_dim, output_dim, 100, 100)\n",
    "        params = model.init(jax.random.PRNGKey(0), jnp.ones([1, input_dim]))\n",
    "        print(params)\n",
    "        self.num_params, format_params_fn = util.get_params_format_fn(params)\n",
    "        self._format_params_fn = jax.vmap(format_params_fn)\n",
    "        self._forward_fn = jax.vmap(model.apply)\n",
    "\n",
    "    def get_actions(\n",
    "        self, t_states, params, p_states: PolicyState\n",
    "    ) -> tuple[jax.Array, PolicyState]:\n",
    "        return self._forward_fn(params, t_states.obs), p_states"
   ]
  },
  {
   "cell_type": "code",
   "execution_count": 191,
   "metadata": {},
   "outputs": [],
   "source": [
    "@jax.tree_util.register_dataclass\n",
    "@dataclass\n",
    "class Genome:\n",
    "    \"\"\"Stores node and connection info in JAX arrays.\"\"\"\n",
    "\n",
    "    node_ids: jax.Array  # shape [num_nodes]\n",
    "    # 0: relu\n",
    "    node_activation: jax.Array  # shape [num_nodes]\n",
    "\n",
    "    # Connections.\n",
    "    conn_id: jax.Array  # shape [num_connections]\n",
    "    conn_in: jax.Array  # shape [num_connections]\n",
    "    conn_out: jax.Array  # shape [num_connections]\n",
    "    conn_weights: jax.Array  # shape [num_connections]\n",
    "    conn_enabled: jax.Array  # shape [num_connections]\n",
    "\n",
    "\n",
    "@dataclass(frozen=True)\n",
    "class Config:\n",
    "    \"\"\"Stores static info for the NEAT algorithm.\"\"\"\n",
    "\n",
    "    input_dim: int\n",
    "    output_dim: int\n",
    "    max_nodes: int\n",
    "    max_edges: int\n",
    "    max_depth: int\n",
    "\n",
    "\n",
    "config = Config(input_dim=2, output_dim=1, max_nodes=10, max_edges=20, max_depth=10)"
   ]
  },
  {
   "cell_type": "code",
   "execution_count": 186,
   "metadata": {},
   "outputs": [
    {
     "data": {
      "text/plain": [
       "Genome(node_ids=Array([[ 0,  1,  2,  3,  4, -1, -1, -1, -1, -1]], dtype=int32), node_activation=Array([[ 0,  0,  0,  0,  2, -1, -1, -1, -1, -1]], dtype=int32), conn_id=Array([[ 0,  1,  2,  3, -1, -1, -1, -1, -1, -1, -1, -1, -1, -1, -1, -1,\n",
       "        -1, -1, -1, -1]], dtype=int32), conn_in=Array([[ 0,  1,  2,  3, -1, -1, -1, -1, -1, -1, -1, -1, -1, -1, -1, -1,\n",
       "        -1, -1, -1, -1]], dtype=int32), conn_out=Array([[ 2,  3,  4,  4, -1, -1, -1, -1, -1, -1, -1, -1, -1, -1, -1, -1,\n",
       "        -1, -1, -1, -1]], dtype=int32), conn_weights=Array([[ 1.,  1.,  1.,  1., nan, nan, nan, nan, nan, nan, nan, nan, nan,\n",
       "        nan, nan, nan, nan, nan, nan, nan]], dtype=float32), conn_enabled=Array([[ True,  True,  True,  True, False, False, False, False, False,\n",
       "        False, False, False, False, False, False, False, False, False,\n",
       "        False, False]], dtype=bool))"
      ]
     },
     "execution_count": 186,
     "metadata": {},
     "output_type": "execute_result"
    }
   ],
   "source": [
    "node_ids = jnp.array([0, 1, 2, 3, 4])\n",
    "node_activation = jnp.array([0, 0, 0, 0, 2])\n",
    "\n",
    "# 0 1\n",
    "# | |\n",
    "# 2 3\n",
    "#  \\|\n",
    "#   4\n",
    "conn_id = jnp.array([0, 1, 2, 3])\n",
    "conn_in = jnp.array([0, 1, 2, 3])\n",
    "conn_out = jnp.array([2, 3, 4, 4])\n",
    "conn_weights = jnp.array([1.0, 1.0, 1.0, 1.0])\n",
    "conn_enabled = jnp.array([True, True, True, True])\n",
    "\n",
    "\n",
    "def create_genome(\n",
    "    config: Config,\n",
    "    node_ids,\n",
    "    node_activation,\n",
    "    conn_id,\n",
    "    conn_in,\n",
    "    conn_out,\n",
    "    conn_weights,\n",
    "    conn_enabled,\n",
    ") -> Genome:\n",
    "    node_pad_config = [(0, config.max_nodes - node_ids.shape[0], 0)]\n",
    "    node_ids = jax.lax.pad(node_ids, -1, node_pad_config)\n",
    "    node_activation = jax.lax.pad(node_activation, -1, node_pad_config)\n",
    "\n",
    "    conn_pad_config = [(0, config.max_edges - conn_id.shape[0], 0)]\n",
    "    conn_id = jax.lax.pad(conn_id, -1, conn_pad_config)\n",
    "    conn_in = jax.lax.pad(conn_in, -1, conn_pad_config)\n",
    "    conn_out = jax.lax.pad(conn_out, -1, conn_pad_config)\n",
    "    conn_weights = jax.lax.pad(conn_weights, jnp.nan, conn_pad_config)\n",
    "    conn_enabled = jax.lax.pad(conn_enabled, False, conn_pad_config)\n",
    "    return Genome(\n",
    "        node_ids,\n",
    "        node_activation,\n",
    "        conn_id,\n",
    "        conn_in,\n",
    "        conn_out,\n",
    "        conn_weights,\n",
    "        conn_enabled,\n",
    "    )\n",
    "\n",
    "\n",
    "genome = create_genome(\n",
    "    config,\n",
    "    node_ids,\n",
    "    node_activation,\n",
    "    conn_id,\n",
    "    conn_in,\n",
    "    conn_out,\n",
    "    conn_weights,\n",
    "    conn_enabled,\n",
    ")\n",
    "genome = jax.tree.map(lambda x: jnp.array([x]), genome)\n",
    "genome"
   ]
  },
  {
   "cell_type": "code",
   "execution_count": 188,
   "metadata": {},
   "outputs": [],
   "source": [
    "def get_adjacency_matrix_fn(config: Config, genome: Genome):\n",
    "    matrix = jnp.zeros((config.max_nodes, config.max_nodes))\n",
    "    matrix = matrix + jnp.pad(\n",
    "        jnp.identity(config.input_dim),\n",
    "        (\n",
    "            (0, config.max_nodes - config.input_dim),\n",
    "            (0, config.max_nodes - config.input_dim),\n",
    "        ),\n",
    "    )\n",
    "    matrix = matrix.at[genome.conn_out, genome.conn_in].set(\n",
    "        jnp.where(genome.conn_enabled, genome.conn_weights, 0.0)\n",
    "    )\n",
    "    return matrix\n",
    "\n",
    "\n",
    "get_adjacency_matrix = jax.jit(\n",
    "    jax.vmap(get_adjacency_matrix_fn, in_axes=(None, 0)), static_argnums=(0)\n",
    ")"
   ]
  },
  {
   "cell_type": "code",
   "execution_count": 54,
   "metadata": {},
   "outputs": [
    {
     "data": {
      "text/plain": [
       "<PjitFunction of <function get_adjacency_matrix_fn at 0x3050f6840>>"
      ]
     },
     "metadata": {},
     "output_type": "display_data"
    }
   ],
   "source": [
    "display(get_adjacency_matrix)"
   ]
  },
  {
   "cell_type": "code",
   "execution_count": 196,
   "metadata": {},
   "outputs": [
    {
     "data": {
      "text/plain": [
       "Array([[[1., 0., 0., 0., 0., 0., 0., 0., 0., 0.],\n",
       "        [0., 1., 0., 0., 0., 0., 0., 0., 0., 0.],\n",
       "        [1., 0., 0., 0., 0., 0., 0., 0., 0., 0.],\n",
       "        [0., 1., 0., 0., 0., 0., 0., 0., 0., 0.],\n",
       "        [0., 0., 1., 1., 0., 0., 0., 0., 0., 0.],\n",
       "        [0., 0., 0., 0., 0., 0., 0., 0., 0., 0.],\n",
       "        [0., 0., 0., 0., 0., 0., 0., 0., 0., 0.],\n",
       "        [0., 0., 0., 0., 0., 0., 0., 0., 0., 0.],\n",
       "        [0., 0., 0., 0., 0., 0., 0., 0., 0., 0.],\n",
       "        [0., 0., 0., 0., 0., 0., 0., 0., 0., 0.]]], dtype=float32)"
      ]
     },
     "metadata": {},
     "output_type": "display_data"
    },
    {
     "data": {
      "text/plain": [
       "Array([[1., 1., 1., 1., 0., 0., 0., 0., 0., 0.]], dtype=float32)"
      ]
     },
     "metadata": {},
     "output_type": "display_data"
    },
    {
     "data": {
      "text/plain": [
       "Array([[1., 1., 1., 1., 2., 0., 0., 0., 0., 0.]], dtype=float32)"
      ]
     },
     "metadata": {},
     "output_type": "display_data"
    },
    {
     "data": {
      "text/plain": [
       "Array([[1., 1., 1., 1., 2., 0., 0., 0., 0., 0.]], dtype=float32)"
      ]
     },
     "metadata": {},
     "output_type": "display_data"
    }
   ],
   "source": [
    "adj = get_adjacency_matrix(config, genome)\n",
    "display(adj)\n",
    "\n",
    "\n",
    "def matmul_fn(adj, x):\n",
    "    return jnp.matmul(adj, x)\n",
    "\n",
    "\n",
    "matmul = jax.vmap(matmul_fn)\n",
    "x = jnp.stack([jnp.pad(jnp.array([1, 1, 0, 0, 0]), (0, 5))])\n",
    "display(matmul(adj, x))\n",
    "display(matmul(adj, matmul(adj, x)))\n",
    "display(matmul(adj, matmul(adj, matmul(adj, x))))"
   ]
  },
  {
   "cell_type": "code",
   "execution_count": 199,
   "metadata": {},
   "outputs": [
    {
     "name": "stdout",
     "output_type": "stream",
     "text": [
      "(10,)\n",
      "(10, 10)\n",
      "(10,)\n",
      "(10,)\n",
      "(10, 10)\n",
      "(10,)\n",
      "(10,)\n",
      "(10, 10)\n",
      "(10,)\n",
      "(10,)\n",
      "(10, 10)\n",
      "(10,)\n",
      "(10,)\n",
      "(10, 10)\n",
      "(10,)\n",
      "(10,)\n",
      "(10, 10)\n",
      "(10,)\n",
      "(10,)\n",
      "(10, 10)\n",
      "(10,)\n",
      "(10,)\n",
      "(10, 10)\n",
      "(10,)\n",
      "(10,)\n",
      "(10, 10)\n",
      "(10,)\n",
      "(10,)\n",
      "(10, 10)\n",
      "(10,)\n",
      "(10,)\n"
     ]
    },
    {
     "data": {
      "text/plain": [
       "Array([[1.      , 1.      , 1.      , 1.      , 0.880797, 0.      ,\n",
       "        0.      , 0.      , 0.      , 0.      ]], dtype=float32)"
      ]
     },
     "execution_count": 199,
     "metadata": {},
     "output_type": "execute_result"
    }
   ],
   "source": [
    "# TODO: Check NEAT-python for activation functions.\n",
    "ACTIVATION_FUNCTIONS = [lambda x: x, jax.nn.relu, jax.nn.sigmoid, jax.nn.tanh]\n",
    "\n",
    "\n",
    "def forward_fn(config: Config, genome: Genome, x: jax.Array):\n",
    "    print(genome.node_ids.shape)\n",
    "    adj = get_adjacency_matrix_fn(config, genome)\n",
    "    for _ in range(config.max_depth):\n",
    "        x = matmul_fn(adj, x)\n",
    "\n",
    "        print(adj.shape)\n",
    "        print(x.shape)\n",
    "        print(genome.node_activation.shape)\n",
    "\n",
    "        # Apply the activation function.\n",
    "        def activate_fn(activation, x):\n",
    "            return jax.lax.switch(activation, ACTIVATION_FUNCTIONS, x)\n",
    "\n",
    "        activate = jax.vmap(activate_fn)\n",
    "        x = activate(genome.node_activation, x)\n",
    "    return x\n",
    "\n",
    "\n",
    "forward = jax.jit(jax.vmap(forward_fn, in_axes=(None, 0, 0)), static_argnums=(0))\n",
    "# forward = jax.vmap(forward_fn, in_axes=(None, 0, 0))\n",
    "\n",
    "forward(config, genome, x)"
   ]
  },
  {
   "cell_type": "code",
   "execution_count": 203,
   "metadata": {},
   "outputs": [
    {
     "name": "stdout",
     "output_type": "stream",
     "text": [
      "(10,)\n",
      "(10, 10)\n",
      "(10,)\n",
      "(10,)\n",
      "(10, 10)\n",
      "(10,)\n",
      "(10,)\n",
      "(10, 10)\n",
      "(10,)\n",
      "(10,)\n",
      "(10, 10)\n",
      "(10,)\n",
      "(10,)\n",
      "(10, 10)\n",
      "(10,)\n",
      "(10,)\n",
      "(10, 10)\n",
      "(10,)\n",
      "(10,)\n",
      "(10, 10)\n",
      "(10,)\n",
      "(10,)\n",
      "(10, 10)\n",
      "(10,)\n",
      "(10,)\n",
      "(10, 10)\n",
      "(10,)\n",
      "(10,)\n",
      "(10, 10)\n",
      "(10,)\n",
      "(10,)\n"
     ]
    },
    {
     "data": {
      "text/plain": [
       "Array([[1., 1., 1., 1., 2., 0., 0., 0., 0., 0.]], dtype=float32)"
      ]
     },
     "execution_count": 203,
     "metadata": {},
     "output_type": "execute_result"
    }
   ],
   "source": [
    "genome2 = create_genome(\n",
    "    config,\n",
    "    node_ids,\n",
    "    jnp.array([1, 1, 1, 1, 1]),\n",
    "    conn_id,\n",
    "    conn_in,\n",
    "    conn_out,\n",
    "    conn_weights,\n",
    "    conn_enabled,\n",
    ")\n",
    "genome2 = jax.tree.map(lambda x: jnp.array([x]), genome2)\n",
    "\n",
    "forward(config, genome2, x)"
   ]
  },
  {
   "cell_type": "code",
   "execution_count": 205,
   "metadata": {},
   "outputs": [],
   "source": [
    "import neat"
   ]
  },
  {
   "cell_type": "code",
   "execution_count": 206,
   "metadata": {},
   "outputs": [],
   "source": [
    "from evojax.task.base import TaskState"
   ]
  },
  {
   "cell_type": "code",
   "execution_count": 305,
   "metadata": {},
   "outputs": [
    {
     "name": "stdout",
     "output_type": "stream",
     "text": [
      "[[1.       1.       0.880797 1.       1.       0.       0.       0.\n",
      "  0.       0.      ]]\n",
      "(120,)\n"
     ]
    },
    {
     "ename": "IndexError",
     "evalue": "tuple index out of range",
     "output_type": "error",
     "traceback": [
      "\u001b[0;31m---------------------------------------------------------------------------\u001b[0m",
      "\u001b[0;31mIndexError\u001b[0m                                Traceback (most recent call last)",
      "\u001b[0;32m~/workspace/hota911/evojax/examples/neat.py\u001b[0m in \u001b[0;36m?\u001b[0;34m()\u001b[0m\n\u001b[1;32m    396\u001b[0m     \u001b[0mtrainer\u001b[0m\u001b[0;34m.\u001b[0m\u001b[0mrun\u001b[0m\u001b[0;34m(\u001b[0m\u001b[0mdemo_mode\u001b[0m\u001b[0;34m=\u001b[0m\u001b[0;32mFalse\u001b[0m\u001b[0;34m)\u001b[0m\u001b[0;34m\u001b[0m\u001b[0;34m\u001b[0m\u001b[0m\n\u001b[1;32m    397\u001b[0m \u001b[0;34m\u001b[0m\u001b[0m\n\u001b[1;32m    398\u001b[0m \u001b[0;34m\u001b[0m\u001b[0m\n\u001b[1;32m    399\u001b[0m \u001b[0;32mif\u001b[0m \u001b[0m__name__\u001b[0m \u001b[0;34m==\u001b[0m \u001b[0;34m\"__main__\"\u001b[0m\u001b[0;34m:\u001b[0m\u001b[0;34m\u001b[0m\u001b[0;34m\u001b[0m\u001b[0m\n\u001b[0;32m--> 400\u001b[0;31m     \u001b[0mtest1\u001b[0m\u001b[0;34m(\u001b[0m\u001b[0;34m)\u001b[0m\u001b[0;34m\u001b[0m\u001b[0;34m\u001b[0m\u001b[0m\n\u001b[0m\u001b[1;32m    401\u001b[0m     \u001b[0mtest2\u001b[0m\u001b[0;34m(\u001b[0m\u001b[0;34m)\u001b[0m\u001b[0;34m\u001b[0m\u001b[0;34m\u001b[0m\u001b[0m\n\u001b[1;32m    402\u001b[0m     \u001b[0mtest3\u001b[0m\u001b[0;34m(\u001b[0m\u001b[0;34m)\u001b[0m\u001b[0;34m\u001b[0m\u001b[0;34m\u001b[0m\u001b[0m\n",
      "\u001b[0;32m~/workspace/hota911/evojax/examples/neat.py\u001b[0m in \u001b[0;36m?\u001b[0;34m()\u001b[0m\n\u001b[1;32m    317\u001b[0m     \u001b[0mp_state\u001b[0m \u001b[0;34m=\u001b[0m \u001b[0mpolicy\u001b[0m\u001b[0;34m.\u001b[0m\u001b[0mreset\u001b[0m\u001b[0;34m(\u001b[0m\u001b[0mt_state\u001b[0m\u001b[0;34m)\u001b[0m\u001b[0;34m\u001b[0m\u001b[0;34m\u001b[0m\u001b[0m\n\u001b[1;32m    318\u001b[0m     \u001b[0mget_actions\u001b[0m \u001b[0;34m=\u001b[0m \u001b[0mjax\u001b[0m\u001b[0;34m.\u001b[0m\u001b[0mjit\u001b[0m\u001b[0;34m(\u001b[0m\u001b[0mjax\u001b[0m\u001b[0;34m.\u001b[0m\u001b[0mvmap\u001b[0m\u001b[0;34m(\u001b[0m\u001b[0mpolicy\u001b[0m\u001b[0;34m.\u001b[0m\u001b[0mget_actions\u001b[0m\u001b[0;34m)\u001b[0m\u001b[0;34m)\u001b[0m\u001b[0;34m\u001b[0m\u001b[0;34m\u001b[0m\u001b[0m\n\u001b[1;32m    319\u001b[0m     \u001b[0mconvert_to_array\u001b[0m \u001b[0;34m=\u001b[0m \u001b[0mjax\u001b[0m\u001b[0;34m.\u001b[0m\u001b[0mjit\u001b[0m\u001b[0;34m(\u001b[0m\u001b[0mjax\u001b[0m\u001b[0;34m.\u001b[0m\u001b[0mvmap\u001b[0m\u001b[0;34m(\u001b[0m\u001b[0mconvert_to_array_fn\u001b[0m\u001b[0;34m)\u001b[0m\u001b[0;34m)\u001b[0m\u001b[0;34m\u001b[0m\u001b[0;34m\u001b[0m\u001b[0m\n\u001b[1;32m    320\u001b[0m     \u001b[0mparams\u001b[0m \u001b[0;34m=\u001b[0m \u001b[0mconvert_to_array\u001b[0m\u001b[0;34m(\u001b[0m\u001b[0mgenome\u001b[0m\u001b[0;34m)\u001b[0m\u001b[0;34m\u001b[0m\u001b[0;34m\u001b[0m\u001b[0m\n\u001b[0;32m--> 321\u001b[0;31m     \u001b[0moutput\u001b[0m\u001b[0;34m,\u001b[0m \u001b[0mp_state\u001b[0m \u001b[0;34m=\u001b[0m \u001b[0mget_actions\u001b[0m\u001b[0;34m(\u001b[0m\u001b[0mx\u001b[0m\u001b[0;34m,\u001b[0m \u001b[0mparams\u001b[0m\u001b[0;34m,\u001b[0m \u001b[0mp_state\u001b[0m\u001b[0;34m)\u001b[0m\u001b[0;34m\u001b[0m\u001b[0;34m\u001b[0m\u001b[0m\n\u001b[0m\u001b[1;32m    322\u001b[0m     \u001b[0moutput\u001b[0m\u001b[0;34m.\u001b[0m\u001b[0mblock_until_ready\u001b[0m\u001b[0;34m(\u001b[0m\u001b[0;34m)\u001b[0m\u001b[0;34m\u001b[0m\u001b[0;34m\u001b[0m\u001b[0m\n\u001b[1;32m    323\u001b[0m \u001b[0;34m\u001b[0m\u001b[0m\n\u001b[1;32m    324\u001b[0m     \u001b[0;32massert\u001b[0m \u001b[0moutput\u001b[0m\u001b[0;34m.\u001b[0m\u001b[0mshape\u001b[0m \u001b[0;34m==\u001b[0m \u001b[0;34m(\u001b[0m\u001b[0;36m1\u001b[0m\u001b[0;34m,\u001b[0m \u001b[0;36m1\u001b[0m\u001b[0;34m)\u001b[0m\u001b[0;34m\u001b[0m\u001b[0;34m\u001b[0m\u001b[0m\n",
      "    \u001b[0;31m[... skipping hidden 19 frame]\u001b[0m\n",
      "\u001b[0;32m~/workspace/hota911/evojax/examples/neat.py\u001b[0m in \u001b[0;36m?\u001b[0;34m(self, t_states, params, p_states)\u001b[0m\n\u001b[1;32m    208\u001b[0m     def get_actions(\n\u001b[1;32m    209\u001b[0m         \u001b[0mself\u001b[0m\u001b[0;34m,\u001b[0m \u001b[0mt_states\u001b[0m\u001b[0;34m,\u001b[0m \u001b[0mparams\u001b[0m\u001b[0;34m:\u001b[0m \u001b[0mjax\u001b[0m\u001b[0;34m.\u001b[0m\u001b[0mArray\u001b[0m\u001b[0;34m,\u001b[0m \u001b[0mp_states\u001b[0m\u001b[0;34m:\u001b[0m \u001b[0mPolicyState\u001b[0m\u001b[0;34m\u001b[0m\u001b[0;34m\u001b[0m\u001b[0m\n\u001b[1;32m    210\u001b[0m     \u001b[0;34m)\u001b[0m \u001b[0;34m->\u001b[0m \u001b[0mtuple\u001b[0m\u001b[0;34m[\u001b[0m\u001b[0mjax\u001b[0m\u001b[0;34m.\u001b[0m\u001b[0mArray\u001b[0m\u001b[0;34m,\u001b[0m \u001b[0mPolicyState\u001b[0m\u001b[0;34m]\u001b[0m\u001b[0;34m:\u001b[0m\u001b[0;34m\u001b[0m\u001b[0;34m\u001b[0m\u001b[0m\n\u001b[1;32m    211\u001b[0m         \u001b[0mprint\u001b[0m\u001b[0;34m(\u001b[0m\u001b[0mparams\u001b[0m\u001b[0;34m.\u001b[0m\u001b[0mshape\u001b[0m\u001b[0;34m)\u001b[0m\u001b[0;34m\u001b[0m\u001b[0;34m\u001b[0m\u001b[0m\n\u001b[0;32m--> 212\u001b[0;31m         \u001b[0mparams\u001b[0m \u001b[0;34m=\u001b[0m \u001b[0mself\u001b[0m\u001b[0;34m.\u001b[0m\u001b[0m_format_params\u001b[0m\u001b[0;34m(\u001b[0m\u001b[0mparams\u001b[0m\u001b[0;34m)\u001b[0m\u001b[0;34m\u001b[0m\u001b[0;34m\u001b[0m\u001b[0m\n\u001b[0m\u001b[1;32m    213\u001b[0m         \u001b[0;32mreturn\u001b[0m \u001b[0mself\u001b[0m\u001b[0;34m.\u001b[0m\u001b[0m_forward_with_config_fn\u001b[0m\u001b[0;34m(\u001b[0m\u001b[0mt_states\u001b[0m\u001b[0;34m,\u001b[0m \u001b[0mparams\u001b[0m\u001b[0;34m)\u001b[0m\u001b[0;34m,\u001b[0m \u001b[0mp_states\u001b[0m\u001b[0;34m\u001b[0m\u001b[0;34m\u001b[0m\u001b[0m\n",
      "    \u001b[0;31m[... skipping hidden 19 frame]\u001b[0m\n",
      "\u001b[0;32m~/workspace/hota911/evojax/examples/neat.py\u001b[0m in \u001b[0;36m?\u001b[0;34m(params)\u001b[0m\n\u001b[1;32m    131\u001b[0m     \u001b[0;32mdef\u001b[0m \u001b[0mparams_format_fn\u001b[0m\u001b[0;34m(\u001b[0m\u001b[0mparams\u001b[0m\u001b[0;34m:\u001b[0m \u001b[0mjnp\u001b[0m\u001b[0;34m.\u001b[0m\u001b[0mndarray\u001b[0m\u001b[0;34m)\u001b[0m \u001b[0;34m->\u001b[0m \u001b[0mGenome\u001b[0m\u001b[0;34m:\u001b[0m\u001b[0;34m\u001b[0m\u001b[0;34m\u001b[0m\u001b[0m\n\u001b[1;32m    132\u001b[0m         \u001b[0;31m# We use loop here.\u001b[0m\u001b[0;34m\u001b[0m\u001b[0;34m\u001b[0m\u001b[0m\n\u001b[1;32m    133\u001b[0m         \u001b[0;31m# TODO: Check the performance of this function (e.g. jax.lax.map)\u001b[0m\u001b[0;34m\u001b[0m\u001b[0;34m\u001b[0m\u001b[0m\n\u001b[0;32m--> 134\u001b[0;31m         \u001b[0mparts\u001b[0m \u001b[0;34m=\u001b[0m \u001b[0mjnp\u001b[0m\u001b[0;34m.\u001b[0m\u001b[0msplit\u001b[0m\u001b[0;34m(\u001b[0m\u001b[0mparams\u001b[0m\u001b[0;34m,\u001b[0m \u001b[0mparams_sizes\u001b[0m\u001b[0;34m,\u001b[0m \u001b[0maxis\u001b[0m\u001b[0;34m=\u001b[0m\u001b[0;34m-\u001b[0m\u001b[0;36m1\u001b[0m\u001b[0;34m)\u001b[0m\u001b[0;34m\u001b[0m\u001b[0;34m\u001b[0m\u001b[0m\n\u001b[0m\u001b[1;32m    135\u001b[0m         \u001b[0mleaves\u001b[0m \u001b[0;34m=\u001b[0m \u001b[0;34m[\u001b[0m\u001b[0mjnp\u001b[0m\u001b[0;34m.\u001b[0m\u001b[0masarray\u001b[0m\u001b[0;34m(\u001b[0m\u001b[0mp\u001b[0m\u001b[0;34m,\u001b[0m \u001b[0mdtype\u001b[0m\u001b[0;34m=\u001b[0m\u001b[0md\u001b[0m\u001b[0;34m)\u001b[0m \u001b[0;32mfor\u001b[0m \u001b[0mp\u001b[0m\u001b[0;34m,\u001b[0m \u001b[0md\u001b[0m \u001b[0;32min\u001b[0m \u001b[0mzip\u001b[0m\u001b[0;34m(\u001b[0m\u001b[0mparts\u001b[0m\u001b[0;34m,\u001b[0m \u001b[0minfo\u001b[0m\u001b[0;34m)\u001b[0m\u001b[0;34m]\u001b[0m\u001b[0;34m\u001b[0m\u001b[0;34m\u001b[0m\u001b[0m\n\u001b[1;32m    136\u001b[0m \u001b[0;34m\u001b[0m\u001b[0m\n\u001b[1;32m    137\u001b[0m         \u001b[0;32mreturn\u001b[0m \u001b[0mjax\u001b[0m\u001b[0;34m.\u001b[0m\u001b[0mtree\u001b[0m\u001b[0;34m.\u001b[0m\u001b[0munflatten\u001b[0m\u001b[0;34m(\u001b[0m\u001b[0mtree\u001b[0m\u001b[0;34m,\u001b[0m \u001b[0mleaves\u001b[0m\u001b[0;34m)\u001b[0m\u001b[0;34m\u001b[0m\u001b[0;34m\u001b[0m\u001b[0m\n",
      "\u001b[0;32m~/workspace/hota911/evojax/.venv/lib/python3.12/site-packages/jax/_src/numpy/lax_numpy.py\u001b[0m in \u001b[0;36m?\u001b[0;34m(ary, indices_or_sections, axis)\u001b[0m\n\u001b[1;32m   3355\u001b[0m     \u001b[0;34m-\u001b[0m \u001b[0;34m:\u001b[0m\u001b[0mfunc\u001b[0m\u001b[0;34m:\u001b[0m\u001b[0;34m`\u001b[0m\u001b[0mjax\u001b[0m\u001b[0;34m.\u001b[0m\u001b[0mnumpy\u001b[0m\u001b[0;34m.\u001b[0m\u001b[0mvsplit\u001b[0m\u001b[0;34m`\u001b[0m\u001b[0;34m:\u001b[0m \u001b[0msplit\u001b[0m \u001b[0mvertically\u001b[0m\u001b[0;34m,\u001b[0m \u001b[0mi\u001b[0m\u001b[0;34m.\u001b[0m\u001b[0me\u001b[0m\u001b[0;34m.\u001b[0m \u001b[0malong\u001b[0m \u001b[0maxis\u001b[0m\u001b[0;34m=\u001b[0m\u001b[0;36m0\u001b[0m\u001b[0;34m\u001b[0m\u001b[0;34m\u001b[0m\u001b[0m\n\u001b[1;32m   3356\u001b[0m     \u001b[0;34m-\u001b[0m \u001b[0;34m:\u001b[0m\u001b[0mfunc\u001b[0m\u001b[0;34m:\u001b[0m\u001b[0;34m`\u001b[0m\u001b[0mjax\u001b[0m\u001b[0;34m.\u001b[0m\u001b[0mnumpy\u001b[0m\u001b[0;34m.\u001b[0m\u001b[0mhsplit\u001b[0m\u001b[0;34m`\u001b[0m\u001b[0;34m:\u001b[0m \u001b[0msplit\u001b[0m \u001b[0mhorizontally\u001b[0m\u001b[0;34m,\u001b[0m \u001b[0mi\u001b[0m\u001b[0;34m.\u001b[0m\u001b[0me\u001b[0m\u001b[0;34m.\u001b[0m \u001b[0malong\u001b[0m \u001b[0maxis\u001b[0m\u001b[0;34m=\u001b[0m\u001b[0;36m1\u001b[0m\u001b[0;34m\u001b[0m\u001b[0;34m\u001b[0m\u001b[0m\n\u001b[1;32m   3357\u001b[0m     \u001b[0;34m-\u001b[0m \u001b[0;34m:\u001b[0m\u001b[0mfunc\u001b[0m\u001b[0;34m:\u001b[0m\u001b[0;34m`\u001b[0m\u001b[0mjax\u001b[0m\u001b[0;34m.\u001b[0m\u001b[0mnumpy\u001b[0m\u001b[0;34m.\u001b[0m\u001b[0mdsplit\u001b[0m\u001b[0;34m`\u001b[0m\u001b[0;34m:\u001b[0m \u001b[0msplit\u001b[0m \u001b[0mdepth\u001b[0m\u001b[0;34m-\u001b[0m\u001b[0mwise\u001b[0m\u001b[0;34m,\u001b[0m \u001b[0mi\u001b[0m\u001b[0;34m.\u001b[0m\u001b[0me\u001b[0m\u001b[0;34m.\u001b[0m \u001b[0malong\u001b[0m \u001b[0maxis\u001b[0m\u001b[0;34m=\u001b[0m\u001b[0;36m2\u001b[0m\u001b[0;34m\u001b[0m\u001b[0;34m\u001b[0m\u001b[0m\n\u001b[1;32m   3358\u001b[0m   \"\"\"\n\u001b[0;32m-> 3359\u001b[0;31m   \u001b[0;32mreturn\u001b[0m \u001b[0m_split\u001b[0m\u001b[0;34m(\u001b[0m\u001b[0;34m\"split\"\u001b[0m\u001b[0;34m,\u001b[0m \u001b[0mary\u001b[0m\u001b[0;34m,\u001b[0m \u001b[0mindices_or_sections\u001b[0m\u001b[0;34m,\u001b[0m \u001b[0maxis\u001b[0m\u001b[0;34m=\u001b[0m\u001b[0maxis\u001b[0m\u001b[0;34m)\u001b[0m\u001b[0;34m\u001b[0m\u001b[0;34m\u001b[0m\u001b[0m\n\u001b[0m",
      "\u001b[0;32m~/workspace/hota911/evojax/.venv/lib/python3.12/site-packages/jax/_src/numpy/lax_numpy.py\u001b[0m in \u001b[0;36m?\u001b[0;34m(op, ary, indices_or_sections, axis)\u001b[0m\n\u001b[1;32m   3268\u001b[0m            \u001b[0maxis\u001b[0m\u001b[0;34m:\u001b[0m \u001b[0mint\u001b[0m \u001b[0;34m=\u001b[0m \u001b[0;36m0\u001b[0m\u001b[0;34m)\u001b[0m \u001b[0;34m->\u001b[0m \u001b[0mlist\u001b[0m\u001b[0;34m[\u001b[0m\u001b[0mArray\u001b[0m\u001b[0;34m]\u001b[0m\u001b[0;34m:\u001b[0m\u001b[0;34m\u001b[0m\u001b[0;34m\u001b[0m\u001b[0m\n\u001b[1;32m   3269\u001b[0m   \u001b[0mutil\u001b[0m\u001b[0;34m.\u001b[0m\u001b[0mcheck_arraylike\u001b[0m\u001b[0;34m(\u001b[0m\u001b[0mop\u001b[0m\u001b[0;34m,\u001b[0m \u001b[0mary\u001b[0m\u001b[0;34m)\u001b[0m\u001b[0;34m\u001b[0m\u001b[0;34m\u001b[0m\u001b[0m\n\u001b[1;32m   3270\u001b[0m   \u001b[0mary\u001b[0m \u001b[0;34m=\u001b[0m \u001b[0masarray\u001b[0m\u001b[0;34m(\u001b[0m\u001b[0mary\u001b[0m\u001b[0;34m)\u001b[0m\u001b[0;34m\u001b[0m\u001b[0;34m\u001b[0m\u001b[0m\n\u001b[1;32m   3271\u001b[0m   \u001b[0maxis\u001b[0m \u001b[0;34m=\u001b[0m \u001b[0mcore\u001b[0m\u001b[0;34m.\u001b[0m\u001b[0mconcrete_or_error\u001b[0m\u001b[0;34m(\u001b[0m\u001b[0moperator\u001b[0m\u001b[0;34m.\u001b[0m\u001b[0mindex\u001b[0m\u001b[0;34m,\u001b[0m \u001b[0maxis\u001b[0m\u001b[0;34m,\u001b[0m \u001b[0;34mf\"\u001b[0m\u001b[0;34min jax.numpy.\u001b[0m\u001b[0;34m{\u001b[0m\u001b[0mop\u001b[0m\u001b[0;34m}\u001b[0m\u001b[0;34m argument `axis`\u001b[0m\u001b[0;34m\"\u001b[0m\u001b[0;34m)\u001b[0m\u001b[0;34m\u001b[0m\u001b[0;34m\u001b[0m\u001b[0m\n\u001b[0;32m-> 3272\u001b[0;31m   \u001b[0msize\u001b[0m \u001b[0;34m=\u001b[0m \u001b[0mary\u001b[0m\u001b[0;34m.\u001b[0m\u001b[0mshape\u001b[0m\u001b[0;34m[\u001b[0m\u001b[0maxis\u001b[0m\u001b[0;34m]\u001b[0m\u001b[0;34m\u001b[0m\u001b[0;34m\u001b[0m\u001b[0m\n\u001b[0m\u001b[1;32m   3273\u001b[0m   if (isinstance(indices_or_sections, (tuple, list)) or\n\u001b[1;32m   3274\u001b[0m       \u001b[0misinstance\u001b[0m\u001b[0;34m(\u001b[0m\u001b[0mindices_or_sections\u001b[0m\u001b[0;34m,\u001b[0m \u001b[0;34m(\u001b[0m\u001b[0mnp\u001b[0m\u001b[0;34m.\u001b[0m\u001b[0mndarray\u001b[0m\u001b[0;34m,\u001b[0m \u001b[0mArray\u001b[0m\u001b[0;34m)\u001b[0m\u001b[0;34m)\u001b[0m \u001b[0;32mand\u001b[0m\u001b[0;34m\u001b[0m\u001b[0;34m\u001b[0m\u001b[0m\n\u001b[1;32m   3275\u001b[0m       \u001b[0mindices_or_sections\u001b[0m\u001b[0;34m.\u001b[0m\u001b[0mndim\u001b[0m \u001b[0;34m>\u001b[0m \u001b[0;36m0\u001b[0m\u001b[0;34m)\u001b[0m\u001b[0;34m:\u001b[0m\u001b[0;34m\u001b[0m\u001b[0;34m\u001b[0m\u001b[0m\n",
      "\u001b[0;31mIndexError\u001b[0m: tuple index out of range"
     ]
    }
   ],
   "source": [
    "%run neat.py"
   ]
  }
 ],
 "metadata": {
  "kernelspec": {
   "display_name": ".venv",
   "language": "python",
   "name": "python3"
  },
  "language_info": {
   "codemirror_mode": {
    "name": "ipython",
    "version": 3
   },
   "file_extension": ".py",
   "mimetype": "text/x-python",
   "name": "python",
   "nbconvert_exporter": "python",
   "pygments_lexer": "ipython3",
   "version": "3.12.8"
  }
 },
 "nbformat": 4,
 "nbformat_minor": 2
}
