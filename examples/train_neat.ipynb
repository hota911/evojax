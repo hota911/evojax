{
 "cells": [
  {
   "cell_type": "code",
   "execution_count": 1,
   "metadata": {},
   "outputs": [],
   "source": [
    "import argparse\n",
    "from dataclasses import dataclass\n",
    "import os\n",
    "import shutil\n",
    "import jax\n",
    "import jax.numpy as jnp\n",
    "\n",
    "from evojax.policy.base import PolicyNetwork, PolicyState\n",
    "from evojax.task.base import TaskState\n",
    "from evojax.task.slimevolley import SlimeVolley\n",
    "from evojax.policy.mlp import MLPPolicy\n",
    "from evojax.algo import CMA\n",
    "from evojax import Trainer\n",
    "from evojax import util\n",
    "\n",
    "from flax import linen as nn"
   ]
  },
  {
   "cell_type": "code",
   "execution_count": 2,
   "metadata": {},
   "outputs": [],
   "source": [
    "class NEATModel(nn.Module):\n",
    "    input_dim: int\n",
    "    output_dim: int\n",
    "    max_nodes: int\n",
    "    max_edges: int\n",
    "\n",
    "    @nn.compact\n",
    "    def __call__(self, x):\n",
    "        nodes = self.param(\n",
    "            \"nodes\", nn.initializers.zeros, (self.max_nodes, 3)\n",
    "        )  # (id, activattion)\n",
    "        edges = self.param(\n",
    "            \"edges\", nn.initializers.zeros, (self.max_edges, 3)\n",
    "        )  # (from, to, weight, enabled)\n",
    "        values = jnp.zeros((self.max_nodes,))\n",
    "        return jax.slice(values, -self.output_dim)\n",
    "\n",
    "\n",
    "class NEATPolicy(PolicyNetwork):\n",
    "    def __init__(self, input_dim: int, output_dim: int):\n",
    "        self._input_dim = input_dim\n",
    "        self._output_dim = output_dim\n",
    "        # TODO: Implement NEAT policy.\n",
    "        self.num_params = 1\n",
    "        model = NEATModel(input_dim, output_dim, 100, 100)\n",
    "        params = model.init(jax.random.PRNGKey(0), jnp.ones([1, input_dim]))\n",
    "        print(params)\n",
    "        self.num_params, format_params_fn = util.get_params_format_fn(params)\n",
    "        self._format_params_fn = jax.vmap(format_params_fn)\n",
    "        self._forward_fn = jax.vmap(model.apply)\n",
    "\n",
    "    def get_actions(\n",
    "        self, t_states, params, p_states: PolicyState\n",
    "    ) -> tuple[jax.Array, PolicyState]:\n",
    "        return self._forward_fn(params, t_states.obs), p_states"
   ]
  },
  {
   "cell_type": "code",
   "execution_count": 3,
   "metadata": {},
   "outputs": [],
   "source": [
    "@jax.tree_util.register_dataclass\n",
    "@dataclass\n",
    "class Genome:\n",
    "    \"\"\"Stores node and connection info in JAX arrays.\"\"\"\n",
    "\n",
    "    node_ids: jax.Array  # shape [num_nodes]\n",
    "    # 0: relu\n",
    "    node_activation: jax.Array  # shape [num_nodes]\n",
    "\n",
    "    # Connections.\n",
    "    conn_id: jax.Array  # shape [num_connections]\n",
    "    conn_in: jax.Array  # shape [num_connections]\n",
    "    conn_out: jax.Array  # shape [num_connections]\n",
    "    conn_weights: jax.Array  # shape [num_connections]\n",
    "    conn_enabled: jax.Array  # shape [num_connections]\n",
    "\n",
    "\n",
    "@dataclass(frozen=True)\n",
    "class Config:\n",
    "    \"\"\"Stores static info for the NEAT algorithm.\"\"\"\n",
    "\n",
    "    input_dim: int\n",
    "    output_dim: int\n",
    "    max_nodes: int\n",
    "    max_edges: int\n",
    "    max_depth: int\n",
    "\n",
    "\n",
    "config = Config(input_dim=2, output_dim=1, max_nodes=10, max_edges=20, max_depth=10)"
   ]
  },
  {
   "cell_type": "code",
   "execution_count": 4,
   "metadata": {},
   "outputs": [
    {
     "data": {
      "text/plain": [
       "Genome(node_ids=Array([[ 0,  1,  2,  3,  4, -1, -1, -1, -1, -1]], dtype=int32), node_activation=Array([[ 0,  0,  0,  0,  2, -1, -1, -1, -1, -1]], dtype=int32), conn_id=Array([[ 0,  1,  2,  3, -1, -1, -1, -1, -1, -1, -1, -1, -1, -1, -1, -1,\n",
       "        -1, -1, -1, -1]], dtype=int32), conn_in=Array([[ 0,  1,  2,  3, -1, -1, -1, -1, -1, -1, -1, -1, -1, -1, -1, -1,\n",
       "        -1, -1, -1, -1]], dtype=int32), conn_out=Array([[ 2,  3,  4,  4, -1, -1, -1, -1, -1, -1, -1, -1, -1, -1, -1, -1,\n",
       "        -1, -1, -1, -1]], dtype=int32), conn_weights=Array([[ 1.,  1.,  1.,  1., nan, nan, nan, nan, nan, nan, nan, nan, nan,\n",
       "        nan, nan, nan, nan, nan, nan, nan]], dtype=float32), conn_enabled=Array([[ True,  True,  True,  True, False, False, False, False, False,\n",
       "        False, False, False, False, False, False, False, False, False,\n",
       "        False, False]], dtype=bool))"
      ]
     },
     "execution_count": 4,
     "metadata": {},
     "output_type": "execute_result"
    }
   ],
   "source": [
    "node_ids = jnp.array([0, 1, 2, 3, 4])\n",
    "node_activation = jnp.array([0, 0, 0, 0, 2])\n",
    "\n",
    "# 0 1\n",
    "# | |\n",
    "# 2 3\n",
    "#  \\|\n",
    "#   4\n",
    "conn_id = jnp.array([0, 1, 2, 3])\n",
    "conn_in = jnp.array([0, 1, 2, 3])\n",
    "conn_out = jnp.array([2, 3, 4, 4])\n",
    "conn_weights = jnp.array([1.0, 1.0, 1.0, 1.0])\n",
    "conn_enabled = jnp.array([True, True, True, True])\n",
    "\n",
    "\n",
    "def create_genome(\n",
    "    config: Config,\n",
    "    node_ids,\n",
    "    node_activation,\n",
    "    conn_id,\n",
    "    conn_in,\n",
    "    conn_out,\n",
    "    conn_weights,\n",
    "    conn_enabled,\n",
    ") -> Genome:\n",
    "    node_pad_config = [(0, config.max_nodes - node_ids.shape[0], 0)]\n",
    "    node_ids = jax.lax.pad(node_ids, -1, node_pad_config)\n",
    "    node_activation = jax.lax.pad(node_activation, -1, node_pad_config)\n",
    "\n",
    "    conn_pad_config = [(0, config.max_edges - conn_id.shape[0], 0)]\n",
    "    conn_id = jax.lax.pad(conn_id, -1, conn_pad_config)\n",
    "    conn_in = jax.lax.pad(conn_in, -1, conn_pad_config)\n",
    "    conn_out = jax.lax.pad(conn_out, -1, conn_pad_config)\n",
    "    conn_weights = jax.lax.pad(conn_weights, jnp.nan, conn_pad_config)\n",
    "    conn_enabled = jax.lax.pad(conn_enabled, False, conn_pad_config)\n",
    "    return Genome(\n",
    "        node_ids,\n",
    "        node_activation,\n",
    "        conn_id,\n",
    "        conn_in,\n",
    "        conn_out,\n",
    "        conn_weights,\n",
    "        conn_enabled,\n",
    "    )\n",
    "\n",
    "\n",
    "genome = create_genome(\n",
    "    config,\n",
    "    node_ids,\n",
    "    node_activation,\n",
    "    conn_id,\n",
    "    conn_in,\n",
    "    conn_out,\n",
    "    conn_weights,\n",
    "    conn_enabled,\n",
    ")\n",
    "genome = jax.tree.map(lambda x: jnp.array([x]), genome)\n",
    "genome"
   ]
  },
  {
   "cell_type": "code",
   "execution_count": 5,
   "metadata": {},
   "outputs": [],
   "source": [
    "def get_adjacency_matrix_fn(config: Config, genome: Genome):\n",
    "    matrix = jnp.zeros((config.max_nodes, config.max_nodes))\n",
    "    matrix = matrix + jnp.pad(\n",
    "        jnp.identity(config.input_dim),\n",
    "        (\n",
    "            (0, config.max_nodes - config.input_dim),\n",
    "            (0, config.max_nodes - config.input_dim),\n",
    "        ),\n",
    "    )\n",
    "    matrix = matrix.at[genome.conn_out, genome.conn_in].set(\n",
    "        jnp.where(genome.conn_enabled, genome.conn_weights, 0.0)\n",
    "    )\n",
    "    return matrix\n",
    "\n",
    "\n",
    "get_adjacency_matrix = jax.jit(\n",
    "    jax.vmap(get_adjacency_matrix_fn, in_axes=(None, 0)), static_argnums=(0)\n",
    ")"
   ]
  },
  {
   "cell_type": "code",
   "execution_count": 6,
   "metadata": {},
   "outputs": [
    {
     "data": {
      "text/plain": [
       "<PjitFunction of <function get_adjacency_matrix_fn at 0x147efe200>>"
      ]
     },
     "metadata": {},
     "output_type": "display_data"
    }
   ],
   "source": [
    "display(get_adjacency_matrix)"
   ]
  },
  {
   "cell_type": "code",
   "execution_count": 7,
   "metadata": {},
   "outputs": [
    {
     "data": {
      "text/plain": [
       "Array([[[1., 0., 0., 0., 0., 0., 0., 0., 0., 0.],\n",
       "        [0., 1., 0., 0., 0., 0., 0., 0., 0., 0.],\n",
       "        [1., 0., 0., 0., 0., 0., 0., 0., 0., 0.],\n",
       "        [0., 1., 0., 0., 0., 0., 0., 0., 0., 0.],\n",
       "        [0., 0., 1., 1., 0., 0., 0., 0., 0., 0.],\n",
       "        [0., 0., 0., 0., 0., 0., 0., 0., 0., 0.],\n",
       "        [0., 0., 0., 0., 0., 0., 0., 0., 0., 0.],\n",
       "        [0., 0., 0., 0., 0., 0., 0., 0., 0., 0.],\n",
       "        [0., 0., 0., 0., 0., 0., 0., 0., 0., 0.],\n",
       "        [0., 0., 0., 0., 0., 0., 0., 0., 0., 0.]]], dtype=float32)"
      ]
     },
     "metadata": {},
     "output_type": "display_data"
    },
    {
     "data": {
      "text/plain": [
       "Array([[1., 1., 1., 1., 0., 0., 0., 0., 0., 0.]], dtype=float32)"
      ]
     },
     "metadata": {},
     "output_type": "display_data"
    },
    {
     "data": {
      "text/plain": [
       "Array([[1., 1., 1., 1., 2., 0., 0., 0., 0., 0.]], dtype=float32)"
      ]
     },
     "metadata": {},
     "output_type": "display_data"
    },
    {
     "data": {
      "text/plain": [
       "Array([[1., 1., 1., 1., 2., 0., 0., 0., 0., 0.]], dtype=float32)"
      ]
     },
     "metadata": {},
     "output_type": "display_data"
    }
   ],
   "source": [
    "adj = get_adjacency_matrix(config, genome)\n",
    "display(adj)\n",
    "\n",
    "\n",
    "def matmul_fn(adj, x):\n",
    "    return jnp.matmul(adj, x)\n",
    "\n",
    "\n",
    "matmul = jax.vmap(matmul_fn)\n",
    "x = jnp.stack([jnp.pad(jnp.array([1, 1, 0, 0, 0]), (0, 5))])\n",
    "display(matmul(adj, x))\n",
    "display(matmul(adj, matmul(adj, x)))\n",
    "display(matmul(adj, matmul(adj, matmul(adj, x))))"
   ]
  },
  {
   "cell_type": "code",
   "execution_count": 8,
   "metadata": {},
   "outputs": [
    {
     "name": "stdout",
     "output_type": "stream",
     "text": [
      "(10,)\n",
      "(10, 10)\n",
      "(10,)\n",
      "(10,)\n",
      "(10, 10)\n",
      "(10,)\n",
      "(10,)\n",
      "(10, 10)\n",
      "(10,)\n",
      "(10,)\n",
      "(10, 10)\n",
      "(10,)\n",
      "(10,)\n",
      "(10, 10)\n",
      "(10,)\n",
      "(10,)\n",
      "(10, 10)\n",
      "(10,)\n",
      "(10,)\n",
      "(10, 10)\n",
      "(10,)\n",
      "(10,)\n",
      "(10, 10)\n",
      "(10,)\n",
      "(10,)\n",
      "(10, 10)\n",
      "(10,)\n",
      "(10,)\n",
      "(10, 10)\n",
      "(10,)\n",
      "(10,)\n"
     ]
    },
    {
     "data": {
      "text/plain": [
       "Array([[1.      , 1.      , 1.      , 1.      , 0.880797, 0.      ,\n",
       "        0.      , 0.      , 0.      , 0.      ]], dtype=float32)"
      ]
     },
     "execution_count": 8,
     "metadata": {},
     "output_type": "execute_result"
    }
   ],
   "source": [
    "# TODO: Check NEAT-python for activation functions.\n",
    "ACTIVATION_FUNCTIONS = [lambda x: x, jax.nn.relu, jax.nn.sigmoid, jax.nn.tanh]\n",
    "\n",
    "\n",
    "def forward_fn(config: Config, genome: Genome, x: jax.Array):\n",
    "    print(genome.node_ids.shape)\n",
    "    adj = get_adjacency_matrix_fn(config, genome)\n",
    "    for _ in range(config.max_depth):\n",
    "        x = matmul_fn(adj, x)\n",
    "\n",
    "        print(adj.shape)\n",
    "        print(x.shape)\n",
    "        print(genome.node_activation.shape)\n",
    "\n",
    "        # Apply the activation function.\n",
    "        def activate_fn(activation, x):\n",
    "            return jax.lax.switch(activation, ACTIVATION_FUNCTIONS, x)\n",
    "\n",
    "        activate = jax.vmap(activate_fn)\n",
    "        x = activate(genome.node_activation, x)\n",
    "    return x\n",
    "\n",
    "\n",
    "forward = jax.jit(jax.vmap(forward_fn, in_axes=(None, 0, 0)), static_argnums=(0))\n",
    "# forward = jax.vmap(forward_fn, in_axes=(None, 0, 0))\n",
    "\n",
    "forward(config, genome, x)"
   ]
  },
  {
   "cell_type": "code",
   "execution_count": 9,
   "metadata": {},
   "outputs": [
    {
     "data": {
      "text/plain": [
       "Array([[1., 1., 1., 1., 2., 0., 0., 0., 0., 0.]], dtype=float32)"
      ]
     },
     "execution_count": 9,
     "metadata": {},
     "output_type": "execute_result"
    }
   ],
   "source": [
    "genome2 = create_genome(\n",
    "    config,\n",
    "    node_ids,\n",
    "    jnp.array([1, 1, 1, 1, 1]),\n",
    "    conn_id,\n",
    "    conn_in,\n",
    "    conn_out,\n",
    "    conn_weights,\n",
    "    conn_enabled,\n",
    ")\n",
    "genome2 = jax.tree.map(lambda x: jnp.array([x]), genome2)\n",
    "\n",
    "forward(config, genome2, x)"
   ]
  },
  {
   "cell_type": "code",
   "execution_count": 10,
   "metadata": {},
   "outputs": [],
   "source": [
    "import neat"
   ]
  },
  {
   "cell_type": "code",
   "execution_count": 11,
   "metadata": {},
   "outputs": [],
   "source": [
    "from evojax.task.base import TaskState"
   ]
  },
  {
   "cell_type": "code",
   "execution_count": 12,
   "metadata": {},
   "outputs": [
    {
     "data": {
      "text/plain": [
       "Array([[0, 1, 2, 3, 4, 5, 6, 7, 8, 9, 0, 0, 0, 0, 0, 0, 0, 0, 0, 0]],      dtype=int32)"
      ]
     },
     "execution_count": 12,
     "metadata": {},
     "output_type": "execute_result"
    }
   ],
   "source": [
    "def pad(x):\n",
    "    return jnp.pad(x, (0, 10))\n",
    "\n",
    "\n",
    "pad = jax.vmap(pad)\n",
    "pad(jnp.arange(10)[None, :])"
   ]
  },
  {
   "cell_type": "code",
   "execution_count": 13,
   "metadata": {},
   "outputs": [
    {
     "data": {
      "text/plain": [
       "Array([4, 4, 2, 4, 4, 4, 0, 2, 0, 0], dtype=int32)"
      ]
     },
     "execution_count": 13,
     "metadata": {},
     "output_type": "execute_result"
    }
   ],
   "source": [
    "idx = jnp.array([0, 1, 2, 3, 4])\n",
    "enabled = jnp.array([True, False, True, False, True])\n",
    "\n",
    "\n",
    "@jax.jit\n",
    "def chose_enabled(enabled):\n",
    "    idx = jnp.arange(enabled.shape[0])\n",
    "    filtered = jnp.sort(jnp.where(enabled, idx, -1), descending=True)\n",
    "    chosen = jax.random.randint(jax.random.PRNGKey(1), 10, 0, enabled.sum())\n",
    "    return filtered[chosen]\n",
    "\n",
    "\n",
    "chose_enabled(enabled)"
   ]
  },
  {
   "cell_type": "code",
   "execution_count": 22,
   "metadata": {},
   "outputs": [
    {
     "ename": "AttributeError",
     "evalue": "'Genome' object has no attribute 'conn_ids'",
     "output_type": "error",
     "traceback": [
      "\u001b[0;31m---------------------------------------------------------------------------\u001b[0m",
      "\u001b[0;31mAttributeError\u001b[0m                            Traceback (most recent call last)",
      "Cell \u001b[0;32mIn[22], line 7\u001b[0m\n\u001b[1;32m      4\u001b[0m     \u001b[38;5;28mprint\u001b[39m(mermaid)\n\u001b[1;32m      5\u001b[0m     display(Markdown(\u001b[38;5;124mf\u001b[39m\u001b[38;5;124m\"\u001b[39m\u001b[38;5;124m```mermaid\u001b[39m\u001b[38;5;130;01m\\n\u001b[39;00m\u001b[38;5;132;01m{\u001b[39;00mmermaid\u001b[38;5;132;01m}\u001b[39;00m\u001b[38;5;130;01m\\n\u001b[39;00m\u001b[38;5;124m```\u001b[39m\u001b[38;5;124m\"\u001b[39m))\n\u001b[0;32m----> 7\u001b[0m \u001b[43mdisplay_genome\u001b[49m\u001b[43m(\u001b[49m\u001b[43mpickup_genome\u001b[49m\u001b[43m(\u001b[49m\u001b[43mgenome\u001b[49m\u001b[43m,\u001b[49m\u001b[43m \u001b[49m\u001b[38;5;241;43m0\u001b[39;49m\u001b[43m)\u001b[49m\u001b[43m,\u001b[49m\u001b[43m \u001b[49m\u001b[43mconfig\u001b[49m\u001b[43m)\u001b[49m\n",
      "Cell \u001b[0;32mIn[22], line 3\u001b[0m, in \u001b[0;36mdisplay_genome\u001b[0;34m(genome, config, show_disabled)\u001b[0m\n\u001b[1;32m      1\u001b[0m \u001b[38;5;28;01mdef\u001b[39;00m \u001b[38;5;21mdisplay_genome\u001b[39m(genome: Genome, config: Config, show_disabled: \u001b[38;5;28mbool\u001b[39m \u001b[38;5;241m=\u001b[39m \u001b[38;5;28;01mFalse\u001b[39;00m):\n\u001b[1;32m      2\u001b[0m     \u001b[38;5;28;01mfrom\u001b[39;00m \u001b[38;5;21;01mIPython\u001b[39;00m\u001b[38;5;21;01m.\u001b[39;00m\u001b[38;5;21;01mdisplay\u001b[39;00m \u001b[38;5;28;01mimport\u001b[39;00m display, Markdown\n\u001b[0;32m----> 3\u001b[0m     mermaid \u001b[38;5;241m=\u001b[39m \u001b[43mgenome_to_mermaid\u001b[49m\u001b[43m(\u001b[49m\u001b[43mgenome\u001b[49m\u001b[43m,\u001b[49m\u001b[43m \u001b[49m\u001b[43mconfig\u001b[49m\u001b[43m,\u001b[49m\u001b[43m \u001b[49m\u001b[43mshow_disabled\u001b[49m\u001b[43m)\u001b[49m\n\u001b[1;32m      4\u001b[0m     \u001b[38;5;28mprint\u001b[39m(mermaid)\n\u001b[1;32m      5\u001b[0m     display(Markdown(\u001b[38;5;124mf\u001b[39m\u001b[38;5;124m\"\u001b[39m\u001b[38;5;124m```mermaid\u001b[39m\u001b[38;5;130;01m\\n\u001b[39;00m\u001b[38;5;132;01m{\u001b[39;00mmermaid\u001b[38;5;132;01m}\u001b[39;00m\u001b[38;5;130;01m\\n\u001b[39;00m\u001b[38;5;124m```\u001b[39m\u001b[38;5;124m\"\u001b[39m))\n",
      "File \u001b[0;32m~/workspace/hota911/evojax/examples/neat.py:205\u001b[0m, in \u001b[0;36mgenome_to_mermaid\u001b[0;34m(genome, config, show_disabled)\u001b[0m\n\u001b[1;32m    201\u001b[0m mermaid\u001b[38;5;241m.\u001b[39mappend(\u001b[38;5;124m\"\u001b[39m\u001b[38;5;124m    end\u001b[39m\u001b[38;5;124m\"\u001b[39m)\n\u001b[1;32m    203\u001b[0m \u001b[38;5;66;03m# Add connections\u001b[39;00m\n\u001b[1;32m    204\u001b[0m \u001b[38;5;28;01mfor\u001b[39;00m \u001b[38;5;28mid\u001b[39m, src, dst, w, enabled \u001b[38;5;129;01min\u001b[39;00m \u001b[38;5;28mzip\u001b[39m(\n\u001b[0;32m--> 205\u001b[0m     \u001b[43mgenome\u001b[49m\u001b[38;5;241;43m.\u001b[39;49m\u001b[43mconn_ids\u001b[49m,\n\u001b[1;32m    206\u001b[0m     genome\u001b[38;5;241m.\u001b[39mconn_in,\n\u001b[1;32m    207\u001b[0m     genome\u001b[38;5;241m.\u001b[39mconn_out,\n\u001b[1;32m    208\u001b[0m     genome\u001b[38;5;241m.\u001b[39mconn_weights,\n\u001b[1;32m    209\u001b[0m     genome\u001b[38;5;241m.\u001b[39mconn_enabled,\n\u001b[1;32m    210\u001b[0m ):\n\u001b[1;32m    211\u001b[0m     \u001b[38;5;28;01mif\u001b[39;00m \u001b[38;5;28mid\u001b[39m \u001b[38;5;241m>\u001b[39m\u001b[38;5;241m=\u001b[39m \u001b[38;5;241m0\u001b[39m \u001b[38;5;129;01mand\u001b[39;00m (show_disabled \u001b[38;5;129;01mor\u001b[39;00m enabled):\n\u001b[1;32m    212\u001b[0m         src_prefix \u001b[38;5;241m=\u001b[39m node_type(src)\n",
      "\u001b[0;31mAttributeError\u001b[0m: 'Genome' object has no attribute 'conn_ids'"
     ]
    }
   ],
   "source": [
    "def display_genome(genome: Genome, config: Config, show_disabled: bool = False):\n",
    "    from IPython.display import display, Markdown\n",
    "    mermaid = genome_to_mermaid(genome, config, show_disabled)\n",
    "    print(mermaid)\n",
    "    display(Markdown(f\"```mermaid\\n{mermaid}\\n```\"))\n",
    "\n",
    "display_genome(pickup_genome(genome, 0), config)"
   ]
  },
  {
   "cell_type": "code",
   "execution_count": 18,
   "metadata": {},
   "outputs": [
    {
     "ename": "NameError",
     "evalue": "name 'create_empty_genome_fn' is not defined",
     "output_type": "error",
     "traceback": [
      "\u001b[0;31m---------------------------------------------------------------------------\u001b[0m",
      "\u001b[0;31mNameError\u001b[0m                                 Traceback (most recent call last)",
      "Cell \u001b[0;32mIn[18], line 1\u001b[0m\n\u001b[0;32m----> 1\u001b[0m genome \u001b[38;5;241m=\u001b[39m \u001b[43mcreate_empty_genome_fn\u001b[49m(config)\n\u001b[1;32m      2\u001b[0m x \u001b[38;5;241m=\u001b[39m mutate_add_node(genome, jax\u001b[38;5;241m.\u001b[39mrandom\u001b[38;5;241m.\u001b[39mPRNGKey(\u001b[38;5;241m0\u001b[39m), \u001b[38;5;241m30\u001b[39m)[\u001b[38;5;241m0\u001b[39m]\n\u001b[1;32m      3\u001b[0m \u001b[38;5;28mprint\u001b[39m(x)\n",
      "\u001b[0;31mNameError\u001b[0m: name 'create_empty_genome_fn' is not defined"
     ]
    }
   ],
   "source": [
    "genome = create_empty_genome_fn(config)\n",
    "x = mutate_add_node(genome, jax.random.PRNGKey(0), 30)[0]\n",
    "print(x)\n",
    "display_genome(x, config, show_disabled=True)"
   ]
  },
  {
   "cell_type": "code",
   "execution_count": 19,
   "metadata": {},
   "outputs": [],
   "source": [
    "%run neat.py"
   ]
  },
  {
   "cell_type": "code",
   "execution_count": 23,
   "metadata": {},
   "outputs": [
    {
     "data": {
      "text/plain": [
       "Array(0, dtype=int32)"
      ]
     },
     "execution_count": 23,
     "metadata": {},
     "output_type": "execute_result"
    }
   ],
   "source": [
    "jnp.argmin(jnp.array([1, 2, 3, 3, 1, 1]))\n"
   ]
  },
  {
   "cell_type": "code",
   "execution_count": 34,
   "metadata": {},
   "outputs": [
    {
     "name": "stderr",
     "output_type": "stream",
     "text": [
      "DEBUG:2024-12-31 11:29:47,306:jax._src.interpreters.pxla:1906: Compiling less with global shapes and types [ShapedArray(int32[20]), ShapedArray(int32[], weak_type=True)]. Argument mapping: (UnspecifiedValue, UnspecifiedValue).\n",
      "jax._src.interpreters.pxla: 2024-12-31 11:29:47,306 [DEBUG] Compiling less with global shapes and types [ShapedArray(int32[20]), ShapedArray(int32[], weak_type=True)]. Argument mapping: (UnspecifiedValue, UnspecifiedValue).\n",
      "DEBUG:2024-12-31 11:29:47,310:jax._src.dispatch:182: Finished jaxpr to MLIR module conversion jit(less) in 0.002184153 sec\n",
      "jax._src.dispatch: 2024-12-31 11:29:47,310 [DEBUG] Finished jaxpr to MLIR module conversion jit(less) in 0.002184153 sec\n",
      "DEBUG:2024-12-31 11:29:47,311:jax._src.compiler:167: get_compile_options: num_replicas=1 num_partitions=1 device_assignment=[[CpuDevice(id=0)]]\n",
      "jax._src.compiler: 2024-12-31 11:29:47,311 [DEBUG] get_compile_options: num_replicas=1 num_partitions=1 device_assignment=[[CpuDevice(id=0)]]\n",
      "DEBUG:2024-12-31 11:29:47,312:jax._src.compiler:239: get_compile_options XLA-AutoFDO profile: using XLA-AutoFDO profile version -1\n",
      "jax._src.compiler: 2024-12-31 11:29:47,312 [DEBUG] get_compile_options XLA-AutoFDO profile: using XLA-AutoFDO profile version -1\n",
      "DEBUG:2024-12-31 11:29:47,313:jax._src.cache_key:152: get_cache_key hash of serialized computation: 6572da8d31de31b98699a632f1ccb2156a65a94d82d08b79e0bc64f1912da656\n",
      "jax._src.cache_key: 2024-12-31 11:29:47,313 [DEBUG] get_cache_key hash of serialized computation: 6572da8d31de31b98699a632f1ccb2156a65a94d82d08b79e0bc64f1912da656\n",
      "DEBUG:2024-12-31 11:29:47,314:jax._src.cache_key:158: get_cache_key hash after serializing computation: 6572da8d31de31b98699a632f1ccb2156a65a94d82d08b79e0bc64f1912da656\n",
      "jax._src.cache_key: 2024-12-31 11:29:47,314 [DEBUG] get_cache_key hash after serializing computation: 6572da8d31de31b98699a632f1ccb2156a65a94d82d08b79e0bc64f1912da656\n",
      "DEBUG:2024-12-31 11:29:47,315:jax._src.cache_key:152: get_cache_key hash of serialized jax_lib version: c8601d1831072872293c1f9c58282e40273dd0289eaea98e369c2037dc4231ae\n",
      "jax._src.cache_key: 2024-12-31 11:29:47,315 [DEBUG] get_cache_key hash of serialized jax_lib version: c8601d1831072872293c1f9c58282e40273dd0289eaea98e369c2037dc4231ae\n",
      "DEBUG:2024-12-31 11:29:47,315:jax._src.cache_key:158: get_cache_key hash after serializing jax_lib version: f1cb28b6b799176de4a5f9698c4938c513bfb0eb02af9c63a05a18530b9a800e\n",
      "jax._src.cache_key: 2024-12-31 11:29:47,315 [DEBUG] get_cache_key hash after serializing jax_lib version: f1cb28b6b799176de4a5f9698c4938c513bfb0eb02af9c63a05a18530b9a800e\n",
      "DEBUG:2024-12-31 11:29:47,316:jax._src.cache_key:152: get_cache_key hash of serialized XLA flags: e3b0c44298fc1c149afbf4c8996fb92427ae41e4649b934ca495991b7852b855\n",
      "jax._src.cache_key: 2024-12-31 11:29:47,316 [DEBUG] get_cache_key hash of serialized XLA flags: e3b0c44298fc1c149afbf4c8996fb92427ae41e4649b934ca495991b7852b855\n",
      "DEBUG:2024-12-31 11:29:47,316:jax._src.cache_key:158: get_cache_key hash after serializing XLA flags: f1cb28b6b799176de4a5f9698c4938c513bfb0eb02af9c63a05a18530b9a800e\n",
      "jax._src.cache_key: 2024-12-31 11:29:47,316 [DEBUG] get_cache_key hash after serializing XLA flags: f1cb28b6b799176de4a5f9698c4938c513bfb0eb02af9c63a05a18530b9a800e\n",
      "DEBUG:2024-12-31 11:29:47,317:jax._src.cache_key:152: get_cache_key hash of serialized compile_options: 2a589923d1622726e70feec5d7c01445d31216f10935bd44445a5b7e54325073\n",
      "jax._src.cache_key: 2024-12-31 11:29:47,317 [DEBUG] get_cache_key hash of serialized compile_options: 2a589923d1622726e70feec5d7c01445d31216f10935bd44445a5b7e54325073\n",
      "DEBUG:2024-12-31 11:29:47,317:jax._src.cache_key:158: get_cache_key hash after serializing compile_options: a043e2ab83db3de347bb8e1601afbe0c2cc2c17b8131d0cba0c8954a55446740\n",
      "jax._src.cache_key: 2024-12-31 11:29:47,317 [DEBUG] get_cache_key hash after serializing compile_options: a043e2ab83db3de347bb8e1601afbe0c2cc2c17b8131d0cba0c8954a55446740\n",
      "DEBUG:2024-12-31 11:29:47,318:jax._src.cache_key:152: get_cache_key hash of serialized accelerator_config: 102b51b9765a56a3e899f7cf0ee38e5251f9c503b357b330a49183eb7b155604\n",
      "jax._src.cache_key: 2024-12-31 11:29:47,318 [DEBUG] get_cache_key hash of serialized accelerator_config: 102b51b9765a56a3e899f7cf0ee38e5251f9c503b357b330a49183eb7b155604\n",
      "DEBUG:2024-12-31 11:29:47,318:jax._src.cache_key:158: get_cache_key hash after serializing accelerator_config: f1d7d3127f43863f8d87661212fc2787c3f3e7513e23d38974822feaf6cacf4c\n",
      "jax._src.cache_key: 2024-12-31 11:29:47,318 [DEBUG] get_cache_key hash after serializing accelerator_config: f1d7d3127f43863f8d87661212fc2787c3f3e7513e23d38974822feaf6cacf4c\n",
      "DEBUG:2024-12-31 11:29:47,319:jax._src.cache_key:152: get_cache_key hash of serialized compression: 0ea55c28f8014d8886b6248fe3da5d588f55c0823847a6b4579f1131b051b5e2\n",
      "jax._src.cache_key: 2024-12-31 11:29:47,319 [DEBUG] get_cache_key hash of serialized compression: 0ea55c28f8014d8886b6248fe3da5d588f55c0823847a6b4579f1131b051b5e2\n",
      "DEBUG:2024-12-31 11:29:47,319:jax._src.cache_key:158: get_cache_key hash after serializing compression: 8dc824727fde4a4b9faf4683692184ee3a03265d631312a821a480f7c40ef6f3\n",
      "jax._src.cache_key: 2024-12-31 11:29:47,319 [DEBUG] get_cache_key hash after serializing compression: 8dc824727fde4a4b9faf4683692184ee3a03265d631312a821a480f7c40ef6f3\n",
      "DEBUG:2024-12-31 11:29:47,319:jax._src.cache_key:152: get_cache_key hash of serialized custom_hook: e3b0c44298fc1c149afbf4c8996fb92427ae41e4649b934ca495991b7852b855\n",
      "jax._src.cache_key: 2024-12-31 11:29:47,319 [DEBUG] get_cache_key hash of serialized custom_hook: e3b0c44298fc1c149afbf4c8996fb92427ae41e4649b934ca495991b7852b855\n",
      "DEBUG:2024-12-31 11:29:47,320:jax._src.cache_key:158: get_cache_key hash after serializing custom_hook: 8dc824727fde4a4b9faf4683692184ee3a03265d631312a821a480f7c40ef6f3\n",
      "jax._src.cache_key: 2024-12-31 11:29:47,320 [DEBUG] get_cache_key hash after serializing custom_hook: 8dc824727fde4a4b9faf4683692184ee3a03265d631312a821a480f7c40ef6f3\n",
      "DEBUG:2024-12-31 11:29:47,320:jax._src.compilation_cache:215: get_executable_and_time: cache is disabled/not initialized\n",
      "jax._src.compilation_cache: 2024-12-31 11:29:47,320 [DEBUG] get_executable_and_time: cache is disabled/not initialized\n",
      "DEBUG:2024-12-31 11:29:47,321:jax._src.compiler:108: PERSISTENT COMPILATION CACHE MISS for 'jit_less' with key 'jit_less-8dc824727fde4a4b9faf4683692184ee3a03265d631312a821a480f7c40ef6f3'\n",
      "jax._src.compiler: 2024-12-31 11:29:47,321 [DEBUG] PERSISTENT COMPILATION CACHE MISS for 'jit_less' with key 'jit_less-8dc824727fde4a4b9faf4683692184ee3a03265d631312a821a480f7c40ef6f3'\n",
      "DEBUG:2024-12-31 11:29:47,344:jax._src.compiler:723: Not writing persistent cache entry for 'jit_less' because it took < 1.00 seconds to compile (0.02s)\n",
      "jax._src.compiler: 2024-12-31 11:29:47,344 [DEBUG] Not writing persistent cache entry for 'jit_less' because it took < 1.00 seconds to compile (0.02s)\n",
      "DEBUG:2024-12-31 11:29:47,345:jax._src.dispatch:182: Finished XLA compilation of jit(less) in 0.032283068 sec\n",
      "jax._src.dispatch: 2024-12-31 11:29:47,345 [DEBUG] Finished XLA compilation of jit(less) in 0.032283068 sec\n",
      "DEBUG:2024-12-31 11:29:47,347:jax._src.dispatch:182: Finished tracing + transforming iota for pjit in 0.000128984 sec\n",
      "jax._src.dispatch: 2024-12-31 11:29:47,347 [DEBUG] Finished tracing + transforming iota for pjit in 0.000128984 sec\n",
      "DEBUG:2024-12-31 11:29:47,347:jax._src.interpreters.pxla:1906: Compiling iota with global shapes and types []. Argument mapping: ().\n",
      "jax._src.interpreters.pxla: 2024-12-31 11:29:47,347 [DEBUG] Compiling iota with global shapes and types []. Argument mapping: ().\n",
      "DEBUG:2024-12-31 11:29:47,350:jax._src.dispatch:182: Finished jaxpr to MLIR module conversion jit(iota) in 0.002492189 sec\n",
      "jax._src.dispatch: 2024-12-31 11:29:47,350 [DEBUG] Finished jaxpr to MLIR module conversion jit(iota) in 0.002492189 sec\n",
      "DEBUG:2024-12-31 11:29:47,351:jax._src.compiler:167: get_compile_options: num_replicas=1 num_partitions=1 device_assignment=[[CpuDevice(id=0)]]\n",
      "jax._src.compiler: 2024-12-31 11:29:47,351 [DEBUG] get_compile_options: num_replicas=1 num_partitions=1 device_assignment=[[CpuDevice(id=0)]]\n",
      "DEBUG:2024-12-31 11:29:47,352:jax._src.compiler:239: get_compile_options XLA-AutoFDO profile: using XLA-AutoFDO profile version -1\n",
      "jax._src.compiler: 2024-12-31 11:29:47,352 [DEBUG] get_compile_options XLA-AutoFDO profile: using XLA-AutoFDO profile version -1\n",
      "DEBUG:2024-12-31 11:29:47,353:jax._src.cache_key:152: get_cache_key hash of serialized computation: 60142f19807a5009ad1f75d114215d044be54bf6e460485a5c060ec7586a9d5a\n",
      "jax._src.cache_key: 2024-12-31 11:29:47,353 [DEBUG] get_cache_key hash of serialized computation: 60142f19807a5009ad1f75d114215d044be54bf6e460485a5c060ec7586a9d5a\n",
      "DEBUG:2024-12-31 11:29:47,353:jax._src.cache_key:158: get_cache_key hash after serializing computation: 60142f19807a5009ad1f75d114215d044be54bf6e460485a5c060ec7586a9d5a\n",
      "jax._src.cache_key: 2024-12-31 11:29:47,353 [DEBUG] get_cache_key hash after serializing computation: 60142f19807a5009ad1f75d114215d044be54bf6e460485a5c060ec7586a9d5a\n",
      "DEBUG:2024-12-31 11:29:47,354:jax._src.cache_key:152: get_cache_key hash of serialized jax_lib version: c8601d1831072872293c1f9c58282e40273dd0289eaea98e369c2037dc4231ae\n",
      "jax._src.cache_key: 2024-12-31 11:29:47,354 [DEBUG] get_cache_key hash of serialized jax_lib version: c8601d1831072872293c1f9c58282e40273dd0289eaea98e369c2037dc4231ae\n",
      "DEBUG:2024-12-31 11:29:47,354:jax._src.cache_key:158: get_cache_key hash after serializing jax_lib version: 3e6fe9f2686456b9db7dfb17ca5b08c8c8572c4d86a829d7e98f24f66f1c9dbd\n",
      "jax._src.cache_key: 2024-12-31 11:29:47,354 [DEBUG] get_cache_key hash after serializing jax_lib version: 3e6fe9f2686456b9db7dfb17ca5b08c8c8572c4d86a829d7e98f24f66f1c9dbd\n",
      "DEBUG:2024-12-31 11:29:47,355:jax._src.cache_key:152: get_cache_key hash of serialized XLA flags: e3b0c44298fc1c149afbf4c8996fb92427ae41e4649b934ca495991b7852b855\n",
      "jax._src.cache_key: 2024-12-31 11:29:47,355 [DEBUG] get_cache_key hash of serialized XLA flags: e3b0c44298fc1c149afbf4c8996fb92427ae41e4649b934ca495991b7852b855\n",
      "DEBUG:2024-12-31 11:29:47,355:jax._src.cache_key:158: get_cache_key hash after serializing XLA flags: 3e6fe9f2686456b9db7dfb17ca5b08c8c8572c4d86a829d7e98f24f66f1c9dbd\n",
      "jax._src.cache_key: 2024-12-31 11:29:47,355 [DEBUG] get_cache_key hash after serializing XLA flags: 3e6fe9f2686456b9db7dfb17ca5b08c8c8572c4d86a829d7e98f24f66f1c9dbd\n",
      "DEBUG:2024-12-31 11:29:47,355:jax._src.cache_key:152: get_cache_key hash of serialized compile_options: eec506902ca3cf089eea05c06a093f5fe741a28383b1417c5ec60ae12929979d\n",
      "jax._src.cache_key: 2024-12-31 11:29:47,355 [DEBUG] get_cache_key hash of serialized compile_options: eec506902ca3cf089eea05c06a093f5fe741a28383b1417c5ec60ae12929979d\n",
      "DEBUG:2024-12-31 11:29:47,356:jax._src.cache_key:158: get_cache_key hash after serializing compile_options: b9945c5cf0668e7e61e79270369027f5d7743ead5a4e752475ce61fa57e65f58\n",
      "jax._src.cache_key: 2024-12-31 11:29:47,356 [DEBUG] get_cache_key hash after serializing compile_options: b9945c5cf0668e7e61e79270369027f5d7743ead5a4e752475ce61fa57e65f58\n",
      "DEBUG:2024-12-31 11:29:47,356:jax._src.cache_key:152: get_cache_key hash of serialized accelerator_config: 102b51b9765a56a3e899f7cf0ee38e5251f9c503b357b330a49183eb7b155604\n",
      "jax._src.cache_key: 2024-12-31 11:29:47,356 [DEBUG] get_cache_key hash of serialized accelerator_config: 102b51b9765a56a3e899f7cf0ee38e5251f9c503b357b330a49183eb7b155604\n",
      "DEBUG:2024-12-31 11:29:47,356:jax._src.cache_key:158: get_cache_key hash after serializing accelerator_config: 564b09946d87f4ede8f294933563cf560eb45694ddb101303fa987ec901c333e\n",
      "jax._src.cache_key: 2024-12-31 11:29:47,356 [DEBUG] get_cache_key hash after serializing accelerator_config: 564b09946d87f4ede8f294933563cf560eb45694ddb101303fa987ec901c333e\n",
      "DEBUG:2024-12-31 11:29:47,357:jax._src.cache_key:152: get_cache_key hash of serialized compression: 0ea55c28f8014d8886b6248fe3da5d588f55c0823847a6b4579f1131b051b5e2\n",
      "jax._src.cache_key: 2024-12-31 11:29:47,357 [DEBUG] get_cache_key hash of serialized compression: 0ea55c28f8014d8886b6248fe3da5d588f55c0823847a6b4579f1131b051b5e2\n",
      "DEBUG:2024-12-31 11:29:47,357:jax._src.cache_key:158: get_cache_key hash after serializing compression: 21df1f2ca9bc89591b828eca8070d345427b073d21b2f3a52e3d03b11541e8ee\n",
      "jax._src.cache_key: 2024-12-31 11:29:47,357 [DEBUG] get_cache_key hash after serializing compression: 21df1f2ca9bc89591b828eca8070d345427b073d21b2f3a52e3d03b11541e8ee\n",
      "DEBUG:2024-12-31 11:29:47,358:jax._src.cache_key:152: get_cache_key hash of serialized custom_hook: e3b0c44298fc1c149afbf4c8996fb92427ae41e4649b934ca495991b7852b855\n",
      "jax._src.cache_key: 2024-12-31 11:29:47,358 [DEBUG] get_cache_key hash of serialized custom_hook: e3b0c44298fc1c149afbf4c8996fb92427ae41e4649b934ca495991b7852b855\n",
      "DEBUG:2024-12-31 11:29:47,358:jax._src.cache_key:158: get_cache_key hash after serializing custom_hook: 21df1f2ca9bc89591b828eca8070d345427b073d21b2f3a52e3d03b11541e8ee\n",
      "jax._src.cache_key: 2024-12-31 11:29:47,358 [DEBUG] get_cache_key hash after serializing custom_hook: 21df1f2ca9bc89591b828eca8070d345427b073d21b2f3a52e3d03b11541e8ee\n",
      "DEBUG:2024-12-31 11:29:47,358:jax._src.compilation_cache:215: get_executable_and_time: cache is disabled/not initialized\n",
      "jax._src.compilation_cache: 2024-12-31 11:29:47,358 [DEBUG] get_executable_and_time: cache is disabled/not initialized\n",
      "DEBUG:2024-12-31 11:29:47,359:jax._src.compiler:108: PERSISTENT COMPILATION CACHE MISS for 'jit_iota' with key 'jit_iota-21df1f2ca9bc89591b828eca8070d345427b073d21b2f3a52e3d03b11541e8ee'\n",
      "jax._src.compiler: 2024-12-31 11:29:47,359 [DEBUG] PERSISTENT COMPILATION CACHE MISS for 'jit_iota' with key 'jit_iota-21df1f2ca9bc89591b828eca8070d345427b073d21b2f3a52e3d03b11541e8ee'\n",
      "DEBUG:2024-12-31 11:29:47,379:jax._src.compiler:723: Not writing persistent cache entry for 'jit_iota' because it took < 1.00 seconds to compile (0.02s)\n",
      "jax._src.compiler: 2024-12-31 11:29:47,379 [DEBUG] Not writing persistent cache entry for 'jit_iota' because it took < 1.00 seconds to compile (0.02s)\n",
      "DEBUG:2024-12-31 11:29:47,380:jax._src.dispatch:182: Finished XLA compilation of jit(iota) in 0.027609825 sec\n",
      "jax._src.dispatch: 2024-12-31 11:29:47,380 [DEBUG] Finished XLA compilation of jit(iota) in 0.027609825 sec\n",
      "DEBUG:2024-12-31 11:29:47,382:jax._src.interpreters.pxla:1906: Compiling _where with global shapes and types [ShapedArray(bool[20]), ShapedArray(int32[20]), ShapedArray(int32[], weak_type=True)]. Argument mapping: (UnspecifiedValue, UnspecifiedValue, UnspecifiedValue).\n",
      "jax._src.interpreters.pxla: 2024-12-31 11:29:47,382 [DEBUG] Compiling _where with global shapes and types [ShapedArray(bool[20]), ShapedArray(int32[20]), ShapedArray(int32[], weak_type=True)]. Argument mapping: (UnspecifiedValue, UnspecifiedValue, UnspecifiedValue).\n",
      "DEBUG:2024-12-31 11:29:47,384:jax._src.dispatch:182: Finished jaxpr to MLIR module conversion jit(_where) in 0.001829863 sec\n",
      "jax._src.dispatch: 2024-12-31 11:29:47,384 [DEBUG] Finished jaxpr to MLIR module conversion jit(_where) in 0.001829863 sec\n",
      "DEBUG:2024-12-31 11:29:47,385:jax._src.compiler:167: get_compile_options: num_replicas=1 num_partitions=1 device_assignment=[[CpuDevice(id=0)]]\n",
      "jax._src.compiler: 2024-12-31 11:29:47,385 [DEBUG] get_compile_options: num_replicas=1 num_partitions=1 device_assignment=[[CpuDevice(id=0)]]\n",
      "DEBUG:2024-12-31 11:29:47,386:jax._src.compiler:239: get_compile_options XLA-AutoFDO profile: using XLA-AutoFDO profile version -1\n",
      "jax._src.compiler: 2024-12-31 11:29:47,386 [DEBUG] get_compile_options XLA-AutoFDO profile: using XLA-AutoFDO profile version -1\n",
      "DEBUG:2024-12-31 11:29:47,386:jax._src.cache_key:152: get_cache_key hash of serialized computation: 078e12fa44dc2ae8feeb03644720a8d99ed1779f3367ad59a4236736ade7d37b\n",
      "jax._src.cache_key: 2024-12-31 11:29:47,386 [DEBUG] get_cache_key hash of serialized computation: 078e12fa44dc2ae8feeb03644720a8d99ed1779f3367ad59a4236736ade7d37b\n",
      "DEBUG:2024-12-31 11:29:47,387:jax._src.cache_key:158: get_cache_key hash after serializing computation: 078e12fa44dc2ae8feeb03644720a8d99ed1779f3367ad59a4236736ade7d37b\n",
      "jax._src.cache_key: 2024-12-31 11:29:47,387 [DEBUG] get_cache_key hash after serializing computation: 078e12fa44dc2ae8feeb03644720a8d99ed1779f3367ad59a4236736ade7d37b\n",
      "DEBUG:2024-12-31 11:29:47,387:jax._src.cache_key:152: get_cache_key hash of serialized jax_lib version: c8601d1831072872293c1f9c58282e40273dd0289eaea98e369c2037dc4231ae\n",
      "jax._src.cache_key: 2024-12-31 11:29:47,387 [DEBUG] get_cache_key hash of serialized jax_lib version: c8601d1831072872293c1f9c58282e40273dd0289eaea98e369c2037dc4231ae\n",
      "DEBUG:2024-12-31 11:29:47,388:jax._src.cache_key:158: get_cache_key hash after serializing jax_lib version: 38a88dd6f24a7cf1750a52bd58badba91c5fe7ecfea95b47e31ec486ec6d82c5\n",
      "jax._src.cache_key: 2024-12-31 11:29:47,388 [DEBUG] get_cache_key hash after serializing jax_lib version: 38a88dd6f24a7cf1750a52bd58badba91c5fe7ecfea95b47e31ec486ec6d82c5\n",
      "DEBUG:2024-12-31 11:29:47,388:jax._src.cache_key:152: get_cache_key hash of serialized XLA flags: e3b0c44298fc1c149afbf4c8996fb92427ae41e4649b934ca495991b7852b855\n",
      "jax._src.cache_key: 2024-12-31 11:29:47,388 [DEBUG] get_cache_key hash of serialized XLA flags: e3b0c44298fc1c149afbf4c8996fb92427ae41e4649b934ca495991b7852b855\n",
      "DEBUG:2024-12-31 11:29:47,389:jax._src.cache_key:158: get_cache_key hash after serializing XLA flags: 38a88dd6f24a7cf1750a52bd58badba91c5fe7ecfea95b47e31ec486ec6d82c5\n",
      "jax._src.cache_key: 2024-12-31 11:29:47,389 [DEBUG] get_cache_key hash after serializing XLA flags: 38a88dd6f24a7cf1750a52bd58badba91c5fe7ecfea95b47e31ec486ec6d82c5\n",
      "DEBUG:2024-12-31 11:29:47,389:jax._src.cache_key:152: get_cache_key hash of serialized compile_options: 3d02bb95d7db09523d74c7982f59c6df22fe45867c7974fc5e1f57c3ec90be5b\n",
      "jax._src.cache_key: 2024-12-31 11:29:47,389 [DEBUG] get_cache_key hash of serialized compile_options: 3d02bb95d7db09523d74c7982f59c6df22fe45867c7974fc5e1f57c3ec90be5b\n",
      "DEBUG:2024-12-31 11:29:47,390:jax._src.cache_key:158: get_cache_key hash after serializing compile_options: 61da9a4449b2593bc42318317647efdec6b531303b0cc5902fd4a1fb1fd52127\n",
      "jax._src.cache_key: 2024-12-31 11:29:47,390 [DEBUG] get_cache_key hash after serializing compile_options: 61da9a4449b2593bc42318317647efdec6b531303b0cc5902fd4a1fb1fd52127\n",
      "DEBUG:2024-12-31 11:29:47,390:jax._src.cache_key:152: get_cache_key hash of serialized accelerator_config: 102b51b9765a56a3e899f7cf0ee38e5251f9c503b357b330a49183eb7b155604\n",
      "jax._src.cache_key: 2024-12-31 11:29:47,390 [DEBUG] get_cache_key hash of serialized accelerator_config: 102b51b9765a56a3e899f7cf0ee38e5251f9c503b357b330a49183eb7b155604\n",
      "DEBUG:2024-12-31 11:29:47,390:jax._src.cache_key:158: get_cache_key hash after serializing accelerator_config: 60e74e63dc2fb7b36827bb8ab0a33fac0cdc0c4c7fcc04611d6dad99a0ebdd33\n",
      "jax._src.cache_key: 2024-12-31 11:29:47,390 [DEBUG] get_cache_key hash after serializing accelerator_config: 60e74e63dc2fb7b36827bb8ab0a33fac0cdc0c4c7fcc04611d6dad99a0ebdd33\n",
      "DEBUG:2024-12-31 11:29:47,391:jax._src.cache_key:152: get_cache_key hash of serialized compression: 0ea55c28f8014d8886b6248fe3da5d588f55c0823847a6b4579f1131b051b5e2\n",
      "jax._src.cache_key: 2024-12-31 11:29:47,391 [DEBUG] get_cache_key hash of serialized compression: 0ea55c28f8014d8886b6248fe3da5d588f55c0823847a6b4579f1131b051b5e2\n",
      "DEBUG:2024-12-31 11:29:47,391:jax._src.cache_key:158: get_cache_key hash after serializing compression: a49a24b0b391cd9d55f0389cf96064a72edba38b912013bab2064224b23c0d8b\n",
      "jax._src.cache_key: 2024-12-31 11:29:47,391 [DEBUG] get_cache_key hash after serializing compression: a49a24b0b391cd9d55f0389cf96064a72edba38b912013bab2064224b23c0d8b\n",
      "DEBUG:2024-12-31 11:29:47,392:jax._src.cache_key:152: get_cache_key hash of serialized custom_hook: e3b0c44298fc1c149afbf4c8996fb92427ae41e4649b934ca495991b7852b855\n",
      "jax._src.cache_key: 2024-12-31 11:29:47,392 [DEBUG] get_cache_key hash of serialized custom_hook: e3b0c44298fc1c149afbf4c8996fb92427ae41e4649b934ca495991b7852b855\n",
      "DEBUG:2024-12-31 11:29:47,392:jax._src.cache_key:158: get_cache_key hash after serializing custom_hook: a49a24b0b391cd9d55f0389cf96064a72edba38b912013bab2064224b23c0d8b\n",
      "jax._src.cache_key: 2024-12-31 11:29:47,392 [DEBUG] get_cache_key hash after serializing custom_hook: a49a24b0b391cd9d55f0389cf96064a72edba38b912013bab2064224b23c0d8b\n",
      "DEBUG:2024-12-31 11:29:47,393:jax._src.compilation_cache:215: get_executable_and_time: cache is disabled/not initialized\n",
      "jax._src.compilation_cache: 2024-12-31 11:29:47,393 [DEBUG] get_executable_and_time: cache is disabled/not initialized\n",
      "DEBUG:2024-12-31 11:29:47,393:jax._src.compiler:108: PERSISTENT COMPILATION CACHE MISS for 'jit__where' with key 'jit__where-a49a24b0b391cd9d55f0389cf96064a72edba38b912013bab2064224b23c0d8b'\n",
      "jax._src.compiler: 2024-12-31 11:29:47,393 [DEBUG] PERSISTENT COMPILATION CACHE MISS for 'jit__where' with key 'jit__where-a49a24b0b391cd9d55f0389cf96064a72edba38b912013bab2064224b23c0d8b'\n",
      "DEBUG:2024-12-31 11:29:47,414:jax._src.compiler:723: Not writing persistent cache entry for 'jit__where' because it took < 1.00 seconds to compile (0.02s)\n",
      "jax._src.compiler: 2024-12-31 11:29:47,414 [DEBUG] Not writing persistent cache entry for 'jit__where' because it took < 1.00 seconds to compile (0.02s)\n",
      "DEBUG:2024-12-31 11:29:47,415:jax._src.dispatch:182: Finished XLA compilation of jit(_where) in 0.029011011 sec\n",
      "jax._src.dispatch: 2024-12-31 11:29:47,415 [DEBUG] Finished XLA compilation of jit(_where) in 0.029011011 sec\n",
      "DEBUG:2024-12-31 11:29:47,417:jax._src.dispatch:182: Finished tracing + transforming _reduce_min for pjit in 0.000258923 sec\n",
      "jax._src.dispatch: 2024-12-31 11:29:47,417 [DEBUG] Finished tracing + transforming _reduce_min for pjit in 0.000258923 sec\n",
      "DEBUG:2024-12-31 11:29:47,418:jax._src.interpreters.pxla:1906: Compiling _reduce_min with global shapes and types [ShapedArray(int32[20])]. Argument mapping: (UnspecifiedValue,).\n",
      "jax._src.interpreters.pxla: 2024-12-31 11:29:47,418 [DEBUG] Compiling _reduce_min with global shapes and types [ShapedArray(int32[20])]. Argument mapping: (UnspecifiedValue,).\n",
      "DEBUG:2024-12-31 11:29:47,420:jax._src.dispatch:182: Finished jaxpr to MLIR module conversion jit(_reduce_min) in 0.001929998 sec\n",
      "jax._src.dispatch: 2024-12-31 11:29:47,420 [DEBUG] Finished jaxpr to MLIR module conversion jit(_reduce_min) in 0.001929998 sec\n",
      "DEBUG:2024-12-31 11:29:47,421:jax._src.compiler:167: get_compile_options: num_replicas=1 num_partitions=1 device_assignment=[[CpuDevice(id=0)]]\n",
      "jax._src.compiler: 2024-12-31 11:29:47,421 [DEBUG] get_compile_options: num_replicas=1 num_partitions=1 device_assignment=[[CpuDevice(id=0)]]\n",
      "DEBUG:2024-12-31 11:29:47,422:jax._src.compiler:239: get_compile_options XLA-AutoFDO profile: using XLA-AutoFDO profile version -1\n",
      "jax._src.compiler: 2024-12-31 11:29:47,422 [DEBUG] get_compile_options XLA-AutoFDO profile: using XLA-AutoFDO profile version -1\n",
      "DEBUG:2024-12-31 11:29:47,422:jax._src.cache_key:152: get_cache_key hash of serialized computation: 08df5e86108a896ddeeeef05ab0b9c87bcbed1dbe33576e08c84209e4229dca3\n",
      "jax._src.cache_key: 2024-12-31 11:29:47,422 [DEBUG] get_cache_key hash of serialized computation: 08df5e86108a896ddeeeef05ab0b9c87bcbed1dbe33576e08c84209e4229dca3\n",
      "DEBUG:2024-12-31 11:29:47,423:jax._src.cache_key:158: get_cache_key hash after serializing computation: 08df5e86108a896ddeeeef05ab0b9c87bcbed1dbe33576e08c84209e4229dca3\n",
      "jax._src.cache_key: 2024-12-31 11:29:47,423 [DEBUG] get_cache_key hash after serializing computation: 08df5e86108a896ddeeeef05ab0b9c87bcbed1dbe33576e08c84209e4229dca3\n",
      "DEBUG:2024-12-31 11:29:47,423:jax._src.cache_key:152: get_cache_key hash of serialized jax_lib version: c8601d1831072872293c1f9c58282e40273dd0289eaea98e369c2037dc4231ae\n",
      "jax._src.cache_key: 2024-12-31 11:29:47,423 [DEBUG] get_cache_key hash of serialized jax_lib version: c8601d1831072872293c1f9c58282e40273dd0289eaea98e369c2037dc4231ae\n",
      "DEBUG:2024-12-31 11:29:47,424:jax._src.cache_key:158: get_cache_key hash after serializing jax_lib version: 109143769cba5c1d3f3f83939f31afd343d7a93ebc2e215ce61db2c65f383249\n",
      "jax._src.cache_key: 2024-12-31 11:29:47,424 [DEBUG] get_cache_key hash after serializing jax_lib version: 109143769cba5c1d3f3f83939f31afd343d7a93ebc2e215ce61db2c65f383249\n",
      "DEBUG:2024-12-31 11:29:47,424:jax._src.cache_key:152: get_cache_key hash of serialized XLA flags: e3b0c44298fc1c149afbf4c8996fb92427ae41e4649b934ca495991b7852b855\n",
      "jax._src.cache_key: 2024-12-31 11:29:47,424 [DEBUG] get_cache_key hash of serialized XLA flags: e3b0c44298fc1c149afbf4c8996fb92427ae41e4649b934ca495991b7852b855\n",
      "DEBUG:2024-12-31 11:29:47,425:jax._src.cache_key:158: get_cache_key hash after serializing XLA flags: 109143769cba5c1d3f3f83939f31afd343d7a93ebc2e215ce61db2c65f383249\n",
      "jax._src.cache_key: 2024-12-31 11:29:47,425 [DEBUG] get_cache_key hash after serializing XLA flags: 109143769cba5c1d3f3f83939f31afd343d7a93ebc2e215ce61db2c65f383249\n",
      "DEBUG:2024-12-31 11:29:47,425:jax._src.cache_key:152: get_cache_key hash of serialized compile_options: b0cd5c86c63a84b88cb9078fbf173335e4e4596dbf5952fdcc2e59ed5266dd57\n",
      "jax._src.cache_key: 2024-12-31 11:29:47,425 [DEBUG] get_cache_key hash of serialized compile_options: b0cd5c86c63a84b88cb9078fbf173335e4e4596dbf5952fdcc2e59ed5266dd57\n",
      "DEBUG:2024-12-31 11:29:47,426:jax._src.cache_key:158: get_cache_key hash after serializing compile_options: 1695b9d4072928b6002976ffaa599d645febc78ad7d64efe3e40500718406a25\n",
      "jax._src.cache_key: 2024-12-31 11:29:47,426 [DEBUG] get_cache_key hash after serializing compile_options: 1695b9d4072928b6002976ffaa599d645febc78ad7d64efe3e40500718406a25\n",
      "DEBUG:2024-12-31 11:29:47,426:jax._src.cache_key:152: get_cache_key hash of serialized accelerator_config: 102b51b9765a56a3e899f7cf0ee38e5251f9c503b357b330a49183eb7b155604\n",
      "jax._src.cache_key: 2024-12-31 11:29:47,426 [DEBUG] get_cache_key hash of serialized accelerator_config: 102b51b9765a56a3e899f7cf0ee38e5251f9c503b357b330a49183eb7b155604\n",
      "DEBUG:2024-12-31 11:29:47,427:jax._src.cache_key:158: get_cache_key hash after serializing accelerator_config: 17e8113540f585fb4ca582f6cd2200993186cae0c6464f0fb4df1df903b3f05e\n",
      "jax._src.cache_key: 2024-12-31 11:29:47,427 [DEBUG] get_cache_key hash after serializing accelerator_config: 17e8113540f585fb4ca582f6cd2200993186cae0c6464f0fb4df1df903b3f05e\n",
      "DEBUG:2024-12-31 11:29:47,427:jax._src.cache_key:152: get_cache_key hash of serialized compression: 0ea55c28f8014d8886b6248fe3da5d588f55c0823847a6b4579f1131b051b5e2\n",
      "jax._src.cache_key: 2024-12-31 11:29:47,427 [DEBUG] get_cache_key hash of serialized compression: 0ea55c28f8014d8886b6248fe3da5d588f55c0823847a6b4579f1131b051b5e2\n",
      "DEBUG:2024-12-31 11:29:47,428:jax._src.cache_key:158: get_cache_key hash after serializing compression: eba74f35116a0528ac1ba81abb1bb96b71b99fb88c4d2221cb99e856a368faaf\n",
      "jax._src.cache_key: 2024-12-31 11:29:47,428 [DEBUG] get_cache_key hash after serializing compression: eba74f35116a0528ac1ba81abb1bb96b71b99fb88c4d2221cb99e856a368faaf\n",
      "DEBUG:2024-12-31 11:29:47,428:jax._src.cache_key:152: get_cache_key hash of serialized custom_hook: e3b0c44298fc1c149afbf4c8996fb92427ae41e4649b934ca495991b7852b855\n",
      "jax._src.cache_key: 2024-12-31 11:29:47,428 [DEBUG] get_cache_key hash of serialized custom_hook: e3b0c44298fc1c149afbf4c8996fb92427ae41e4649b934ca495991b7852b855\n",
      "DEBUG:2024-12-31 11:29:47,429:jax._src.cache_key:158: get_cache_key hash after serializing custom_hook: eba74f35116a0528ac1ba81abb1bb96b71b99fb88c4d2221cb99e856a368faaf\n",
      "jax._src.cache_key: 2024-12-31 11:29:47,429 [DEBUG] get_cache_key hash after serializing custom_hook: eba74f35116a0528ac1ba81abb1bb96b71b99fb88c4d2221cb99e856a368faaf\n",
      "DEBUG:2024-12-31 11:29:47,429:jax._src.compilation_cache:215: get_executable_and_time: cache is disabled/not initialized\n",
      "jax._src.compilation_cache: 2024-12-31 11:29:47,429 [DEBUG] get_executable_and_time: cache is disabled/not initialized\n",
      "DEBUG:2024-12-31 11:29:47,430:jax._src.compiler:108: PERSISTENT COMPILATION CACHE MISS for 'jit__reduce_min' with key 'jit__reduce_min-eba74f35116a0528ac1ba81abb1bb96b71b99fb88c4d2221cb99e856a368faaf'\n",
      "jax._src.compiler: 2024-12-31 11:29:47,430 [DEBUG] PERSISTENT COMPILATION CACHE MISS for 'jit__reduce_min' with key 'jit__reduce_min-eba74f35116a0528ac1ba81abb1bb96b71b99fb88c4d2221cb99e856a368faaf'\n",
      "DEBUG:2024-12-31 11:29:47,449:jax._src.compiler:723: Not writing persistent cache entry for 'jit__reduce_min' because it took < 1.00 seconds to compile (0.02s)\n",
      "jax._src.compiler: 2024-12-31 11:29:47,449 [DEBUG] Not writing persistent cache entry for 'jit__reduce_min' because it took < 1.00 seconds to compile (0.02s)\n",
      "DEBUG:2024-12-31 11:29:47,450:jax._src.dispatch:182: Finished XLA compilation of jit(_reduce_min) in 0.027359009 sec\n",
      "jax._src.dispatch: 2024-12-31 11:29:47,450 [DEBUG] Finished XLA compilation of jit(_reduce_min) in 0.027359009 sec\n"
     ]
    },
    {
     "data": {
      "text/plain": [
       "Array([ 0,  1, -1, -1, -1, -1, -1, -1, -1, -1, -1, -1, -1, -1, -1, -1, -1,\n",
       "       -1, -1, -1], dtype=int32)"
      ]
     },
     "execution_count": 34,
     "metadata": {},
     "output_type": "execute_result"
    }
   ],
   "source": [
    "max_conns = genome.conn_ids.shape[0]\n",
    "jnp.min(jnp.where(genome.conn_ids < 0, jnp.arange(max_conns), max_conns))\n",
    "genome.conn_ids"
   ]
  },
  {
   "cell_type": "code",
   "execution_count": 35,
   "metadata": {},
   "outputs": [
    {
     "ename": "NameError",
     "evalue": "name 'key' is not defined",
     "output_type": "error",
     "traceback": [
      "\u001b[0;31m---------------------------------------------------------------------------\u001b[0m",
      "\u001b[0;31mNameError\u001b[0m                                 Traceback (most recent call last)",
      "Cell \u001b[0;32mIn[35], line 1\u001b[0m\n\u001b[0;32m----> 1\u001b[0m key, key_src, key_dst, key_weight \u001b[38;5;241m=\u001b[39m jax\u001b[38;5;241m.\u001b[39mrandom\u001b[38;5;241m.\u001b[39msplit(\u001b[43mkey\u001b[49m, \u001b[38;5;241m4\u001b[39m)\n\u001b[1;32m      3\u001b[0m node_ids \u001b[38;5;241m=\u001b[39m genome\u001b[38;5;241m.\u001b[39mnode_ids\n\u001b[1;32m      4\u001b[0m node_activation \u001b[38;5;241m=\u001b[39m genome\u001b[38;5;241m.\u001b[39mnode_activation\n",
      "\u001b[0;31mNameError\u001b[0m: name 'key' is not defined"
     ]
    }
   ],
   "source": [
    "key, key_src, key_dst, key_weight = jax.random.split(key, 4)\n",
    "\n",
    "node_ids = genome.node_ids\n",
    "node_activation = genome.node_activation\n",
    "conn_ids = genome.conn_ids\n",
    "conn_in = genome.conn_in\n",
    "conn_out = genome.conn_out\n",
    "conn_weights = genome.conn_weights\n",
    "conn_enabled = genome.conn_enabled\n",
    "\n",
    "src = pick_one(key_src, node_ids >= 0)\n",
    "dst = pick_one(key_dst, node_ids >= 0)\n",
    "(src, dest)\n",
    "src == dst\n"
   ]
  },
  {
   "cell_type": "code",
   "execution_count": 26,
   "metadata": {},
   "outputs": [
    {
     "name": "stdout",
     "output_type": "stream",
     "text": [
      "graph TD;\n",
      "    subgraph Input\n",
      "    i0([\"Input 0\"]):::input\n",
      "    i1([\"Input 1\"]):::input\n",
      "    end\n",
      "    subgraph Output\n",
      "    o2([\"Output 2\"]):::output\n",
      "    end\n",
      "    subgraph Hidden\n",
      "    h3([\"Hidden 3\"]):::hidden_node\n",
      "    end\n",
      "    i0 -->|0.00| o2\n",
      "    i1 -->|1.00| h3\n",
      "    h3 -->|0.00| o2\n",
      "    classDef input fill:#61DAFB,stroke:#333,stroke-width:2px;\n",
      "    classDef output fill:#4EC9B0,stroke:#333,stroke-width:2px;\n",
      "    classDef hidden_node fill:#9CA3AF,stroke:#333,stroke-width:2px;\n",
      "    linkStyle default stroke:#E5E7EB,stroke-width:2px;\n"
     ]
    },
    {
     "data": {
      "text/markdown": [
       "```mermaid\n",
       "graph TD;\n",
       "    subgraph Input\n",
       "    i0([\"Input 0\"]):::input\n",
       "    i1([\"Input 1\"]):::input\n",
       "    end\n",
       "    subgraph Output\n",
       "    o2([\"Output 2\"]):::output\n",
       "    end\n",
       "    subgraph Hidden\n",
       "    h3([\"Hidden 3\"]):::hidden_node\n",
       "    end\n",
       "    i0 -->|0.00| o2\n",
       "    i1 -->|1.00| h3\n",
       "    h3 -->|0.00| o2\n",
       "    classDef input fill:#61DAFB,stroke:#333,stroke-width:2px;\n",
       "    classDef output fill:#4EC9B0,stroke:#333,stroke-width:2px;\n",
       "    classDef hidden_node fill:#9CA3AF,stroke:#333,stroke-width:2px;\n",
       "    linkStyle default stroke:#E5E7EB,stroke-width:2px;\n",
       "```"
      ],
      "text/plain": [
       "<IPython.core.display.Markdown object>"
      ]
     },
     "metadata": {},
     "output_type": "display_data"
    },
    {
     "name": "stdout",
     "output_type": "stream",
     "text": [
      "graph TD;\n",
      "    subgraph Input\n",
      "    i0([\"Input 0\"]):::input\n",
      "    i1([\"Input 1\"]):::input\n",
      "    end\n",
      "    subgraph Output\n",
      "    o2([\"Output 2\"]):::output\n",
      "    end\n",
      "    subgraph Hidden\n",
      "    h3([\"Hidden 3\"]):::hidden_node\n",
      "    end\n",
      "    i0 -->|0.00| o2\n",
      "    i1 -->|1.00| h3\n",
      "    h3 -->|0.00| o2\n",
      "    classDef input fill:#61DAFB,stroke:#333,stroke-width:2px;\n",
      "    classDef output fill:#4EC9B0,stroke:#333,stroke-width:2px;\n",
      "    classDef hidden_node fill:#9CA3AF,stroke:#333,stroke-width:2px;\n",
      "    linkStyle default stroke:#E5E7EB,stroke-width:2px;\n"
     ]
    },
    {
     "data": {
      "text/markdown": [
       "```mermaid\n",
       "graph TD;\n",
       "    subgraph Input\n",
       "    i0([\"Input 0\"]):::input\n",
       "    i1([\"Input 1\"]):::input\n",
       "    end\n",
       "    subgraph Output\n",
       "    o2([\"Output 2\"]):::output\n",
       "    end\n",
       "    subgraph Hidden\n",
       "    h3([\"Hidden 3\"]):::hidden_node\n",
       "    end\n",
       "    i0 -->|0.00| o2\n",
       "    i1 -->|1.00| h3\n",
       "    h3 -->|0.00| o2\n",
       "    classDef input fill:#61DAFB,stroke:#333,stroke-width:2px;\n",
       "    classDef output fill:#4EC9B0,stroke:#333,stroke-width:2px;\n",
       "    classDef hidden_node fill:#9CA3AF,stroke:#333,stroke-width:2px;\n",
       "    linkStyle default stroke:#E5E7EB,stroke-width:2px;\n",
       "```"
      ],
      "text/plain": [
       "<IPython.core.display.Markdown object>"
      ]
     },
     "metadata": {},
     "output_type": "display_data"
    },
    {
     "name": "stdout",
     "output_type": "stream",
     "text": [
      "graph TD;\n",
      "    subgraph Input\n",
      "    i0([\"Input 0\"]):::input\n",
      "    i1([\"Input 1\"]):::input\n",
      "    end\n",
      "    subgraph Output\n",
      "    o2([\"Output 2\"]):::output\n",
      "    end\n",
      "    subgraph Hidden\n",
      "    h3([\"Hidden 3\"]):::hidden_node\n",
      "    end\n",
      "    i0 -->|0.00| o2\n",
      "    i1 -->|1.00| h3\n",
      "    h3 -->|0.00| o2\n",
      "    classDef input fill:#61DAFB,stroke:#333,stroke-width:2px;\n",
      "    classDef output fill:#4EC9B0,stroke:#333,stroke-width:2px;\n",
      "    classDef hidden_node fill:#9CA3AF,stroke:#333,stroke-width:2px;\n",
      "    linkStyle default stroke:#E5E7EB,stroke-width:2px;\n"
     ]
    },
    {
     "data": {
      "text/markdown": [
       "```mermaid\n",
       "graph TD;\n",
       "    subgraph Input\n",
       "    i0([\"Input 0\"]):::input\n",
       "    i1([\"Input 1\"]):::input\n",
       "    end\n",
       "    subgraph Output\n",
       "    o2([\"Output 2\"]):::output\n",
       "    end\n",
       "    subgraph Hidden\n",
       "    h3([\"Hidden 3\"]):::hidden_node\n",
       "    end\n",
       "    i0 -->|0.00| o2\n",
       "    i1 -->|1.00| h3\n",
       "    h3 -->|0.00| o2\n",
       "    classDef input fill:#61DAFB,stroke:#333,stroke-width:2px;\n",
       "    classDef output fill:#4EC9B0,stroke:#333,stroke-width:2px;\n",
       "    classDef hidden_node fill:#9CA3AF,stroke:#333,stroke-width:2px;\n",
       "    linkStyle default stroke:#E5E7EB,stroke-width:2px;\n",
       "```"
      ],
      "text/plain": [
       "<IPython.core.display.Markdown object>"
      ]
     },
     "metadata": {},
     "output_type": "display_data"
    },
    {
     "name": "stdout",
     "output_type": "stream",
     "text": [
      "graph TD;\n",
      "    subgraph Input\n",
      "    i0([\"Input 0\"]):::input\n",
      "    i1([\"Input 1\"]):::input\n",
      "    end\n",
      "    subgraph Output\n",
      "    o2([\"Output 2\"]):::output\n",
      "    end\n",
      "    subgraph Hidden\n",
      "    h3([\"Hidden 3\"]):::hidden_node\n",
      "    h4([\"Hidden 4\"]):::hidden_node\n",
      "    end\n",
      "    h3 -->|0.00| o2\n",
      "    i0 -->|1.00| h4\n",
      "    h4 -->|0.00| o2\n",
      "    classDef input fill:#61DAFB,stroke:#333,stroke-width:2px;\n",
      "    classDef output fill:#4EC9B0,stroke:#333,stroke-width:2px;\n",
      "    classDef hidden_node fill:#9CA3AF,stroke:#333,stroke-width:2px;\n",
      "    linkStyle default stroke:#E5E7EB,stroke-width:2px;\n"
     ]
    },
    {
     "data": {
      "text/markdown": [
       "```mermaid\n",
       "graph TD;\n",
       "    subgraph Input\n",
       "    i0([\"Input 0\"]):::input\n",
       "    i1([\"Input 1\"]):::input\n",
       "    end\n",
       "    subgraph Output\n",
       "    o2([\"Output 2\"]):::output\n",
       "    end\n",
       "    subgraph Hidden\n",
       "    h3([\"Hidden 3\"]):::hidden_node\n",
       "    h4([\"Hidden 4\"]):::hidden_node\n",
       "    end\n",
       "    h3 -->|0.00| o2\n",
       "    i0 -->|1.00| h4\n",
       "    h4 -->|0.00| o2\n",
       "    classDef input fill:#61DAFB,stroke:#333,stroke-width:2px;\n",
       "    classDef output fill:#4EC9B0,stroke:#333,stroke-width:2px;\n",
       "    classDef hidden_node fill:#9CA3AF,stroke:#333,stroke-width:2px;\n",
       "    linkStyle default stroke:#E5E7EB,stroke-width:2px;\n",
       "```"
      ],
      "text/plain": [
       "<IPython.core.display.Markdown object>"
      ]
     },
     "metadata": {},
     "output_type": "display_data"
    },
    {
     "name": "stdout",
     "output_type": "stream",
     "text": [
      "graph TD;\n",
      "    subgraph Input\n",
      "    i0([\"Input 0\"]):::input\n",
      "    i1([\"Input 1\"]):::input\n",
      "    end\n",
      "    subgraph Output\n",
      "    o2([\"Output 2\"]):::output\n",
      "    end\n",
      "    subgraph Hidden\n",
      "    h3([\"Hidden 3\"]):::hidden_node\n",
      "    h4([\"Hidden 4\"]):::hidden_node\n",
      "    h5([\"Hidden 5\"]):::hidden_node\n",
      "    end\n",
      "    h3 -->|0.00| o2\n",
      "    i0 -->|1.00| h4\n",
      "    h4 -->|1.00| h5\n",
      "    h5 -->|0.00| o2\n",
      "    classDef input fill:#61DAFB,stroke:#333,stroke-width:2px;\n",
      "    classDef output fill:#4EC9B0,stroke:#333,stroke-width:2px;\n",
      "    classDef hidden_node fill:#9CA3AF,stroke:#333,stroke-width:2px;\n",
      "    linkStyle default stroke:#E5E7EB,stroke-width:2px;\n"
     ]
    },
    {
     "data": {
      "text/markdown": [
       "```mermaid\n",
       "graph TD;\n",
       "    subgraph Input\n",
       "    i0([\"Input 0\"]):::input\n",
       "    i1([\"Input 1\"]):::input\n",
       "    end\n",
       "    subgraph Output\n",
       "    o2([\"Output 2\"]):::output\n",
       "    end\n",
       "    subgraph Hidden\n",
       "    h3([\"Hidden 3\"]):::hidden_node\n",
       "    h4([\"Hidden 4\"]):::hidden_node\n",
       "    h5([\"Hidden 5\"]):::hidden_node\n",
       "    end\n",
       "    h3 -->|0.00| o2\n",
       "    i0 -->|1.00| h4\n",
       "    h4 -->|1.00| h5\n",
       "    h5 -->|0.00| o2\n",
       "    classDef input fill:#61DAFB,stroke:#333,stroke-width:2px;\n",
       "    classDef output fill:#4EC9B0,stroke:#333,stroke-width:2px;\n",
       "    classDef hidden_node fill:#9CA3AF,stroke:#333,stroke-width:2px;\n",
       "    linkStyle default stroke:#E5E7EB,stroke-width:2px;\n",
       "```"
      ],
      "text/plain": [
       "<IPython.core.display.Markdown object>"
      ]
     },
     "metadata": {},
     "output_type": "display_data"
    },
    {
     "name": "stdout",
     "output_type": "stream",
     "text": [
      "graph TD;\n",
      "    subgraph Input\n",
      "    i0([\"Input 0\"]):::input\n",
      "    i1([\"Input 1\"]):::input\n",
      "    end\n",
      "    subgraph Output\n",
      "    o2([\"Output 2\"]):::output\n",
      "    end\n",
      "    subgraph Hidden\n",
      "    h3([\"Hidden 3\"]):::hidden_node\n",
      "    h4([\"Hidden 4\"]):::hidden_node\n",
      "    h5([\"Hidden 5\"]):::hidden_node\n",
      "    end\n",
      "    h3 -->|0.00| o2\n",
      "    i0 -->|1.00| h4\n",
      "    h4 -->|0.00| o2\n",
      "    h4 -->|1.00| h5\n",
      "    h5 -->|0.00| o2\n",
      "    classDef input fill:#61DAFB,stroke:#333,stroke-width:2px;\n",
      "    classDef output fill:#4EC9B0,stroke:#333,stroke-width:2px;\n",
      "    classDef hidden_node fill:#9CA3AF,stroke:#333,stroke-width:2px;\n",
      "    linkStyle default stroke:#E5E7EB,stroke-width:2px;\n"
     ]
    },
    {
     "data": {
      "text/markdown": [
       "```mermaid\n",
       "graph TD;\n",
       "    subgraph Input\n",
       "    i0([\"Input 0\"]):::input\n",
       "    i1([\"Input 1\"]):::input\n",
       "    end\n",
       "    subgraph Output\n",
       "    o2([\"Output 2\"]):::output\n",
       "    end\n",
       "    subgraph Hidden\n",
       "    h3([\"Hidden 3\"]):::hidden_node\n",
       "    h4([\"Hidden 4\"]):::hidden_node\n",
       "    h5([\"Hidden 5\"]):::hidden_node\n",
       "    end\n",
       "    h3 -->|0.00| o2\n",
       "    i0 -->|1.00| h4\n",
       "    h4 -->|0.00| o2\n",
       "    h4 -->|1.00| h5\n",
       "    h5 -->|0.00| o2\n",
       "    classDef input fill:#61DAFB,stroke:#333,stroke-width:2px;\n",
       "    classDef output fill:#4EC9B0,stroke:#333,stroke-width:2px;\n",
       "    classDef hidden_node fill:#9CA3AF,stroke:#333,stroke-width:2px;\n",
       "    linkStyle default stroke:#E5E7EB,stroke-width:2px;\n",
       "```"
      ],
      "text/plain": [
       "<IPython.core.display.Markdown object>"
      ]
     },
     "metadata": {},
     "output_type": "display_data"
    },
    {
     "name": "stdout",
     "output_type": "stream",
     "text": [
      "graph TD;\n",
      "    subgraph Input\n",
      "    i0([\"Input 0\"]):::input\n",
      "    i1([\"Input 1\"]):::input\n",
      "    end\n",
      "    subgraph Output\n",
      "    o2([\"Output 2\"]):::output\n",
      "    end\n",
      "    subgraph Hidden\n",
      "    h3([\"Hidden 3\"]):::hidden_node\n",
      "    h4([\"Hidden 4\"]):::hidden_node\n",
      "    h5([\"Hidden 5\"]):::hidden_node\n",
      "    end\n",
      "    h3 -->|0.00| o2\n",
      "    i0 -->|1.00| h4\n",
      "    h4 -->|0.00| o2\n",
      "    h4 -->|1.00| h5\n",
      "    h5 -->|0.00| o2\n",
      "    classDef input fill:#61DAFB,stroke:#333,stroke-width:2px;\n",
      "    classDef output fill:#4EC9B0,stroke:#333,stroke-width:2px;\n",
      "    classDef hidden_node fill:#9CA3AF,stroke:#333,stroke-width:2px;\n",
      "    linkStyle default stroke:#E5E7EB,stroke-width:2px;\n"
     ]
    },
    {
     "data": {
      "text/markdown": [
       "```mermaid\n",
       "graph TD;\n",
       "    subgraph Input\n",
       "    i0([\"Input 0\"]):::input\n",
       "    i1([\"Input 1\"]):::input\n",
       "    end\n",
       "    subgraph Output\n",
       "    o2([\"Output 2\"]):::output\n",
       "    end\n",
       "    subgraph Hidden\n",
       "    h3([\"Hidden 3\"]):::hidden_node\n",
       "    h4([\"Hidden 4\"]):::hidden_node\n",
       "    h5([\"Hidden 5\"]):::hidden_node\n",
       "    end\n",
       "    h3 -->|0.00| o2\n",
       "    i0 -->|1.00| h4\n",
       "    h4 -->|0.00| o2\n",
       "    h4 -->|1.00| h5\n",
       "    h5 -->|0.00| o2\n",
       "    classDef input fill:#61DAFB,stroke:#333,stroke-width:2px;\n",
       "    classDef output fill:#4EC9B0,stroke:#333,stroke-width:2px;\n",
       "    classDef hidden_node fill:#9CA3AF,stroke:#333,stroke-width:2px;\n",
       "    linkStyle default stroke:#E5E7EB,stroke-width:2px;\n",
       "```"
      ],
      "text/plain": [
       "<IPython.core.display.Markdown object>"
      ]
     },
     "metadata": {},
     "output_type": "display_data"
    },
    {
     "name": "stdout",
     "output_type": "stream",
     "text": [
      "graph TD;\n",
      "    subgraph Input\n",
      "    i0([\"Input 0\"]):::input\n",
      "    i1([\"Input 1\"]):::input\n",
      "    end\n",
      "    subgraph Output\n",
      "    o2([\"Output 2\"]):::output\n",
      "    end\n",
      "    subgraph Hidden\n",
      "    h3([\"Hidden 3\"]):::hidden_node\n",
      "    h4([\"Hidden 4\"]):::hidden_node\n",
      "    h5([\"Hidden 5\"]):::hidden_node\n",
      "    end\n",
      "    h3 -->|0.00| o2\n",
      "    i0 -->|1.00| h4\n",
      "    h4 -->|0.00| o2\n",
      "    h5 -->|0.00| o2\n",
      "    classDef input fill:#61DAFB,stroke:#333,stroke-width:2px;\n",
      "    classDef output fill:#4EC9B0,stroke:#333,stroke-width:2px;\n",
      "    classDef hidden_node fill:#9CA3AF,stroke:#333,stroke-width:2px;\n",
      "    linkStyle default stroke:#E5E7EB,stroke-width:2px;\n"
     ]
    },
    {
     "data": {
      "text/markdown": [
       "```mermaid\n",
       "graph TD;\n",
       "    subgraph Input\n",
       "    i0([\"Input 0\"]):::input\n",
       "    i1([\"Input 1\"]):::input\n",
       "    end\n",
       "    subgraph Output\n",
       "    o2([\"Output 2\"]):::output\n",
       "    end\n",
       "    subgraph Hidden\n",
       "    h3([\"Hidden 3\"]):::hidden_node\n",
       "    h4([\"Hidden 4\"]):::hidden_node\n",
       "    h5([\"Hidden 5\"]):::hidden_node\n",
       "    end\n",
       "    h3 -->|0.00| o2\n",
       "    i0 -->|1.00| h4\n",
       "    h4 -->|0.00| o2\n",
       "    h5 -->|0.00| o2\n",
       "    classDef input fill:#61DAFB,stroke:#333,stroke-width:2px;\n",
       "    classDef output fill:#4EC9B0,stroke:#333,stroke-width:2px;\n",
       "    classDef hidden_node fill:#9CA3AF,stroke:#333,stroke-width:2px;\n",
       "    linkStyle default stroke:#E5E7EB,stroke-width:2px;\n",
       "```"
      ],
      "text/plain": [
       "<IPython.core.display.Markdown object>"
      ]
     },
     "metadata": {},
     "output_type": "display_data"
    },
    {
     "name": "stdout",
     "output_type": "stream",
     "text": [
      "graph TD;\n",
      "    subgraph Input\n",
      "    i0([\"Input 0\"]):::input\n",
      "    i1([\"Input 1\"]):::input\n",
      "    end\n",
      "    subgraph Output\n",
      "    o2([\"Output 2\"]):::output\n",
      "    end\n",
      "    subgraph Hidden\n",
      "    h3([\"Hidden 3\"]):::hidden_node\n",
      "    h4([\"Hidden 4\"]):::hidden_node\n",
      "    h5([\"Hidden 5\"]):::hidden_node\n",
      "    h6([\"Hidden 6\"]):::hidden_node\n",
      "    end\n",
      "    h3 -->|0.00| o2\n",
      "    i0 -->|1.00| h4\n",
      "    h4 -->|0.00| o2\n",
      "    h5 -->|0.00| o2\n",
      "    h3 -->|1.00| h6\n",
      "    h6 -->|0.00| o2\n",
      "    classDef input fill:#61DAFB,stroke:#333,stroke-width:2px;\n",
      "    classDef output fill:#4EC9B0,stroke:#333,stroke-width:2px;\n",
      "    classDef hidden_node fill:#9CA3AF,stroke:#333,stroke-width:2px;\n",
      "    linkStyle default stroke:#E5E7EB,stroke-width:2px;\n"
     ]
    },
    {
     "data": {
      "text/markdown": [
       "```mermaid\n",
       "graph TD;\n",
       "    subgraph Input\n",
       "    i0([\"Input 0\"]):::input\n",
       "    i1([\"Input 1\"]):::input\n",
       "    end\n",
       "    subgraph Output\n",
       "    o2([\"Output 2\"]):::output\n",
       "    end\n",
       "    subgraph Hidden\n",
       "    h3([\"Hidden 3\"]):::hidden_node\n",
       "    h4([\"Hidden 4\"]):::hidden_node\n",
       "    h5([\"Hidden 5\"]):::hidden_node\n",
       "    h6([\"Hidden 6\"]):::hidden_node\n",
       "    end\n",
       "    h3 -->|0.00| o2\n",
       "    i0 -->|1.00| h4\n",
       "    h4 -->|0.00| o2\n",
       "    h5 -->|0.00| o2\n",
       "    h3 -->|1.00| h6\n",
       "    h6 -->|0.00| o2\n",
       "    classDef input fill:#61DAFB,stroke:#333,stroke-width:2px;\n",
       "    classDef output fill:#4EC9B0,stroke:#333,stroke-width:2px;\n",
       "    classDef hidden_node fill:#9CA3AF,stroke:#333,stroke-width:2px;\n",
       "    linkStyle default stroke:#E5E7EB,stroke-width:2px;\n",
       "```"
      ],
      "text/plain": [
       "<IPython.core.display.Markdown object>"
      ]
     },
     "metadata": {},
     "output_type": "display_data"
    },
    {
     "name": "stdout",
     "output_type": "stream",
     "text": [
      "graph TD;\n",
      "    subgraph Input\n",
      "    i0([\"Input 0\"]):::input\n",
      "    i1([\"Input 1\"]):::input\n",
      "    end\n",
      "    subgraph Output\n",
      "    o2([\"Output 2\"]):::output\n",
      "    end\n",
      "    subgraph Hidden\n",
      "    h3([\"Hidden 3\"]):::hidden_node\n",
      "    h4([\"Hidden 4\"]):::hidden_node\n",
      "    h5([\"Hidden 5\"]):::hidden_node\n",
      "    h6([\"Hidden 6\"]):::hidden_node\n",
      "    end\n",
      "    i1 -->|-0.23| h3\n",
      "    h4 -->|0.40| o2\n",
      "    h5 -->|0.00| o2\n",
      "    h3 -->|-0.01| h6\n",
      "    classDef input fill:#61DAFB,stroke:#333,stroke-width:2px;\n",
      "    classDef output fill:#4EC9B0,stroke:#333,stroke-width:2px;\n",
      "    classDef hidden_node fill:#9CA3AF,stroke:#333,stroke-width:2px;\n",
      "    linkStyle default stroke:#E5E7EB,stroke-width:2px;\n"
     ]
    },
    {
     "data": {
      "text/markdown": [
       "```mermaid\n",
       "graph TD;\n",
       "    subgraph Input\n",
       "    i0([\"Input 0\"]):::input\n",
       "    i1([\"Input 1\"]):::input\n",
       "    end\n",
       "    subgraph Output\n",
       "    o2([\"Output 2\"]):::output\n",
       "    end\n",
       "    subgraph Hidden\n",
       "    h3([\"Hidden 3\"]):::hidden_node\n",
       "    h4([\"Hidden 4\"]):::hidden_node\n",
       "    h5([\"Hidden 5\"]):::hidden_node\n",
       "    h6([\"Hidden 6\"]):::hidden_node\n",
       "    end\n",
       "    i1 -->|-0.23| h3\n",
       "    h4 -->|0.40| o2\n",
       "    h5 -->|0.00| o2\n",
       "    h3 -->|-0.01| h6\n",
       "    classDef input fill:#61DAFB,stroke:#333,stroke-width:2px;\n",
       "    classDef output fill:#4EC9B0,stroke:#333,stroke-width:2px;\n",
       "    classDef hidden_node fill:#9CA3AF,stroke:#333,stroke-width:2px;\n",
       "    linkStyle default stroke:#E5E7EB,stroke-width:2px;\n",
       "```"
      ],
      "text/plain": [
       "<IPython.core.display.Markdown object>"
      ]
     },
     "metadata": {},
     "output_type": "display_data"
    },
    {
     "name": "stdout",
     "output_type": "stream",
     "text": [
      "graph TD;\n",
      "    subgraph Input\n",
      "    i0([\"Input 0\"]):::input\n",
      "    i1([\"Input 1\"]):::input\n",
      "    end\n",
      "    subgraph Output\n",
      "    o2([\"Output 2\"]):::output\n",
      "    end\n",
      "    subgraph Hidden\n",
      "    h3([\"Hidden 3\"]):::hidden_node\n",
      "    h4([\"Hidden 4\"]):::hidden_node\n",
      "    h5([\"Hidden 5\"]):::hidden_node\n",
      "    h6([\"Hidden 6\"]):::hidden_node\n",
      "    h7([\"Hidden 7\"]):::hidden_node\n",
      "    end\n",
      "    i1 -->|-0.23| h3\n",
      "    h4 -->|0.16| o2\n",
      "    h3 -->|-0.01| h6\n",
      "    h5 -->|1.00| h7\n",
      "    h7 -->|0.00| o2\n",
      "    classDef input fill:#61DAFB,stroke:#333,stroke-width:2px;\n",
      "    classDef output fill:#4EC9B0,stroke:#333,stroke-width:2px;\n",
      "    classDef hidden_node fill:#9CA3AF,stroke:#333,stroke-width:2px;\n",
      "    linkStyle default stroke:#E5E7EB,stroke-width:2px;\n"
     ]
    },
    {
     "data": {
      "text/markdown": [
       "```mermaid\n",
       "graph TD;\n",
       "    subgraph Input\n",
       "    i0([\"Input 0\"]):::input\n",
       "    i1([\"Input 1\"]):::input\n",
       "    end\n",
       "    subgraph Output\n",
       "    o2([\"Output 2\"]):::output\n",
       "    end\n",
       "    subgraph Hidden\n",
       "    h3([\"Hidden 3\"]):::hidden_node\n",
       "    h4([\"Hidden 4\"]):::hidden_node\n",
       "    h5([\"Hidden 5\"]):::hidden_node\n",
       "    h6([\"Hidden 6\"]):::hidden_node\n",
       "    h7([\"Hidden 7\"]):::hidden_node\n",
       "    end\n",
       "    i1 -->|-0.23| h3\n",
       "    h4 -->|0.16| o2\n",
       "    h3 -->|-0.01| h6\n",
       "    h5 -->|1.00| h7\n",
       "    h7 -->|0.00| o2\n",
       "    classDef input fill:#61DAFB,stroke:#333,stroke-width:2px;\n",
       "    classDef output fill:#4EC9B0,stroke:#333,stroke-width:2px;\n",
       "    classDef hidden_node fill:#9CA3AF,stroke:#333,stroke-width:2px;\n",
       "    linkStyle default stroke:#E5E7EB,stroke-width:2px;\n",
       "```"
      ],
      "text/plain": [
       "<IPython.core.display.Markdown object>"
      ]
     },
     "metadata": {},
     "output_type": "display_data"
    },
    {
     "name": "stdout",
     "output_type": "stream",
     "text": [
      "graph TD;\n",
      "    subgraph Input\n",
      "    i0([\"Input 0\"]):::input\n",
      "    i1([\"Input 1\"]):::input\n",
      "    end\n",
      "    subgraph Output\n",
      "    o2([\"Output 2\"]):::output\n",
      "    end\n",
      "    subgraph Hidden\n",
      "    h3([\"Hidden 3\"]):::hidden_node\n",
      "    h4([\"Hidden 4\"]):::hidden_node\n",
      "    h5([\"Hidden 5\"]):::hidden_node\n",
      "    h6([\"Hidden 6\"]):::hidden_node\n",
      "    h7([\"Hidden 7\"]):::hidden_node\n",
      "    end\n",
      "    i1 -->|-0.23| h3\n",
      "    h4 -->|0.16| o2\n",
      "    h3 -->|-0.01| h6\n",
      "    h5 -->|1.00| h7\n",
      "    h7 -->|0.00| o2\n",
      "    classDef input fill:#61DAFB,stroke:#333,stroke-width:2px;\n",
      "    classDef output fill:#4EC9B0,stroke:#333,stroke-width:2px;\n",
      "    classDef hidden_node fill:#9CA3AF,stroke:#333,stroke-width:2px;\n",
      "    linkStyle default stroke:#E5E7EB,stroke-width:2px;\n"
     ]
    },
    {
     "data": {
      "text/markdown": [
       "```mermaid\n",
       "graph TD;\n",
       "    subgraph Input\n",
       "    i0([\"Input 0\"]):::input\n",
       "    i1([\"Input 1\"]):::input\n",
       "    end\n",
       "    subgraph Output\n",
       "    o2([\"Output 2\"]):::output\n",
       "    end\n",
       "    subgraph Hidden\n",
       "    h3([\"Hidden 3\"]):::hidden_node\n",
       "    h4([\"Hidden 4\"]):::hidden_node\n",
       "    h5([\"Hidden 5\"]):::hidden_node\n",
       "    h6([\"Hidden 6\"]):::hidden_node\n",
       "    h7([\"Hidden 7\"]):::hidden_node\n",
       "    end\n",
       "    i1 -->|-0.23| h3\n",
       "    h4 -->|0.16| o2\n",
       "    h3 -->|-0.01| h6\n",
       "    h5 -->|1.00| h7\n",
       "    h7 -->|0.00| o2\n",
       "    classDef input fill:#61DAFB,stroke:#333,stroke-width:2px;\n",
       "    classDef output fill:#4EC9B0,stroke:#333,stroke-width:2px;\n",
       "    classDef hidden_node fill:#9CA3AF,stroke:#333,stroke-width:2px;\n",
       "    linkStyle default stroke:#E5E7EB,stroke-width:2px;\n",
       "```"
      ],
      "text/plain": [
       "<IPython.core.display.Markdown object>"
      ]
     },
     "metadata": {},
     "output_type": "display_data"
    },
    {
     "name": "stdout",
     "output_type": "stream",
     "text": [
      "graph TD;\n",
      "    subgraph Input\n",
      "    i0([\"Input 0\"]):::input\n",
      "    i1([\"Input 1\"]):::input\n",
      "    end\n",
      "    subgraph Output\n",
      "    o2([\"Output 2\"]):::output\n",
      "    end\n",
      "    subgraph Hidden\n",
      "    h3([\"Hidden 3\"]):::hidden_node\n",
      "    h4([\"Hidden 4\"]):::hidden_node\n",
      "    h5([\"Hidden 5\"]):::hidden_node\n",
      "    h6([\"Hidden 6\"]):::hidden_node\n",
      "    h7([\"Hidden 7\"]):::hidden_node\n",
      "    end\n",
      "    i1 -->|-0.23| h3\n",
      "    h4 -->|0.16| o2\n",
      "    h3 -->|-0.01| h6\n",
      "    h7 -->|0.00| o2\n",
      "    i0 -->|0.37| h3\n",
      "    classDef input fill:#61DAFB,stroke:#333,stroke-width:2px;\n",
      "    classDef output fill:#4EC9B0,stroke:#333,stroke-width:2px;\n",
      "    classDef hidden_node fill:#9CA3AF,stroke:#333,stroke-width:2px;\n",
      "    linkStyle default stroke:#E5E7EB,stroke-width:2px;\n"
     ]
    },
    {
     "data": {
      "text/markdown": [
       "```mermaid\n",
       "graph TD;\n",
       "    subgraph Input\n",
       "    i0([\"Input 0\"]):::input\n",
       "    i1([\"Input 1\"]):::input\n",
       "    end\n",
       "    subgraph Output\n",
       "    o2([\"Output 2\"]):::output\n",
       "    end\n",
       "    subgraph Hidden\n",
       "    h3([\"Hidden 3\"]):::hidden_node\n",
       "    h4([\"Hidden 4\"]):::hidden_node\n",
       "    h5([\"Hidden 5\"]):::hidden_node\n",
       "    h6([\"Hidden 6\"]):::hidden_node\n",
       "    h7([\"Hidden 7\"]):::hidden_node\n",
       "    end\n",
       "    i1 -->|-0.23| h3\n",
       "    h4 -->|0.16| o2\n",
       "    h3 -->|-0.01| h6\n",
       "    h7 -->|0.00| o2\n",
       "    i0 -->|0.37| h3\n",
       "    classDef input fill:#61DAFB,stroke:#333,stroke-width:2px;\n",
       "    classDef output fill:#4EC9B0,stroke:#333,stroke-width:2px;\n",
       "    classDef hidden_node fill:#9CA3AF,stroke:#333,stroke-width:2px;\n",
       "    linkStyle default stroke:#E5E7EB,stroke-width:2px;\n",
       "```"
      ],
      "text/plain": [
       "<IPython.core.display.Markdown object>"
      ]
     },
     "metadata": {},
     "output_type": "display_data"
    },
    {
     "name": "stdout",
     "output_type": "stream",
     "text": [
      "graph TD;\n",
      "    subgraph Input\n",
      "    i0([\"Input 0\"]):::input\n",
      "    i1([\"Input 1\"]):::input\n",
      "    end\n",
      "    subgraph Output\n",
      "    o2([\"Output 2\"]):::output\n",
      "    end\n",
      "    subgraph Hidden\n",
      "    h3([\"Hidden 3\"]):::hidden_node\n",
      "    h4([\"Hidden 4\"]):::hidden_node\n",
      "    h5([\"Hidden 5\"]):::hidden_node\n",
      "    h6([\"Hidden 6\"]):::hidden_node\n",
      "    h7([\"Hidden 7\"]):::hidden_node\n",
      "    h8([\"Hidden 8\"]):::hidden_node\n",
      "    end\n",
      "    i1 -->|-0.23| h3\n",
      "    h4 -->|0.16| o2\n",
      "    h7 -->|0.00| o2\n",
      "    i0 -->|0.37| h3\n",
      "    h3 -->|1.00| h8\n",
      "    h8 -->|0.80| h6\n",
      "    classDef input fill:#61DAFB,stroke:#333,stroke-width:2px;\n",
      "    classDef output fill:#4EC9B0,stroke:#333,stroke-width:2px;\n",
      "    classDef hidden_node fill:#9CA3AF,stroke:#333,stroke-width:2px;\n",
      "    linkStyle default stroke:#E5E7EB,stroke-width:2px;\n"
     ]
    },
    {
     "data": {
      "text/markdown": [
       "```mermaid\n",
       "graph TD;\n",
       "    subgraph Input\n",
       "    i0([\"Input 0\"]):::input\n",
       "    i1([\"Input 1\"]):::input\n",
       "    end\n",
       "    subgraph Output\n",
       "    o2([\"Output 2\"]):::output\n",
       "    end\n",
       "    subgraph Hidden\n",
       "    h3([\"Hidden 3\"]):::hidden_node\n",
       "    h4([\"Hidden 4\"]):::hidden_node\n",
       "    h5([\"Hidden 5\"]):::hidden_node\n",
       "    h6([\"Hidden 6\"]):::hidden_node\n",
       "    h7([\"Hidden 7\"]):::hidden_node\n",
       "    h8([\"Hidden 8\"]):::hidden_node\n",
       "    end\n",
       "    i1 -->|-0.23| h3\n",
       "    h4 -->|0.16| o2\n",
       "    h7 -->|0.00| o2\n",
       "    i0 -->|0.37| h3\n",
       "    h3 -->|1.00| h8\n",
       "    h8 -->|0.80| h6\n",
       "    classDef input fill:#61DAFB,stroke:#333,stroke-width:2px;\n",
       "    classDef output fill:#4EC9B0,stroke:#333,stroke-width:2px;\n",
       "    classDef hidden_node fill:#9CA3AF,stroke:#333,stroke-width:2px;\n",
       "    linkStyle default stroke:#E5E7EB,stroke-width:2px;\n",
       "```"
      ],
      "text/plain": [
       "<IPython.core.display.Markdown object>"
      ]
     },
     "metadata": {},
     "output_type": "display_data"
    },
    {
     "name": "stdout",
     "output_type": "stream",
     "text": [
      "graph TD;\n",
      "    subgraph Input\n",
      "    i0([\"Input 0\"]):::input\n",
      "    i1([\"Input 1\"]):::input\n",
      "    end\n",
      "    subgraph Output\n",
      "    o2([\"Output 2\"]):::output\n",
      "    end\n",
      "    subgraph Hidden\n",
      "    h3([\"Hidden 3\"]):::hidden_node\n",
      "    h4([\"Hidden 4\"]):::hidden_node\n",
      "    h5([\"Hidden 5\"]):::hidden_node\n",
      "    h6([\"Hidden 6\"]):::hidden_node\n",
      "    h7([\"Hidden 7\"]):::hidden_node\n",
      "    h8([\"Hidden 8\"]):::hidden_node\n",
      "    end\n",
      "    i1 -->|0.88| o2\n",
      "    i1 -->|-0.23| h3\n",
      "    h4 -->|-0.34| o2\n",
      "    h5 -->|0.11| h7\n",
      "    h7 -->|0.00| o2\n",
      "    i0 -->|0.37| h3\n",
      "    h3 -->|1.00| h8\n",
      "    h8 -->|0.80| h6\n",
      "    classDef input fill:#61DAFB,stroke:#333,stroke-width:2px;\n",
      "    classDef output fill:#4EC9B0,stroke:#333,stroke-width:2px;\n",
      "    classDef hidden_node fill:#9CA3AF,stroke:#333,stroke-width:2px;\n",
      "    linkStyle default stroke:#E5E7EB,stroke-width:2px;\n"
     ]
    },
    {
     "data": {
      "text/markdown": [
       "```mermaid\n",
       "graph TD;\n",
       "    subgraph Input\n",
       "    i0([\"Input 0\"]):::input\n",
       "    i1([\"Input 1\"]):::input\n",
       "    end\n",
       "    subgraph Output\n",
       "    o2([\"Output 2\"]):::output\n",
       "    end\n",
       "    subgraph Hidden\n",
       "    h3([\"Hidden 3\"]):::hidden_node\n",
       "    h4([\"Hidden 4\"]):::hidden_node\n",
       "    h5([\"Hidden 5\"]):::hidden_node\n",
       "    h6([\"Hidden 6\"]):::hidden_node\n",
       "    h7([\"Hidden 7\"]):::hidden_node\n",
       "    h8([\"Hidden 8\"]):::hidden_node\n",
       "    end\n",
       "    i1 -->|0.88| o2\n",
       "    i1 -->|-0.23| h3\n",
       "    h4 -->|-0.34| o2\n",
       "    h5 -->|0.11| h7\n",
       "    h7 -->|0.00| o2\n",
       "    i0 -->|0.37| h3\n",
       "    h3 -->|1.00| h8\n",
       "    h8 -->|0.80| h6\n",
       "    classDef input fill:#61DAFB,stroke:#333,stroke-width:2px;\n",
       "    classDef output fill:#4EC9B0,stroke:#333,stroke-width:2px;\n",
       "    classDef hidden_node fill:#9CA3AF,stroke:#333,stroke-width:2px;\n",
       "    linkStyle default stroke:#E5E7EB,stroke-width:2px;\n",
       "```"
      ],
      "text/plain": [
       "<IPython.core.display.Markdown object>"
      ]
     },
     "metadata": {},
     "output_type": "display_data"
    },
    {
     "name": "stdout",
     "output_type": "stream",
     "text": [
      "graph TD;\n",
      "    subgraph Input\n",
      "    i0([\"Input 0\"]):::input\n",
      "    i1([\"Input 1\"]):::input\n",
      "    end\n",
      "    subgraph Output\n",
      "    o2([\"Output 2\"]):::output\n",
      "    end\n",
      "    subgraph Hidden\n",
      "    h3([\"Hidden 3\"]):::hidden_node\n",
      "    h4([\"Hidden 4\"]):::hidden_node\n",
      "    h5([\"Hidden 5\"]):::hidden_node\n",
      "    h6([\"Hidden 6\"]):::hidden_node\n",
      "    h7([\"Hidden 7\"]):::hidden_node\n",
      "    h8([\"Hidden 8\"]):::hidden_node\n",
      "    h9([\"Hidden 9\"]):::hidden_node\n",
      "    end\n",
      "    i1 -->|0.88| o2\n",
      "    i1 -->|-0.23| h3\n",
      "    h4 -->|-0.34| o2\n",
      "    h7 -->|0.00| o2\n",
      "    i0 -->|0.37| h3\n",
      "    h3 -->|1.00| h8\n",
      "    h8 -->|0.80| h6\n",
      "    h5 -->|1.00| h9\n",
      "    h9 -->|0.11| h7\n",
      "    classDef input fill:#61DAFB,stroke:#333,stroke-width:2px;\n",
      "    classDef output fill:#4EC9B0,stroke:#333,stroke-width:2px;\n",
      "    classDef hidden_node fill:#9CA3AF,stroke:#333,stroke-width:2px;\n",
      "    linkStyle default stroke:#E5E7EB,stroke-width:2px;\n"
     ]
    },
    {
     "data": {
      "text/markdown": [
       "```mermaid\n",
       "graph TD;\n",
       "    subgraph Input\n",
       "    i0([\"Input 0\"]):::input\n",
       "    i1([\"Input 1\"]):::input\n",
       "    end\n",
       "    subgraph Output\n",
       "    o2([\"Output 2\"]):::output\n",
       "    end\n",
       "    subgraph Hidden\n",
       "    h3([\"Hidden 3\"]):::hidden_node\n",
       "    h4([\"Hidden 4\"]):::hidden_node\n",
       "    h5([\"Hidden 5\"]):::hidden_node\n",
       "    h6([\"Hidden 6\"]):::hidden_node\n",
       "    h7([\"Hidden 7\"]):::hidden_node\n",
       "    h8([\"Hidden 8\"]):::hidden_node\n",
       "    h9([\"Hidden 9\"]):::hidden_node\n",
       "    end\n",
       "    i1 -->|0.88| o2\n",
       "    i1 -->|-0.23| h3\n",
       "    h4 -->|-0.34| o2\n",
       "    h7 -->|0.00| o2\n",
       "    i0 -->|0.37| h3\n",
       "    h3 -->|1.00| h8\n",
       "    h8 -->|0.80| h6\n",
       "    h5 -->|1.00| h9\n",
       "    h9 -->|0.11| h7\n",
       "    classDef input fill:#61DAFB,stroke:#333,stroke-width:2px;\n",
       "    classDef output fill:#4EC9B0,stroke:#333,stroke-width:2px;\n",
       "    classDef hidden_node fill:#9CA3AF,stroke:#333,stroke-width:2px;\n",
       "    linkStyle default stroke:#E5E7EB,stroke-width:2px;\n",
       "```"
      ],
      "text/plain": [
       "<IPython.core.display.Markdown object>"
      ]
     },
     "metadata": {},
     "output_type": "display_data"
    },
    {
     "name": "stdout",
     "output_type": "stream",
     "text": [
      "graph TD;\n",
      "    subgraph Input\n",
      "    i0([\"Input 0\"]):::input\n",
      "    i1([\"Input 1\"]):::input\n",
      "    end\n",
      "    subgraph Output\n",
      "    o2([\"Output 2\"]):::output\n",
      "    end\n",
      "    subgraph Hidden\n",
      "    h3([\"Hidden 3\"]):::hidden_node\n",
      "    h4([\"Hidden 4\"]):::hidden_node\n",
      "    h5([\"Hidden 5\"]):::hidden_node\n",
      "    h6([\"Hidden 6\"]):::hidden_node\n",
      "    h7([\"Hidden 7\"]):::hidden_node\n",
      "    h8([\"Hidden 8\"]):::hidden_node\n",
      "    h9([\"Hidden 9\"]):::hidden_node\n",
      "    end\n",
      "    i0 -->|-0.46| h4\n",
      "    h4 -->|-0.34| o2\n",
      "    h5 -->|0.11| h7\n",
      "    h7 -->|0.00| o2\n",
      "    i0 -->|0.37| h3\n",
      "    h3 -->|1.00| h8\n",
      "    h8 -->|0.80| h6\n",
      "    h5 -->|1.00| h9\n",
      "    classDef input fill:#61DAFB,stroke:#333,stroke-width:2px;\n",
      "    classDef output fill:#4EC9B0,stroke:#333,stroke-width:2px;\n",
      "    classDef hidden_node fill:#9CA3AF,stroke:#333,stroke-width:2px;\n",
      "    linkStyle default stroke:#E5E7EB,stroke-width:2px;\n"
     ]
    },
    {
     "data": {
      "text/markdown": [
       "```mermaid\n",
       "graph TD;\n",
       "    subgraph Input\n",
       "    i0([\"Input 0\"]):::input\n",
       "    i1([\"Input 1\"]):::input\n",
       "    end\n",
       "    subgraph Output\n",
       "    o2([\"Output 2\"]):::output\n",
       "    end\n",
       "    subgraph Hidden\n",
       "    h3([\"Hidden 3\"]):::hidden_node\n",
       "    h4([\"Hidden 4\"]):::hidden_node\n",
       "    h5([\"Hidden 5\"]):::hidden_node\n",
       "    h6([\"Hidden 6\"]):::hidden_node\n",
       "    h7([\"Hidden 7\"]):::hidden_node\n",
       "    h8([\"Hidden 8\"]):::hidden_node\n",
       "    h9([\"Hidden 9\"]):::hidden_node\n",
       "    end\n",
       "    i0 -->|-0.46| h4\n",
       "    h4 -->|-0.34| o2\n",
       "    h5 -->|0.11| h7\n",
       "    h7 -->|0.00| o2\n",
       "    i0 -->|0.37| h3\n",
       "    h3 -->|1.00| h8\n",
       "    h8 -->|0.80| h6\n",
       "    h5 -->|1.00| h9\n",
       "    classDef input fill:#61DAFB,stroke:#333,stroke-width:2px;\n",
       "    classDef output fill:#4EC9B0,stroke:#333,stroke-width:2px;\n",
       "    classDef hidden_node fill:#9CA3AF,stroke:#333,stroke-width:2px;\n",
       "    linkStyle default stroke:#E5E7EB,stroke-width:2px;\n",
       "```"
      ],
      "text/plain": [
       "<IPython.core.display.Markdown object>"
      ]
     },
     "metadata": {},
     "output_type": "display_data"
    },
    {
     "name": "stdout",
     "output_type": "stream",
     "text": [
      "graph TD;\n",
      "    subgraph Input\n",
      "    i0([\"Input 0\"]):::input\n",
      "    i1([\"Input 1\"]):::input\n",
      "    end\n",
      "    subgraph Output\n",
      "    o2([\"Output 2\"]):::output\n",
      "    end\n",
      "    subgraph Hidden\n",
      "    h3([\"Hidden 3\"]):::hidden_node\n",
      "    h4([\"Hidden 4\"]):::hidden_node\n",
      "    h5([\"Hidden 5\"]):::hidden_node\n",
      "    h6([\"Hidden 6\"]):::hidden_node\n",
      "    h7([\"Hidden 7\"]):::hidden_node\n",
      "    h8([\"Hidden 8\"]):::hidden_node\n",
      "    h9([\"Hidden 9\"]):::hidden_node\n",
      "    end\n",
      "    i0 -->|0.38| o2\n",
      "    i0 -->|-0.46| h4\n",
      "    h4 -->|-0.34| o2\n",
      "    h4 -->|-0.54| h5\n",
      "    h5 -->|0.11| h7\n",
      "    h7 -->|0.00| o2\n",
      "    i0 -->|0.37| h3\n",
      "    h3 -->|1.00| h8\n",
      "    classDef input fill:#61DAFB,stroke:#333,stroke-width:2px;\n",
      "    classDef output fill:#4EC9B0,stroke:#333,stroke-width:2px;\n",
      "    classDef hidden_node fill:#9CA3AF,stroke:#333,stroke-width:2px;\n",
      "    linkStyle default stroke:#E5E7EB,stroke-width:2px;\n"
     ]
    },
    {
     "data": {
      "text/markdown": [
       "```mermaid\n",
       "graph TD;\n",
       "    subgraph Input\n",
       "    i0([\"Input 0\"]):::input\n",
       "    i1([\"Input 1\"]):::input\n",
       "    end\n",
       "    subgraph Output\n",
       "    o2([\"Output 2\"]):::output\n",
       "    end\n",
       "    subgraph Hidden\n",
       "    h3([\"Hidden 3\"]):::hidden_node\n",
       "    h4([\"Hidden 4\"]):::hidden_node\n",
       "    h5([\"Hidden 5\"]):::hidden_node\n",
       "    h6([\"Hidden 6\"]):::hidden_node\n",
       "    h7([\"Hidden 7\"]):::hidden_node\n",
       "    h8([\"Hidden 8\"]):::hidden_node\n",
       "    h9([\"Hidden 9\"]):::hidden_node\n",
       "    end\n",
       "    i0 -->|0.38| o2\n",
       "    i0 -->|-0.46| h4\n",
       "    h4 -->|-0.34| o2\n",
       "    h4 -->|-0.54| h5\n",
       "    h5 -->|0.11| h7\n",
       "    h7 -->|0.00| o2\n",
       "    i0 -->|0.37| h3\n",
       "    h3 -->|1.00| h8\n",
       "    classDef input fill:#61DAFB,stroke:#333,stroke-width:2px;\n",
       "    classDef output fill:#4EC9B0,stroke:#333,stroke-width:2px;\n",
       "    classDef hidden_node fill:#9CA3AF,stroke:#333,stroke-width:2px;\n",
       "    linkStyle default stroke:#E5E7EB,stroke-width:2px;\n",
       "```"
      ],
      "text/plain": [
       "<IPython.core.display.Markdown object>"
      ]
     },
     "metadata": {},
     "output_type": "display_data"
    },
    {
     "name": "stdout",
     "output_type": "stream",
     "text": [
      "graph TD;\n",
      "    subgraph Input\n",
      "    i0([\"Input 0\"]):::input\n",
      "    i1([\"Input 1\"]):::input\n",
      "    end\n",
      "    subgraph Output\n",
      "    o2([\"Output 2\"]):::output\n",
      "    end\n",
      "    subgraph Hidden\n",
      "    h3([\"Hidden 3\"]):::hidden_node\n",
      "    h4([\"Hidden 4\"]):::hidden_node\n",
      "    h5([\"Hidden 5\"]):::hidden_node\n",
      "    h6([\"Hidden 6\"]):::hidden_node\n",
      "    h7([\"Hidden 7\"]):::hidden_node\n",
      "    h8([\"Hidden 8\"]):::hidden_node\n",
      "    h9([\"Hidden 9\"]):::hidden_node\n",
      "    end\n",
      "    i0 -->|0.38| o2\n",
      "    i1 -->|0.88| o2\n",
      "    i1 -->|0.76| h3\n",
      "    i0 -->|-0.46| h4\n",
      "    h4 -->|-0.34| o2\n",
      "    h4 -->|-0.54| h5\n",
      "    h6 -->|0.00| o2\n",
      "    h5 -->|0.11| h7\n",
      "    h7 -->|0.00| o2\n",
      "    i0 -->|0.37| h3\n",
      "    h3 -->|-0.43| h8\n",
      "    classDef input fill:#61DAFB,stroke:#333,stroke-width:2px;\n",
      "    classDef output fill:#4EC9B0,stroke:#333,stroke-width:2px;\n",
      "    classDef hidden_node fill:#9CA3AF,stroke:#333,stroke-width:2px;\n",
      "    linkStyle default stroke:#E5E7EB,stroke-width:2px;\n"
     ]
    },
    {
     "data": {
      "text/markdown": [
       "```mermaid\n",
       "graph TD;\n",
       "    subgraph Input\n",
       "    i0([\"Input 0\"]):::input\n",
       "    i1([\"Input 1\"]):::input\n",
       "    end\n",
       "    subgraph Output\n",
       "    o2([\"Output 2\"]):::output\n",
       "    end\n",
       "    subgraph Hidden\n",
       "    h3([\"Hidden 3\"]):::hidden_node\n",
       "    h4([\"Hidden 4\"]):::hidden_node\n",
       "    h5([\"Hidden 5\"]):::hidden_node\n",
       "    h6([\"Hidden 6\"]):::hidden_node\n",
       "    h7([\"Hidden 7\"]):::hidden_node\n",
       "    h8([\"Hidden 8\"]):::hidden_node\n",
       "    h9([\"Hidden 9\"]):::hidden_node\n",
       "    end\n",
       "    i0 -->|0.38| o2\n",
       "    i1 -->|0.88| o2\n",
       "    i1 -->|0.76| h3\n",
       "    i0 -->|-0.46| h4\n",
       "    h4 -->|-0.34| o2\n",
       "    h4 -->|-0.54| h5\n",
       "    h6 -->|0.00| o2\n",
       "    h5 -->|0.11| h7\n",
       "    h7 -->|0.00| o2\n",
       "    i0 -->|0.37| h3\n",
       "    h3 -->|-0.43| h8\n",
       "    classDef input fill:#61DAFB,stroke:#333,stroke-width:2px;\n",
       "    classDef output fill:#4EC9B0,stroke:#333,stroke-width:2px;\n",
       "    classDef hidden_node fill:#9CA3AF,stroke:#333,stroke-width:2px;\n",
       "    linkStyle default stroke:#E5E7EB,stroke-width:2px;\n",
       "```"
      ],
      "text/plain": [
       "<IPython.core.display.Markdown object>"
      ]
     },
     "metadata": {},
     "output_type": "display_data"
    },
    {
     "name": "stdout",
     "output_type": "stream",
     "text": [
      "graph TD;\n",
      "    subgraph Input\n",
      "    i0([\"Input 0\"]):::input\n",
      "    i1([\"Input 1\"]):::input\n",
      "    end\n",
      "    subgraph Output\n",
      "    o2([\"Output 2\"]):::output\n",
      "    end\n",
      "    subgraph Hidden\n",
      "    h3([\"Hidden 3\"]):::hidden_node\n",
      "    h4([\"Hidden 4\"]):::hidden_node\n",
      "    h5([\"Hidden 5\"]):::hidden_node\n",
      "    h6([\"Hidden 6\"]):::hidden_node\n",
      "    h7([\"Hidden 7\"]):::hidden_node\n",
      "    h8([\"Hidden 8\"]):::hidden_node\n",
      "    h9([\"Hidden 9\"]):::hidden_node\n",
      "    end\n",
      "    i0 -->|0.38| o2\n",
      "    i1 -->|0.88| o2\n",
      "    i1 -->|0.76| h3\n",
      "    i0 -->|-0.46| h4\n",
      "    h4 -->|-0.34| o2\n",
      "    h6 -->|0.00| o2\n",
      "    h5 -->|0.11| h7\n",
      "    h7 -->|0.00| o2\n",
      "    i0 -->|0.37| h3\n",
      "    h3 -->|-0.43| h8\n",
      "    classDef input fill:#61DAFB,stroke:#333,stroke-width:2px;\n",
      "    classDef output fill:#4EC9B0,stroke:#333,stroke-width:2px;\n",
      "    classDef hidden_node fill:#9CA3AF,stroke:#333,stroke-width:2px;\n",
      "    linkStyle default stroke:#E5E7EB,stroke-width:2px;\n"
     ]
    },
    {
     "data": {
      "text/markdown": [
       "```mermaid\n",
       "graph TD;\n",
       "    subgraph Input\n",
       "    i0([\"Input 0\"]):::input\n",
       "    i1([\"Input 1\"]):::input\n",
       "    end\n",
       "    subgraph Output\n",
       "    o2([\"Output 2\"]):::output\n",
       "    end\n",
       "    subgraph Hidden\n",
       "    h3([\"Hidden 3\"]):::hidden_node\n",
       "    h4([\"Hidden 4\"]):::hidden_node\n",
       "    h5([\"Hidden 5\"]):::hidden_node\n",
       "    h6([\"Hidden 6\"]):::hidden_node\n",
       "    h7([\"Hidden 7\"]):::hidden_node\n",
       "    h8([\"Hidden 8\"]):::hidden_node\n",
       "    h9([\"Hidden 9\"]):::hidden_node\n",
       "    end\n",
       "    i0 -->|0.38| o2\n",
       "    i1 -->|0.88| o2\n",
       "    i1 -->|0.76| h3\n",
       "    i0 -->|-0.46| h4\n",
       "    h4 -->|-0.34| o2\n",
       "    h6 -->|0.00| o2\n",
       "    h5 -->|0.11| h7\n",
       "    h7 -->|0.00| o2\n",
       "    i0 -->|0.37| h3\n",
       "    h3 -->|-0.43| h8\n",
       "    classDef input fill:#61DAFB,stroke:#333,stroke-width:2px;\n",
       "    classDef output fill:#4EC9B0,stroke:#333,stroke-width:2px;\n",
       "    classDef hidden_node fill:#9CA3AF,stroke:#333,stroke-width:2px;\n",
       "    linkStyle default stroke:#E5E7EB,stroke-width:2px;\n",
       "```"
      ],
      "text/plain": [
       "<IPython.core.display.Markdown object>"
      ]
     },
     "metadata": {},
     "output_type": "display_data"
    }
   ],
   "source": [
    "%run neat.py\n",
    "\n",
    "config = Config(input_dim=2, output_dim=1, max_nodes=10, max_edges=20, max_depth=10)\n",
    "neat_config = NEATConfig(config, pop_size=30, prob_add_connection=0.25, prob_add_node=0.5)\n",
    "\n",
    "genome = create_empty_genome_fn(config)\n",
    "edge = jnp.array(30)\n",
    "key = jax.random.key(10)\n",
    "for _ in range(20):\n",
    "    key, key_mutate = jax.random.split(key, 2)\n",
    "    genome, edge = mutate_genome(neat_config, genome, key_mutate, edge)\n",
    "    display_genome(genome, config)\n",
    "\n",
    "# TypeError: branch 0 and 2 outputs must have same type structure, got\n",
    "# PyTreeDef((CustomNode(Genome[()], [*, *, *, *, *, *, *]), *)) and\n",
    "# PyTreeDef((CustomNode(Genome[()], [*, *, *, *, *, *, *]), *)).\n"
   ]
  },
  {
   "cell_type": "code",
   "execution_count": 102,
   "metadata": {},
   "outputs": [
    {
     "name": "stderr",
     "output_type": "stream",
     "text": [
      "DEBUG:2024-12-31 12:41:23,287:jax._src.dispatch:182: Finished tracing + transforming convert_element_type for pjit in 0.001977205 sec\n",
      "jax._src.dispatch: 2024-12-31 12:41:23,287 [DEBUG] Finished tracing + transforming convert_element_type for pjit in 0.001977205 sec\n",
      "DEBUG:2024-12-31 12:41:23,291:jax._src.interpreters.pxla:1906: Compiling convert_element_type with global shapes and types [ShapedArray(int32[2,2])]. Argument mapping: (UnspecifiedValue,).\n",
      "jax._src.interpreters.pxla: 2024-12-31 12:41:23,291 [DEBUG] Compiling convert_element_type with global shapes and types [ShapedArray(int32[2,2])]. Argument mapping: (UnspecifiedValue,).\n",
      "DEBUG:2024-12-31 12:41:23,304:jax._src.dispatch:182: Finished jaxpr to MLIR module conversion jit(convert_element_type) in 0.011681795 sec\n",
      "jax._src.dispatch: 2024-12-31 12:41:23,304 [DEBUG] Finished jaxpr to MLIR module conversion jit(convert_element_type) in 0.011681795 sec\n",
      "DEBUG:2024-12-31 12:41:23,384:jax._src.compiler:167: get_compile_options: num_replicas=1 num_partitions=1 device_assignment=[[CpuDevice(id=0)]]\n",
      "jax._src.compiler: 2024-12-31 12:41:23,384 [DEBUG] get_compile_options: num_replicas=1 num_partitions=1 device_assignment=[[CpuDevice(id=0)]]\n",
      "DEBUG:2024-12-31 12:41:23,389:jax._src.compiler:239: get_compile_options XLA-AutoFDO profile: using XLA-AutoFDO profile version -1\n",
      "jax._src.compiler: 2024-12-31 12:41:23,389 [DEBUG] get_compile_options XLA-AutoFDO profile: using XLA-AutoFDO profile version -1\n",
      "DEBUG:2024-12-31 12:41:23,428:jax._src.cache_key:152: get_cache_key hash of serialized computation: e2835e2bf49f8292f026517b3afe98bcd892d2fe807c7de19ec5a9171c47e05f\n",
      "jax._src.cache_key: 2024-12-31 12:41:23,428 [DEBUG] get_cache_key hash of serialized computation: e2835e2bf49f8292f026517b3afe98bcd892d2fe807c7de19ec5a9171c47e05f\n",
      "DEBUG:2024-12-31 12:41:23,444:jax._src.cache_key:158: get_cache_key hash after serializing computation: e2835e2bf49f8292f026517b3afe98bcd892d2fe807c7de19ec5a9171c47e05f\n",
      "jax._src.cache_key: 2024-12-31 12:41:23,444 [DEBUG] get_cache_key hash after serializing computation: e2835e2bf49f8292f026517b3afe98bcd892d2fe807c7de19ec5a9171c47e05f\n",
      "DEBUG:2024-12-31 12:41:23,446:jax._src.cache_key:152: get_cache_key hash of serialized jax_lib version: c8601d1831072872293c1f9c58282e40273dd0289eaea98e369c2037dc4231ae\n",
      "jax._src.cache_key: 2024-12-31 12:41:23,446 [DEBUG] get_cache_key hash of serialized jax_lib version: c8601d1831072872293c1f9c58282e40273dd0289eaea98e369c2037dc4231ae\n",
      "DEBUG:2024-12-31 12:41:23,447:jax._src.cache_key:158: get_cache_key hash after serializing jax_lib version: 389733d4693bb412b377cdd7727756741ce1eb0673174e58db93c572ee7eeba4\n",
      "jax._src.cache_key: 2024-12-31 12:41:23,447 [DEBUG] get_cache_key hash after serializing jax_lib version: 389733d4693bb412b377cdd7727756741ce1eb0673174e58db93c572ee7eeba4\n",
      "DEBUG:2024-12-31 12:41:23,455:jax._src.cache_key:152: get_cache_key hash of serialized XLA flags: e3b0c44298fc1c149afbf4c8996fb92427ae41e4649b934ca495991b7852b855\n",
      "jax._src.cache_key: 2024-12-31 12:41:23,455 [DEBUG] get_cache_key hash of serialized XLA flags: e3b0c44298fc1c149afbf4c8996fb92427ae41e4649b934ca495991b7852b855\n",
      "DEBUG:2024-12-31 12:41:23,464:jax._src.cache_key:158: get_cache_key hash after serializing XLA flags: 389733d4693bb412b377cdd7727756741ce1eb0673174e58db93c572ee7eeba4\n",
      "jax._src.cache_key: 2024-12-31 12:41:23,464 [DEBUG] get_cache_key hash after serializing XLA flags: 389733d4693bb412b377cdd7727756741ce1eb0673174e58db93c572ee7eeba4\n",
      "DEBUG:2024-12-31 12:41:23,464:jax._src.cache_key:152: get_cache_key hash of serialized compile_options: b0cd5c86c63a84b88cb9078fbf173335e4e4596dbf5952fdcc2e59ed5266dd57\n",
      "jax._src.cache_key: 2024-12-31 12:41:23,464 [DEBUG] get_cache_key hash of serialized compile_options: b0cd5c86c63a84b88cb9078fbf173335e4e4596dbf5952fdcc2e59ed5266dd57\n",
      "DEBUG:2024-12-31 12:41:23,465:jax._src.cache_key:158: get_cache_key hash after serializing compile_options: 79ee14559cfddeef4c4b8b7e0048d0c4e8cb615937cb1a70755137dabc4a95e8\n",
      "jax._src.cache_key: 2024-12-31 12:41:23,465 [DEBUG] get_cache_key hash after serializing compile_options: 79ee14559cfddeef4c4b8b7e0048d0c4e8cb615937cb1a70755137dabc4a95e8\n",
      "DEBUG:2024-12-31 12:41:23,466:jax._src.cache_key:152: get_cache_key hash of serialized accelerator_config: 102b51b9765a56a3e899f7cf0ee38e5251f9c503b357b330a49183eb7b155604\n",
      "jax._src.cache_key: 2024-12-31 12:41:23,466 [DEBUG] get_cache_key hash of serialized accelerator_config: 102b51b9765a56a3e899f7cf0ee38e5251f9c503b357b330a49183eb7b155604\n",
      "DEBUG:2024-12-31 12:41:23,466:jax._src.cache_key:158: get_cache_key hash after serializing accelerator_config: dc46a78fc3bde4e2a63fed7c991c10cf33d174700672b9a0cbda4df93fe260df\n",
      "jax._src.cache_key: 2024-12-31 12:41:23,466 [DEBUG] get_cache_key hash after serializing accelerator_config: dc46a78fc3bde4e2a63fed7c991c10cf33d174700672b9a0cbda4df93fe260df\n",
      "DEBUG:2024-12-31 12:41:23,467:jax._src.cache_key:152: get_cache_key hash of serialized compression: 0ea55c28f8014d8886b6248fe3da5d588f55c0823847a6b4579f1131b051b5e2\n",
      "jax._src.cache_key: 2024-12-31 12:41:23,467 [DEBUG] get_cache_key hash of serialized compression: 0ea55c28f8014d8886b6248fe3da5d588f55c0823847a6b4579f1131b051b5e2\n",
      "DEBUG:2024-12-31 12:41:23,468:jax._src.cache_key:158: get_cache_key hash after serializing compression: 0404a162179b762be61696a29dc7336832aa4813a106ad5b7a4e8d0596bbca18\n",
      "jax._src.cache_key: 2024-12-31 12:41:23,468 [DEBUG] get_cache_key hash after serializing compression: 0404a162179b762be61696a29dc7336832aa4813a106ad5b7a4e8d0596bbca18\n",
      "DEBUG:2024-12-31 12:41:23,468:jax._src.cache_key:152: get_cache_key hash of serialized custom_hook: e3b0c44298fc1c149afbf4c8996fb92427ae41e4649b934ca495991b7852b855\n",
      "jax._src.cache_key: 2024-12-31 12:41:23,468 [DEBUG] get_cache_key hash of serialized custom_hook: e3b0c44298fc1c149afbf4c8996fb92427ae41e4649b934ca495991b7852b855\n",
      "DEBUG:2024-12-31 12:41:23,469:jax._src.cache_key:158: get_cache_key hash after serializing custom_hook: 0404a162179b762be61696a29dc7336832aa4813a106ad5b7a4e8d0596bbca18\n",
      "jax._src.cache_key: 2024-12-31 12:41:23,469 [DEBUG] get_cache_key hash after serializing custom_hook: 0404a162179b762be61696a29dc7336832aa4813a106ad5b7a4e8d0596bbca18\n",
      "DEBUG:2024-12-31 12:41:23,470:jax._src.compilation_cache:215: get_executable_and_time: cache is disabled/not initialized\n",
      "jax._src.compilation_cache: 2024-12-31 12:41:23,470 [DEBUG] get_executable_and_time: cache is disabled/not initialized\n",
      "DEBUG:2024-12-31 12:41:23,471:jax._src.compiler:108: PERSISTENT COMPILATION CACHE MISS for 'jit_convert_element_type' with key 'jit_convert_element_type-0404a162179b762be61696a29dc7336832aa4813a106ad5b7a4e8d0596bbca18'\n",
      "jax._src.compiler: 2024-12-31 12:41:23,471 [DEBUG] PERSISTENT COMPILATION CACHE MISS for 'jit_convert_element_type' with key 'jit_convert_element_type-0404a162179b762be61696a29dc7336832aa4813a106ad5b7a4e8d0596bbca18'\n",
      "DEBUG:2024-12-31 12:41:23,493:jax._src.compiler:723: Not writing persistent cache entry for 'jit_convert_element_type' because it took < 1.00 seconds to compile (0.02s)\n",
      "jax._src.compiler: 2024-12-31 12:41:23,493 [DEBUG] Not writing persistent cache entry for 'jit_convert_element_type' because it took < 1.00 seconds to compile (0.02s)\n",
      "DEBUG:2024-12-31 12:41:23,494:jax._src.dispatch:182: Finished XLA compilation of jit(convert_element_type) in 0.100076914 sec\n",
      "jax._src.dispatch: 2024-12-31 12:41:23,494 [DEBUG] Finished XLA compilation of jit(convert_element_type) in 0.100076914 sec\n",
      "DEBUG:2024-12-31 12:41:23,565:jax._src.dispatch:182: Finished tracing + transforming _reduce_max for pjit in 0.036425352 sec\n",
      "jax._src.dispatch: 2024-12-31 12:41:23,565 [DEBUG] Finished tracing + transforming _reduce_max for pjit in 0.036425352 sec\n",
      "DEBUG:2024-12-31 12:41:23,611:jax._src.interpreters.pxla:1906: Compiling _reduce_max with global shapes and types [ShapedArray(int32[2,2])]. Argument mapping: (UnspecifiedValue,).\n",
      "jax._src.interpreters.pxla: 2024-12-31 12:41:23,611 [DEBUG] Compiling _reduce_max with global shapes and types [ShapedArray(int32[2,2])]. Argument mapping: (UnspecifiedValue,).\n",
      "DEBUG:2024-12-31 12:41:23,721:jax._src.dispatch:182: Finished jaxpr to MLIR module conversion jit(_reduce_max) in 0.094831944 sec\n",
      "jax._src.dispatch: 2024-12-31 12:41:23,721 [DEBUG] Finished jaxpr to MLIR module conversion jit(_reduce_max) in 0.094831944 sec\n",
      "DEBUG:2024-12-31 12:41:23,736:jax._src.compiler:167: get_compile_options: num_replicas=1 num_partitions=1 device_assignment=[[CpuDevice(id=0)]]\n",
      "jax._src.compiler: 2024-12-31 12:41:23,736 [DEBUG] get_compile_options: num_replicas=1 num_partitions=1 device_assignment=[[CpuDevice(id=0)]]\n",
      "DEBUG:2024-12-31 12:41:23,770:jax._src.compiler:239: get_compile_options XLA-AutoFDO profile: using XLA-AutoFDO profile version -1\n",
      "jax._src.compiler: 2024-12-31 12:41:23,770 [DEBUG] get_compile_options XLA-AutoFDO profile: using XLA-AutoFDO profile version -1\n",
      "DEBUG:2024-12-31 12:41:23,784:jax._src.cache_key:152: get_cache_key hash of serialized computation: 30c3d85a9d0027b20ac3c122ad5e6831c4367aca8dec2328375ee5c2386661e5\n",
      "jax._src.cache_key: 2024-12-31 12:41:23,784 [DEBUG] get_cache_key hash of serialized computation: 30c3d85a9d0027b20ac3c122ad5e6831c4367aca8dec2328375ee5c2386661e5\n",
      "DEBUG:2024-12-31 12:41:23,806:jax._src.cache_key:158: get_cache_key hash after serializing computation: 30c3d85a9d0027b20ac3c122ad5e6831c4367aca8dec2328375ee5c2386661e5\n",
      "jax._src.cache_key: 2024-12-31 12:41:23,806 [DEBUG] get_cache_key hash after serializing computation: 30c3d85a9d0027b20ac3c122ad5e6831c4367aca8dec2328375ee5c2386661e5\n",
      "DEBUG:2024-12-31 12:41:23,815:jax._src.cache_key:152: get_cache_key hash of serialized jax_lib version: c8601d1831072872293c1f9c58282e40273dd0289eaea98e369c2037dc4231ae\n",
      "jax._src.cache_key: 2024-12-31 12:41:23,815 [DEBUG] get_cache_key hash of serialized jax_lib version: c8601d1831072872293c1f9c58282e40273dd0289eaea98e369c2037dc4231ae\n",
      "DEBUG:2024-12-31 12:41:23,817:jax._src.cache_key:158: get_cache_key hash after serializing jax_lib version: 52dc4f79ddd91c3039509c5d093b9f06de972975dfdca1d62b69d9598f28742c\n",
      "jax._src.cache_key: 2024-12-31 12:41:23,817 [DEBUG] get_cache_key hash after serializing jax_lib version: 52dc4f79ddd91c3039509c5d093b9f06de972975dfdca1d62b69d9598f28742c\n",
      "DEBUG:2024-12-31 12:41:23,819:jax._src.cache_key:152: get_cache_key hash of serialized XLA flags: e3b0c44298fc1c149afbf4c8996fb92427ae41e4649b934ca495991b7852b855\n",
      "jax._src.cache_key: 2024-12-31 12:41:23,819 [DEBUG] get_cache_key hash of serialized XLA flags: e3b0c44298fc1c149afbf4c8996fb92427ae41e4649b934ca495991b7852b855\n",
      "DEBUG:2024-12-31 12:41:23,819:jax._src.cache_key:158: get_cache_key hash after serializing XLA flags: 52dc4f79ddd91c3039509c5d093b9f06de972975dfdca1d62b69d9598f28742c\n",
      "jax._src.cache_key: 2024-12-31 12:41:23,819 [DEBUG] get_cache_key hash after serializing XLA flags: 52dc4f79ddd91c3039509c5d093b9f06de972975dfdca1d62b69d9598f28742c\n",
      "DEBUG:2024-12-31 12:41:23,820:jax._src.cache_key:152: get_cache_key hash of serialized compile_options: b0cd5c86c63a84b88cb9078fbf173335e4e4596dbf5952fdcc2e59ed5266dd57\n",
      "jax._src.cache_key: 2024-12-31 12:41:23,820 [DEBUG] get_cache_key hash of serialized compile_options: b0cd5c86c63a84b88cb9078fbf173335e4e4596dbf5952fdcc2e59ed5266dd57\n",
      "DEBUG:2024-12-31 12:41:23,821:jax._src.cache_key:158: get_cache_key hash after serializing compile_options: 12880ba37c2e4be0e4e81628a87cd21bc7b8ed82c55647aac69fbb7986fbf4d7\n",
      "jax._src.cache_key: 2024-12-31 12:41:23,821 [DEBUG] get_cache_key hash after serializing compile_options: 12880ba37c2e4be0e4e81628a87cd21bc7b8ed82c55647aac69fbb7986fbf4d7\n",
      "DEBUG:2024-12-31 12:41:23,821:jax._src.cache_key:152: get_cache_key hash of serialized accelerator_config: 102b51b9765a56a3e899f7cf0ee38e5251f9c503b357b330a49183eb7b155604\n",
      "jax._src.cache_key: 2024-12-31 12:41:23,821 [DEBUG] get_cache_key hash of serialized accelerator_config: 102b51b9765a56a3e899f7cf0ee38e5251f9c503b357b330a49183eb7b155604\n",
      "DEBUG:2024-12-31 12:41:23,822:jax._src.cache_key:158: get_cache_key hash after serializing accelerator_config: 997c9941631653f8d1599671573e2b7f421732c70a34c59dba2e92ed3f08f885\n",
      "jax._src.cache_key: 2024-12-31 12:41:23,822 [DEBUG] get_cache_key hash after serializing accelerator_config: 997c9941631653f8d1599671573e2b7f421732c70a34c59dba2e92ed3f08f885\n",
      "DEBUG:2024-12-31 12:41:23,822:jax._src.cache_key:152: get_cache_key hash of serialized compression: 0ea55c28f8014d8886b6248fe3da5d588f55c0823847a6b4579f1131b051b5e2\n",
      "jax._src.cache_key: 2024-12-31 12:41:23,822 [DEBUG] get_cache_key hash of serialized compression: 0ea55c28f8014d8886b6248fe3da5d588f55c0823847a6b4579f1131b051b5e2\n",
      "DEBUG:2024-12-31 12:41:23,823:jax._src.cache_key:158: get_cache_key hash after serializing compression: a784aa80cb5d8ba5814bb60f6a221b0a0665e457e661e505248a20d2477fca4a\n",
      "jax._src.cache_key: 2024-12-31 12:41:23,823 [DEBUG] get_cache_key hash after serializing compression: a784aa80cb5d8ba5814bb60f6a221b0a0665e457e661e505248a20d2477fca4a\n",
      "DEBUG:2024-12-31 12:41:23,823:jax._src.cache_key:152: get_cache_key hash of serialized custom_hook: e3b0c44298fc1c149afbf4c8996fb92427ae41e4649b934ca495991b7852b855\n",
      "jax._src.cache_key: 2024-12-31 12:41:23,823 [DEBUG] get_cache_key hash of serialized custom_hook: e3b0c44298fc1c149afbf4c8996fb92427ae41e4649b934ca495991b7852b855\n",
      "DEBUG:2024-12-31 12:41:23,824:jax._src.cache_key:158: get_cache_key hash after serializing custom_hook: a784aa80cb5d8ba5814bb60f6a221b0a0665e457e661e505248a20d2477fca4a\n",
      "jax._src.cache_key: 2024-12-31 12:41:23,824 [DEBUG] get_cache_key hash after serializing custom_hook: a784aa80cb5d8ba5814bb60f6a221b0a0665e457e661e505248a20d2477fca4a\n",
      "DEBUG:2024-12-31 12:41:23,824:jax._src.compilation_cache:215: get_executable_and_time: cache is disabled/not initialized\n",
      "jax._src.compilation_cache: 2024-12-31 12:41:23,824 [DEBUG] get_executable_and_time: cache is disabled/not initialized\n",
      "DEBUG:2024-12-31 12:41:23,825:jax._src.compiler:108: PERSISTENT COMPILATION CACHE MISS for 'jit__reduce_max' with key 'jit__reduce_max-a784aa80cb5d8ba5814bb60f6a221b0a0665e457e661e505248a20d2477fca4a'\n",
      "jax._src.compiler: 2024-12-31 12:41:23,825 [DEBUG] PERSISTENT COMPILATION CACHE MISS for 'jit__reduce_max' with key 'jit__reduce_max-a784aa80cb5d8ba5814bb60f6a221b0a0665e457e661e505248a20d2477fca4a'\n",
      "DEBUG:2024-12-31 12:41:23,847:jax._src.compiler:723: Not writing persistent cache entry for 'jit__reduce_max' because it took < 1.00 seconds to compile (0.02s)\n",
      "jax._src.compiler: 2024-12-31 12:41:23,847 [DEBUG] Not writing persistent cache entry for 'jit__reduce_max' because it took < 1.00 seconds to compile (0.02s)\n",
      "DEBUG:2024-12-31 12:41:23,849:jax._src.dispatch:182: Finished XLA compilation of jit(_reduce_max) in 0.073840141 sec\n",
      "jax._src.dispatch: 2024-12-31 12:41:23,849 [DEBUG] Finished XLA compilation of jit(_reduce_max) in 0.073840141 sec\n"
     ]
    },
    {
     "data": {
      "text/plain": [
       "Array(4, dtype=int32)"
      ]
     },
     "execution_count": 102,
     "metadata": {},
     "output_type": "execute_result"
    }
   ],
   "source": [
    "jnp.max(jnp.array([[1, 2], [3, 4]]))"
   ]
  },
  {
   "cell_type": "code",
   "execution_count": 150,
   "metadata": {},
   "outputs": [],
   "source": [
    "%run neat.py"
   ]
  },
  {
   "cell_type": "code",
   "execution_count": 27,
   "metadata": {},
   "outputs": [
    {
     "name": "stdout",
     "output_type": "stream",
     "text": [
      "[dtype('int32'), dtype('int32'), dtype('int32'), dtype('int32'), dtype('int32'), dtype('float32'), dtype('bool')]\n",
      "[ 50 100 300 500 700 900]\n"
     ]
    },
    {
     "name": "stderr",
     "output_type": "stream",
     "text": [
      "SlimeVolley: 2025-01-02 14:13:18,149 [INFO] use_for_loop=False\n",
      "SlimeVolley: 2025-01-02 14:13:18,177 [INFO] Start to train for 30 iterations.\n",
      "SlimeVolley: 2025-01-02 14:13:27,659 [INFO] Iter=1, size=300, max=-22.0000, avg=-35.1967, min=-42.0000, std=2.3829\n",
      "SlimeVolley: 2025-01-02 14:13:30,770 [INFO] Iter=2, size=300, max=-22.0000, avg=-33.8467, min=-41.0000, std=3.3161\n",
      "SlimeVolley: 2025-01-02 14:13:33,865 [INFO] Iter=3, size=300, max=-23.0000, avg=-33.7733, min=-41.0000, std=3.3875\n",
      "SlimeVolley: 2025-01-02 14:13:37,043 [INFO] Iter=4, size=300, max=-21.0000, avg=-31.8433, min=-38.0000, std=3.1218\n",
      "SlimeVolley: 2025-01-02 14:13:40,232 [INFO] Iter=5, size=300, max=-20.0000, avg=-32.5533, min=-41.0000, std=4.2865\n",
      "SlimeVolley: 2025-01-02 14:13:43,578 [INFO] Iter=6, size=300, max=-16.0000, avg=-33.2133, min=-42.0000, std=4.0193\n",
      "SlimeVolley: 2025-01-02 14:13:46,880 [INFO] Iter=7, size=300, max=-25.0000, avg=-33.9033, min=-43.0000, std=3.3328\n",
      "SlimeVolley: 2025-01-02 14:13:50,037 [INFO] Iter=8, size=300, max=-20.0000, avg=-31.4667, min=-40.0000, std=3.5640\n",
      "SlimeVolley: 2025-01-02 14:13:53,147 [INFO] Iter=9, size=300, max=-21.0000, avg=-32.5233, min=-39.0000, std=3.0913\n",
      "SlimeVolley: 2025-01-02 14:13:56,395 [INFO] Iter=10, size=300, max=-17.0000, avg=-32.1800, min=-40.0000, std=3.5101\n",
      "SlimeVolley: 2025-01-02 14:13:57,670 [INFO] [TEST] Iter=10, #tests=1, max=-5.0000, avg=-5.0000, min=-5.0000, std=0.0000\n",
      "SlimeVolley: 2025-01-02 14:14:00,776 [INFO] Iter=11, size=300, max=-21.0000, avg=-32.1633, min=-41.0000, std=4.1821\n",
      "SlimeVolley: 2025-01-02 14:14:04,045 [INFO] Iter=12, size=300, max=-19.0000, avg=-31.5867, min=-41.0000, std=3.8543\n",
      "SlimeVolley: 2025-01-02 14:14:07,135 [INFO] Iter=13, size=300, max=-21.0000, avg=-32.4100, min=-39.0000, std=3.5490\n",
      "SlimeVolley: 2025-01-02 14:14:10,224 [INFO] Iter=14, size=300, max=-22.0000, avg=-33.5300, min=-43.0000, std=3.1127\n",
      "SlimeVolley: 2025-01-02 14:14:13,331 [INFO] Iter=15, size=300, max=-24.0000, avg=-33.5533, min=-41.0000, std=3.4400\n",
      "SlimeVolley: 2025-01-02 14:14:16,395 [INFO] Iter=16, size=300, max=-22.0000, avg=-31.9733, min=-40.0000, std=3.3195\n",
      "SlimeVolley: 2025-01-02 14:14:19,480 [INFO] Iter=17, size=300, max=-21.0000, avg=-33.0200, min=-44.0000, std=4.3688\n",
      "SlimeVolley: 2025-01-02 14:14:22,620 [INFO] Iter=18, size=300, max=-24.0000, avg=-35.6333, min=-43.0000, std=3.3841\n",
      "SlimeVolley: 2025-01-02 14:14:26,050 [INFO] Iter=19, size=300, max=-20.0000, avg=-31.4867, min=-40.0000, std=3.2634\n",
      "SlimeVolley: 2025-01-02 14:14:29,308 [INFO] Iter=20, size=300, max=-22.0000, avg=-32.0800, min=-41.0000, std=3.7754\n",
      "SlimeVolley: 2025-01-02 14:14:29,433 [INFO] [TEST] Iter=20, #tests=1, max=-5.0000, avg=-5.0000, min=-5.0000, std=0.0000\n",
      "SlimeVolley: 2025-01-02 14:14:32,545 [INFO] Iter=21, size=300, max=-18.0000, avg=-31.5067, min=-39.0000, std=3.4501\n",
      "SlimeVolley: 2025-01-02 14:14:35,704 [INFO] Iter=22, size=300, max=-20.0000, avg=-32.2067, min=-40.0000, std=3.3182\n",
      "SlimeVolley: 2025-01-02 14:14:38,897 [INFO] Iter=23, size=300, max=-26.0000, avg=-34.0667, min=-44.0000, std=3.6980\n",
      "SlimeVolley: 2025-01-02 14:14:41,976 [INFO] Iter=24, size=300, max=-20.0000, avg=-30.8700, min=-42.0000, std=3.3892\n",
      "SlimeVolley: 2025-01-02 14:14:45,065 [INFO] Iter=25, size=300, max=-20.0000, avg=-31.7200, min=-45.0000, std=3.6499\n",
      "SlimeVolley: 2025-01-02 14:14:48,295 [INFO] Iter=26, size=300, max=-22.0000, avg=-32.2767, min=-42.0000, std=3.7612\n",
      "SlimeVolley: 2025-01-02 14:14:51,494 [INFO] Iter=27, size=300, max=-20.0000, avg=-30.7800, min=-39.0000, std=3.7280\n",
      "SlimeVolley: 2025-01-02 14:14:54,647 [INFO] Iter=28, size=300, max=-23.0000, avg=-30.5933, min=-40.0000, std=3.6880\n",
      "SlimeVolley: 2025-01-02 14:14:57,743 [INFO] Iter=29, size=300, max=-21.0000, avg=-30.0733, min=-39.0000, std=3.3894\n",
      "SlimeVolley: 2025-01-02 14:14:57,863 [INFO] [TEST] Iter=30, #tests=1, max=-5.0000, avg=-5.0000, min=-5.0000, std=0.0000\n",
      "SlimeVolley: 2025-01-02 14:14:57,865 [INFO] Training done, best_score=-5.0000\n"
     ]
    },
    {
     "name": "stdout",
     "output_type": "stream",
     "text": [
      "graph TD;\n",
      "    subgraph Input\n",
      "    i0([\"Input 0\"]):::input\n",
      "    i1([\"Input 1\"]):::input\n",
      "    i2([\"Input 2\"]):::input\n",
      "    i3([\"Input 3\"]):::input\n",
      "    i4([\"Input 4\"]):::input\n",
      "    i5([\"Input 5\"]):::input\n",
      "    i6([\"Input 6\"]):::input\n",
      "    i7([\"Input 7\"]):::input\n",
      "    i8([\"Input 8\"]):::input\n",
      "    i9([\"Input 9\"]):::input\n",
      "    i10([\"Input 10\"]):::input\n",
      "    i11([\"Input 11\"]):::input\n",
      "    end\n",
      "    subgraph Output\n",
      "    o12([\"Output 12\"]):::output\n",
      "    o13([\"Output 13\"]):::output\n",
      "    o14([\"Output 14\"]):::output\n",
      "    end\n",
      "    subgraph Hidden\n",
      "    h15([\"Hidden 15\"]):::hidden_node\n",
      "    h16([\"Hidden 16\"]):::hidden_node\n",
      "    end\n",
      "    i0 -.->|0.00| o12\n",
      "    i1 -.->|0.68| o12\n",
      "    i2 -->|-0.96| o12\n",
      "    i3 -->|0.71| o12\n",
      "    i4 -->|-0.91| o12\n",
      "    i5 -->|0.77| o12\n",
      "    i6 -->|0.24| o12\n",
      "    i7 -.->|0.36| o12\n",
      "    i8 -->|0.11| o12\n",
      "    i9 -->|-0.79| o12\n",
      "    i10 -->|0.23| o12\n",
      "    i11 -.->|-0.88| o12\n",
      "    i0 -->|0.43| o13\n",
      "    i1 -.->|0.60| o13\n",
      "    i2 -->|-0.46| o13\n",
      "    i3 -.->|0.62| o13\n",
      "    i4 -.->|0.12| o13\n",
      "    i5 -.->|0.00| o13\n",
      "    i6 -.->|0.50| o13\n",
      "    i7 -->|0.13| o13\n",
      "    i8 -.->|-0.37| o13\n",
      "    i9 -.->|-0.61| o13\n",
      "    i10 -->|0.37| o13\n",
      "    i11 -->|0.77| o13\n",
      "    i0 -->|-0.80| o14\n",
      "    i1 -.->|0.11| o14\n",
      "    i2 -.->|-0.85| o14\n",
      "    i3 -->|0.44| o14\n",
      "    i4 -.->|-0.06| o14\n",
      "    i5 -.->|-0.73| o14\n",
      "    i6 -->|0.52| o14\n",
      "    i7 -->|-0.75| o14\n",
      "    i8 -->|0.37| o14\n",
      "    i9 -->|0.76| o14\n",
      "    i10 -.->|0.30| o14\n",
      "    i11 -.->|-0.61| o14\n",
      "    i8 -.->|0.31| h15\n",
      "    h15 -.->|-0.97| o13\n",
      "    i5 -.->|0.38| h16\n",
      "    h16 -.->|-0.27| o14\n",
      "    h15 -->|-0.46| o12\n",
      "    i0 -.->|0.26| h16\n",
      "    classDef input fill:#61DAFB,stroke:#333,stroke-width:2px;\n",
      "    classDef output fill:#4EC9B0,stroke:#333,stroke-width:2px;\n",
      "    classDef hidden_node fill:#9CA3AF,stroke:#333,stroke-width:2px;\n",
      "    linkStyle default stroke:#E5E7EB,stroke-width:2px;\n",
      "[[0. 1. 2. ... 0. 0. 0.]]\n"
     ]
    },
    {
     "name": "stderr",
     "output_type": "stream",
     "text": [
      "SlimeVolley: 2025-01-02 14:15:23,895 [INFO] GIF saved to ./log/slimevolley_20250102-141317/slimevolley.gif.\n"
     ]
    }
   ],
   "source": [
    "%run neat.py\n",
    "\n",
    "test3()"
   ]
  },
  {
   "cell_type": "code",
   "execution_count": 175,
   "metadata": {},
   "outputs": [
    {
     "name": "stderr",
     "output_type": "stream",
     "text": [
      "DEBUG:2025-01-02 13:58:36,780:jax._src.dispatch:182: Finished tracing + transforming _reduce_sum for pjit in 0.021831989 sec\n",
      "jax._src.dispatch: 2025-01-02 13:58:36,780 [DEBUG] Finished tracing + transforming _reduce_sum for pjit in 0.021831989 sec\n",
      "DEBUG:2025-01-02 13:58:36,889:jax._src.dispatch:182: Finished tracing + transforming _broadcast_arrays for pjit in 0.049833298 sec\n",
      "jax._src.dispatch: 2025-01-02 13:58:36,889 [DEBUG] Finished tracing + transforming _broadcast_arrays for pjit in 0.049833298 sec\n",
      "DEBUG:2025-01-02 13:58:36,904:jax._src.dispatch:182: Finished tracing + transforming _where for pjit in 0.092578888 sec\n",
      "jax._src.dispatch: 2025-01-02 13:58:36,904 [DEBUG] Finished tracing + transforming _where for pjit in 0.092578888 sec\n",
      "DEBUG:2025-01-02 13:58:36,910:jax._src.dispatch:182: Finished tracing + transforming nansum for pjit in 0.103650093 sec\n",
      "jax._src.dispatch: 2025-01-02 13:58:36,910 [DEBUG] Finished tracing + transforming nansum for pjit in 0.103650093 sec\n",
      "DEBUG:2025-01-02 13:58:36,916:jax._src.dispatch:182: Finished tracing + transforming nanmean for pjit in 0.214442968 sec\n",
      "jax._src.dispatch: 2025-01-02 13:58:36,916 [DEBUG] Finished tracing + transforming nanmean for pjit in 0.214442968 sec\n",
      "DEBUG:2025-01-02 13:58:37,049:jax._src.interpreters.pxla:1906: Compiling nanmean with global shapes and types [ShapedArray(float32[4])]. Argument mapping: (UnspecifiedValue,).\n",
      "jax._src.interpreters.pxla: 2025-01-02 13:58:37,049 [DEBUG] Compiling nanmean with global shapes and types [ShapedArray(float32[4])]. Argument mapping: (UnspecifiedValue,).\n",
      "DEBUG:2025-01-02 13:58:37,477:jax._src.dispatch:182: Finished jaxpr to MLIR module conversion jit(nanmean) in 0.424432993 sec\n",
      "jax._src.dispatch: 2025-01-02 13:58:37,477 [DEBUG] Finished jaxpr to MLIR module conversion jit(nanmean) in 0.424432993 sec\n",
      "DEBUG:2025-01-02 13:58:37,486:jax._src.compiler:167: get_compile_options: num_replicas=1 num_partitions=1 device_assignment=[[CpuDevice(id=0)]]\n",
      "jax._src.compiler: 2025-01-02 13:58:37,486 [DEBUG] get_compile_options: num_replicas=1 num_partitions=1 device_assignment=[[CpuDevice(id=0)]]\n",
      "DEBUG:2025-01-02 13:58:37,490:jax._src.compiler:239: get_compile_options XLA-AutoFDO profile: using XLA-AutoFDO profile version -1\n",
      "jax._src.compiler: 2025-01-02 13:58:37,490 [DEBUG] get_compile_options XLA-AutoFDO profile: using XLA-AutoFDO profile version -1\n",
      "DEBUG:2025-01-02 13:58:37,499:jax._src.cache_key:152: get_cache_key hash of serialized computation: cb1dedb15c4f88e1bb2cc4265c3ce809bf70e07f081d025246ffad33dcd7fc7c\n",
      "jax._src.cache_key: 2025-01-02 13:58:37,499 [DEBUG] get_cache_key hash of serialized computation: cb1dedb15c4f88e1bb2cc4265c3ce809bf70e07f081d025246ffad33dcd7fc7c\n",
      "DEBUG:2025-01-02 13:58:37,499:jax._src.cache_key:158: get_cache_key hash after serializing computation: cb1dedb15c4f88e1bb2cc4265c3ce809bf70e07f081d025246ffad33dcd7fc7c\n",
      "jax._src.cache_key: 2025-01-02 13:58:37,499 [DEBUG] get_cache_key hash after serializing computation: cb1dedb15c4f88e1bb2cc4265c3ce809bf70e07f081d025246ffad33dcd7fc7c\n",
      "DEBUG:2025-01-02 13:58:37,500:jax._src.cache_key:152: get_cache_key hash of serialized jax_lib version: c8601d1831072872293c1f9c58282e40273dd0289eaea98e369c2037dc4231ae\n",
      "jax._src.cache_key: 2025-01-02 13:58:37,500 [DEBUG] get_cache_key hash of serialized jax_lib version: c8601d1831072872293c1f9c58282e40273dd0289eaea98e369c2037dc4231ae\n",
      "DEBUG:2025-01-02 13:58:37,501:jax._src.cache_key:158: get_cache_key hash after serializing jax_lib version: d2521a3d7209627801c5069e634e4292e70faa5d2e79cc9b2f20fe2f731ddd8b\n",
      "jax._src.cache_key: 2025-01-02 13:58:37,501 [DEBUG] get_cache_key hash after serializing jax_lib version: d2521a3d7209627801c5069e634e4292e70faa5d2e79cc9b2f20fe2f731ddd8b\n",
      "DEBUG:2025-01-02 13:58:37,503:jax._src.cache_key:152: get_cache_key hash of serialized XLA flags: e3b0c44298fc1c149afbf4c8996fb92427ae41e4649b934ca495991b7852b855\n",
      "jax._src.cache_key: 2025-01-02 13:58:37,503 [DEBUG] get_cache_key hash of serialized XLA flags: e3b0c44298fc1c149afbf4c8996fb92427ae41e4649b934ca495991b7852b855\n",
      "DEBUG:2025-01-02 13:58:37,503:jax._src.cache_key:158: get_cache_key hash after serializing XLA flags: d2521a3d7209627801c5069e634e4292e70faa5d2e79cc9b2f20fe2f731ddd8b\n",
      "jax._src.cache_key: 2025-01-02 13:58:37,503 [DEBUG] get_cache_key hash after serializing XLA flags: d2521a3d7209627801c5069e634e4292e70faa5d2e79cc9b2f20fe2f731ddd8b\n",
      "DEBUG:2025-01-02 13:58:37,506:jax._src.cache_key:152: get_cache_key hash of serialized compile_options: 7c27a571bebb4078176ffd683bd5216e52cc1709a0a6fa76157d91d36157345b\n",
      "jax._src.cache_key: 2025-01-02 13:58:37,506 [DEBUG] get_cache_key hash of serialized compile_options: 7c27a571bebb4078176ffd683bd5216e52cc1709a0a6fa76157d91d36157345b\n",
      "DEBUG:2025-01-02 13:58:37,506:jax._src.cache_key:158: get_cache_key hash after serializing compile_options: 2a33c99f4d4b1bdaecaf9f2dd0fa171ae441c3a96178ffb597fe3c6a5ce61bf1\n",
      "jax._src.cache_key: 2025-01-02 13:58:37,506 [DEBUG] get_cache_key hash after serializing compile_options: 2a33c99f4d4b1bdaecaf9f2dd0fa171ae441c3a96178ffb597fe3c6a5ce61bf1\n",
      "DEBUG:2025-01-02 13:58:37,507:jax._src.cache_key:152: get_cache_key hash of serialized accelerator_config: 102b51b9765a56a3e899f7cf0ee38e5251f9c503b357b330a49183eb7b155604\n",
      "jax._src.cache_key: 2025-01-02 13:58:37,507 [DEBUG] get_cache_key hash of serialized accelerator_config: 102b51b9765a56a3e899f7cf0ee38e5251f9c503b357b330a49183eb7b155604\n",
      "DEBUG:2025-01-02 13:58:37,507:jax._src.cache_key:158: get_cache_key hash after serializing accelerator_config: 0abd1ac5955833adbadd50c11ebbc54e436e614d746f7f74c6ef6c651f7682e1\n",
      "jax._src.cache_key: 2025-01-02 13:58:37,507 [DEBUG] get_cache_key hash after serializing accelerator_config: 0abd1ac5955833adbadd50c11ebbc54e436e614d746f7f74c6ef6c651f7682e1\n",
      "DEBUG:2025-01-02 13:58:37,508:jax._src.cache_key:152: get_cache_key hash of serialized compression: 0ea55c28f8014d8886b6248fe3da5d588f55c0823847a6b4579f1131b051b5e2\n",
      "jax._src.cache_key: 2025-01-02 13:58:37,508 [DEBUG] get_cache_key hash of serialized compression: 0ea55c28f8014d8886b6248fe3da5d588f55c0823847a6b4579f1131b051b5e2\n",
      "DEBUG:2025-01-02 13:58:37,509:jax._src.cache_key:158: get_cache_key hash after serializing compression: 96810e9f0a2a03bc6368bf65ae158e253d3e32737c1d76e4eb42a84cb94bb846\n",
      "jax._src.cache_key: 2025-01-02 13:58:37,509 [DEBUG] get_cache_key hash after serializing compression: 96810e9f0a2a03bc6368bf65ae158e253d3e32737c1d76e4eb42a84cb94bb846\n",
      "DEBUG:2025-01-02 13:58:37,509:jax._src.cache_key:152: get_cache_key hash of serialized custom_hook: e3b0c44298fc1c149afbf4c8996fb92427ae41e4649b934ca495991b7852b855\n",
      "jax._src.cache_key: 2025-01-02 13:58:37,509 [DEBUG] get_cache_key hash of serialized custom_hook: e3b0c44298fc1c149afbf4c8996fb92427ae41e4649b934ca495991b7852b855\n",
      "DEBUG:2025-01-02 13:58:37,510:jax._src.cache_key:158: get_cache_key hash after serializing custom_hook: 96810e9f0a2a03bc6368bf65ae158e253d3e32737c1d76e4eb42a84cb94bb846\n",
      "jax._src.cache_key: 2025-01-02 13:58:37,510 [DEBUG] get_cache_key hash after serializing custom_hook: 96810e9f0a2a03bc6368bf65ae158e253d3e32737c1d76e4eb42a84cb94bb846\n",
      "DEBUG:2025-01-02 13:58:37,511:jax._src.compilation_cache:215: get_executable_and_time: cache is disabled/not initialized\n",
      "jax._src.compilation_cache: 2025-01-02 13:58:37,511 [DEBUG] get_executable_and_time: cache is disabled/not initialized\n",
      "DEBUG:2025-01-02 13:58:37,511:jax._src.compiler:108: PERSISTENT COMPILATION CACHE MISS for 'jit_nanmean' with key 'jit_nanmean-96810e9f0a2a03bc6368bf65ae158e253d3e32737c1d76e4eb42a84cb94bb846'\n",
      "jax._src.compiler: 2025-01-02 13:58:37,511 [DEBUG] PERSISTENT COMPILATION CACHE MISS for 'jit_nanmean' with key 'jit_nanmean-96810e9f0a2a03bc6368bf65ae158e253d3e32737c1d76e4eb42a84cb94bb846'\n",
      "DEBUG:2025-01-02 13:58:37,734:jax._src.compiler:723: Not writing persistent cache entry for 'jit_nanmean' because it took < 1.00 seconds to compile (0.22s)\n",
      "jax._src.compiler: 2025-01-02 13:58:37,734 [DEBUG] Not writing persistent cache entry for 'jit_nanmean' because it took < 1.00 seconds to compile (0.22s)\n",
      "DEBUG:2025-01-02 13:58:37,735:jax._src.dispatch:182: Finished XLA compilation of jit(nanmean) in 0.242565870 sec\n",
      "jax._src.dispatch: 2025-01-02 13:58:37,735 [DEBUG] Finished XLA compilation of jit(nanmean) in 0.242565870 sec\n"
     ]
    },
    {
     "data": {
      "text/plain": [
       "Array(2., dtype=float32)"
      ]
     },
     "execution_count": 175,
     "metadata": {},
     "output_type": "execute_result"
    }
   ],
   "source": [
    "jnp.nanmean(jnp.array([1, 2, 3, jnp.nan]))"
   ]
  },
  {
   "cell_type": "code",
   "execution_count": 30,
   "metadata": {},
   "outputs": [
    {
     "name": "stderr",
     "output_type": "stream",
     "text": [
      "SlimeVolley: 2025-01-02 14:17:56,690 [INFO] use_for_loop=False\n",
      "SlimeVolley: 2025-01-02 14:17:56,745 [INFO] Start to train for 30 iterations.\n"
     ]
    },
    {
     "name": "stdout",
     "output_type": "stream",
     "text": [
      "[dtype('int32'), dtype('int32'), dtype('int32'), dtype('int32'), dtype('int32'), dtype('float32'), dtype('bool')]\n",
      "[ 50 100 300 500 700 900]\n",
      "size: [300   0   0   0   0], pop_size: [0 0 0 0 0]\n"
     ]
    },
    {
     "name": "stderr",
     "output_type": "stream",
     "text": [
      "SlimeVolley: 2025-01-02 14:18:06,260 [INFO] Iter=1, size=300, max=-22.0000, avg=-35.1967, min=-42.0000, std=2.3829\n"
     ]
    },
    {
     "name": "stdout",
     "output_type": "stream",
     "text": [
      "size: [219  18  23  29  11], pop_size: [63 59 56 59 66]\n"
     ]
    },
    {
     "name": "stderr",
     "output_type": "stream",
     "text": [
      "SlimeVolley: 2025-01-02 14:18:09,518 [INFO] Iter=2, size=300, max=-22.0000, avg=-33.8467, min=-41.0000, std=3.3161\n"
     ]
    },
    {
     "name": "stdout",
     "output_type": "stream",
     "text": [
      "size: [287   3   8   1   1], pop_size: [52 81 52 66 51]\n"
     ]
    },
    {
     "name": "stderr",
     "output_type": "stream",
     "text": [
      "SlimeVolley: 2025-01-02 14:18:12,686 [INFO] Iter=3, size=300, max=-23.0000, avg=-33.7733, min=-41.0000, std=3.3875\n"
     ]
    },
    {
     "name": "stdout",
     "output_type": "stream",
     "text": [
      "size: [104  55  49  66  26], pop_size: [69 55 70 48 61]\n"
     ]
    },
    {
     "name": "stderr",
     "output_type": "stream",
     "text": [
      "SlimeVolley: 2025-01-02 14:18:15,892 [INFO] Iter=4, size=300, max=-21.0000, avg=-31.8433, min=-38.0000, std=3.1218\n"
     ]
    },
    {
     "name": "stdout",
     "output_type": "stream",
     "text": [
      "size: [175  32  48   7  38], pop_size: [62 70 57 53 61]\n"
     ]
    },
    {
     "name": "stderr",
     "output_type": "stream",
     "text": [
      "SlimeVolley: 2025-01-02 14:18:19,078 [INFO] Iter=5, size=300, max=-20.0000, avg=-32.5533, min=-41.0000, std=4.2865\n"
     ]
    },
    {
     "name": "stdout",
     "output_type": "stream",
     "text": [
      "size: [151  29  67  15  38], pop_size: [59 55 63 64 62]\n"
     ]
    },
    {
     "name": "stderr",
     "output_type": "stream",
     "text": [
      "SlimeVolley: 2025-01-02 14:18:22,283 [INFO] Iter=6, size=300, max=-16.0000, avg=-33.2133, min=-42.0000, std=4.0193\n"
     ]
    },
    {
     "name": "stdout",
     "output_type": "stream",
     "text": [
      "size: [131  45  49  63  12], pop_size: [61 67 60 60 54]\n"
     ]
    },
    {
     "name": "stderr",
     "output_type": "stream",
     "text": [
      "SlimeVolley: 2025-01-02 14:18:25,769 [INFO] Iter=7, size=300, max=-25.0000, avg=-33.9033, min=-43.0000, std=3.3328\n"
     ]
    },
    {
     "name": "stdout",
     "output_type": "stream",
     "text": [
      "size: [110  35  55  16  84], pop_size: [61 68 58 53 62]\n"
     ]
    },
    {
     "name": "stderr",
     "output_type": "stream",
     "text": [
      "SlimeVolley: 2025-01-02 14:18:29,062 [INFO] Iter=8, size=300, max=-20.0000, avg=-31.4667, min=-40.0000, std=3.5640\n"
     ]
    },
    {
     "name": "stdout",
     "output_type": "stream",
     "text": [
      "size: [86 80 59 27 48], pop_size: [66 62 59 53 62]\n"
     ]
    },
    {
     "name": "stderr",
     "output_type": "stream",
     "text": [
      "SlimeVolley: 2025-01-02 14:18:32,382 [INFO] Iter=9, size=300, max=-21.0000, avg=-32.5233, min=-39.0000, std=3.0913\n"
     ]
    },
    {
     "name": "stdout",
     "output_type": "stream",
     "text": [
      "size: [100  51  56  75  18], pop_size: [60 61 60 58 64]\n"
     ]
    },
    {
     "name": "stderr",
     "output_type": "stream",
     "text": [
      "SlimeVolley: 2025-01-02 14:18:35,637 [INFO] Iter=10, size=300, max=-17.0000, avg=-32.1800, min=-40.0000, std=3.5101\n"
     ]
    },
    {
     "name": "stdout",
     "output_type": "stream",
     "text": [
      "size: [77 25 57 91 50], pop_size: [64 62 58 62 56]\n"
     ]
    },
    {
     "name": "stderr",
     "output_type": "stream",
     "text": [
      "SlimeVolley: 2025-01-02 14:18:36,702 [INFO] [TEST] Iter=10, #tests=1, max=-5.0000, avg=-5.0000, min=-5.0000, std=0.0000\n",
      "SlimeVolley: 2025-01-02 14:18:39,816 [INFO] Iter=11, size=300, max=-21.0000, avg=-32.1633, min=-41.0000, std=4.1821\n"
     ]
    },
    {
     "name": "stdout",
     "output_type": "stream",
     "text": [
      "size: [101  79   8  27  85], pop_size: [55 64 48 65 71]\n"
     ]
    },
    {
     "name": "stderr",
     "output_type": "stream",
     "text": [
      "SlimeVolley: 2025-01-02 14:18:43,021 [INFO] Iter=12, size=300, max=-19.0000, avg=-31.5867, min=-41.0000, std=3.8543\n"
     ]
    },
    {
     "name": "stdout",
     "output_type": "stream",
     "text": [
      "size: [71 57 59 47 66], pop_size: [61 58 57 71 55]\n"
     ]
    },
    {
     "name": "stderr",
     "output_type": "stream",
     "text": [
      "SlimeVolley: 2025-01-02 14:18:46,411 [INFO] Iter=13, size=300, max=-21.0000, avg=-32.4100, min=-39.0000, std=3.5490\n"
     ]
    },
    {
     "name": "stdout",
     "output_type": "stream",
     "text": [
      "size: [53 64 89 54 40], pop_size: [49 58 62 66 67]\n"
     ]
    },
    {
     "name": "stderr",
     "output_type": "stream",
     "text": [
      "SlimeVolley: 2025-01-02 14:18:49,617 [INFO] Iter=14, size=300, max=-22.0000, avg=-33.5300, min=-43.0000, std=3.1127\n"
     ]
    },
    {
     "name": "stdout",
     "output_type": "stream",
     "text": [
      "size: [87 46 56 76 35], pop_size: [62 55 60 59 66]\n"
     ]
    },
    {
     "name": "stderr",
     "output_type": "stream",
     "text": [
      "SlimeVolley: 2025-01-02 14:18:52,760 [INFO] Iter=15, size=300, max=-24.0000, avg=-33.5533, min=-41.0000, std=3.4400\n"
     ]
    },
    {
     "name": "stdout",
     "output_type": "stream",
     "text": [
      "size: [100  61  38  17  84], pop_size: [65 60 63 53 61]\n"
     ]
    },
    {
     "name": "stderr",
     "output_type": "stream",
     "text": [
      "SlimeVolley: 2025-01-02 14:18:56,123 [INFO] Iter=16, size=300, max=-22.0000, avg=-31.9733, min=-40.0000, std=3.3195\n"
     ]
    },
    {
     "name": "stdout",
     "output_type": "stream",
     "text": [
      "size: [ 36  59 116  56  33], pop_size: [61 60 59 56 67]\n"
     ]
    },
    {
     "name": "stderr",
     "output_type": "stream",
     "text": [
      "SlimeVolley: 2025-01-02 14:18:59,375 [INFO] Iter=17, size=300, max=-21.0000, avg=-33.0200, min=-44.0000, std=4.3688\n"
     ]
    },
    {
     "name": "stdout",
     "output_type": "stream",
     "text": [
      "size: [42 67 72 69 50], pop_size: [57 54 65 65 61]\n"
     ]
    },
    {
     "name": "stderr",
     "output_type": "stream",
     "text": [
      "SlimeVolley: 2025-01-02 14:19:02,595 [INFO] Iter=18, size=300, max=-24.0000, avg=-35.6333, min=-43.0000, std=3.3841\n"
     ]
    },
    {
     "name": "stdout",
     "output_type": "stream",
     "text": [
      "size: [54 53 59 72 62], pop_size: [66 56 55 64 61]\n"
     ]
    },
    {
     "name": "stderr",
     "output_type": "stream",
     "text": [
      "SlimeVolley: 2025-01-02 14:19:05,834 [INFO] Iter=19, size=300, max=-20.0000, avg=-31.4867, min=-40.0000, std=3.2634\n"
     ]
    },
    {
     "name": "stdout",
     "output_type": "stream",
     "text": [
      "size: [82 56 63 69 30], pop_size: [61 60 58 65 59]\n"
     ]
    },
    {
     "name": "stderr",
     "output_type": "stream",
     "text": [
      "SlimeVolley: 2025-01-02 14:19:08,980 [INFO] Iter=20, size=300, max=-22.0000, avg=-32.0800, min=-41.0000, std=3.7754\n",
      "SlimeVolley: 2025-01-02 14:19:09,114 [INFO] [TEST] Iter=20, #tests=1, max=-5.0000, avg=-5.0000, min=-5.0000, std=0.0000\n"
     ]
    },
    {
     "name": "stdout",
     "output_type": "stream",
     "text": [
      "size: [55 66 56 63 60], pop_size: [64 64 62 52 60]\n"
     ]
    },
    {
     "name": "stderr",
     "output_type": "stream",
     "text": [
      "SlimeVolley: 2025-01-02 14:19:12,305 [INFO] Iter=21, size=300, max=-18.0000, avg=-31.5067, min=-39.0000, std=3.4501\n"
     ]
    },
    {
     "name": "stdout",
     "output_type": "stream",
     "text": [
      "size: [39 65 49 97 50], pop_size: [59 64 60 60 59]\n"
     ]
    },
    {
     "name": "stderr",
     "output_type": "stream",
     "text": [
      "SlimeVolley: 2025-01-02 14:19:15,554 [INFO] Iter=22, size=300, max=-20.0000, avg=-32.2067, min=-40.0000, std=3.3182\n"
     ]
    },
    {
     "name": "stdout",
     "output_type": "stream",
     "text": [
      "size: [74 59 64 66 37], pop_size: [57 62 56 63 64]\n"
     ]
    },
    {
     "name": "stderr",
     "output_type": "stream",
     "text": [
      "SlimeVolley: 2025-01-02 14:19:18,740 [INFO] Iter=23, size=300, max=-26.0000, avg=-34.0667, min=-44.0000, std=3.6980\n"
     ]
    },
    {
     "name": "stdout",
     "output_type": "stream",
     "text": [
      "size: [83 88 57  9 63], pop_size: [66 62 64 47 64]\n"
     ]
    },
    {
     "name": "stderr",
     "output_type": "stream",
     "text": [
      "SlimeVolley: 2025-01-02 14:19:21,929 [INFO] Iter=24, size=300, max=-20.0000, avg=-30.8700, min=-42.0000, std=3.3892\n"
     ]
    },
    {
     "name": "stdout",
     "output_type": "stream",
     "text": [
      "size: [68 75 68 43 46], pop_size: [60 60 61 58 63]\n"
     ]
    },
    {
     "name": "stderr",
     "output_type": "stream",
     "text": [
      "SlimeVolley: 2025-01-02 14:19:25,171 [INFO] Iter=25, size=300, max=-20.0000, avg=-31.7200, min=-45.0000, std=3.6499\n"
     ]
    },
    {
     "name": "stdout",
     "output_type": "stream",
     "text": [
      "size: [61 58 60 52 69], pop_size: [58 60 61 58 65]\n"
     ]
    },
    {
     "name": "stderr",
     "output_type": "stream",
     "text": [
      "SlimeVolley: 2025-01-02 14:19:28,459 [INFO] Iter=26, size=300, max=-22.0000, avg=-32.2767, min=-42.0000, std=3.7612\n"
     ]
    },
    {
     "name": "stdout",
     "output_type": "stream",
     "text": [
      "size: [62 57 62 56 63], pop_size: [50 65 68 56 63]\n"
     ]
    },
    {
     "name": "stderr",
     "output_type": "stream",
     "text": [
      "SlimeVolley: 2025-01-02 14:19:31,767 [INFO] Iter=27, size=300, max=-20.0000, avg=-30.7800, min=-39.0000, std=3.7280\n"
     ]
    },
    {
     "name": "stdout",
     "output_type": "stream",
     "text": [
      "size: [57 61 63 69 50], pop_size: [58 54 68 64 58]\n"
     ]
    },
    {
     "name": "stderr",
     "output_type": "stream",
     "text": [
      "SlimeVolley: 2025-01-02 14:19:34,923 [INFO] Iter=28, size=300, max=-23.0000, avg=-30.5933, min=-40.0000, std=3.6880\n"
     ]
    },
    {
     "name": "stdout",
     "output_type": "stream",
     "text": [
      "size: [56 68 66 52 58], pop_size: [56 66 59 64 59]\n"
     ]
    },
    {
     "name": "stderr",
     "output_type": "stream",
     "text": [
      "SlimeVolley: 2025-01-02 14:19:38,131 [INFO] Iter=29, size=300, max=-21.0000, avg=-30.0733, min=-39.0000, std=3.3894\n",
      "SlimeVolley: 2025-01-02 14:19:38,266 [INFO] [TEST] Iter=30, #tests=1, max=-5.0000, avg=-5.0000, min=-5.0000, std=0.0000\n",
      "SlimeVolley: 2025-01-02 14:19:38,269 [INFO] Training done, best_score=-5.0000\n"
     ]
    },
    {
     "name": "stdout",
     "output_type": "stream",
     "text": [
      "size: [57 66 63 59 55], pop_size: [64 67 59 55 57]\n",
      "graph TD;\n",
      "    subgraph Input\n",
      "    i0([\"Input 0\"]):::input\n",
      "    i1([\"Input 1\"]):::input\n",
      "    i2([\"Input 2\"]):::input\n",
      "    i3([\"Input 3\"]):::input\n",
      "    i4([\"Input 4\"]):::input\n",
      "    i5([\"Input 5\"]):::input\n",
      "    i6([\"Input 6\"]):::input\n",
      "    i7([\"Input 7\"]):::input\n",
      "    i8([\"Input 8\"]):::input\n",
      "    i9([\"Input 9\"]):::input\n",
      "    i10([\"Input 10\"]):::input\n",
      "    i11([\"Input 11\"]):::input\n",
      "    end\n",
      "    subgraph Output\n",
      "    o12([\"Output 12\"]):::output\n",
      "    o13([\"Output 13\"]):::output\n",
      "    o14([\"Output 14\"]):::output\n",
      "    end\n",
      "    subgraph Hidden\n",
      "    h15([\"Hidden 15\"]):::hidden_node\n",
      "    h16([\"Hidden 16\"]):::hidden_node\n",
      "    end\n",
      "    i0 -.->|0.00| o12\n",
      "    i1 -.->|0.68| o12\n",
      "    i2 -->|-0.96| o12\n",
      "    i3 -->|0.71| o12\n",
      "    i4 -->|-0.91| o12\n",
      "    i5 -->|0.77| o12\n",
      "    i6 -->|0.24| o12\n",
      "    i7 -.->|0.36| o12\n",
      "    i8 -->|0.11| o12\n",
      "    i9 -->|-0.79| o12\n",
      "    i10 -->|0.23| o12\n",
      "    i11 -.->|-0.88| o12\n",
      "    i0 -->|0.43| o13\n",
      "    i1 -.->|0.60| o13\n",
      "    i2 -->|-0.46| o13\n",
      "    i3 -.->|0.62| o13\n",
      "    i4 -.->|0.12| o13\n",
      "    i5 -.->|0.00| o13\n",
      "    i6 -.->|0.50| o13\n",
      "    i7 -->|0.13| o13\n",
      "    i8 -.->|-0.37| o13\n",
      "    i9 -.->|-0.61| o13\n",
      "    i10 -->|0.37| o13\n",
      "    i11 -->|0.77| o13\n",
      "    i0 -->|-0.80| o14\n",
      "    i1 -.->|0.11| o14\n",
      "    i2 -.->|-0.85| o14\n",
      "    i3 -->|0.44| o14\n",
      "    i4 -.->|-0.06| o14\n",
      "    i5 -.->|-0.73| o14\n",
      "    i6 -->|0.52| o14\n",
      "    i7 -->|-0.75| o14\n",
      "    i8 -->|0.37| o14\n",
      "    i9 -->|0.76| o14\n",
      "    i10 -.->|0.30| o14\n",
      "    i11 -.->|-0.61| o14\n",
      "    i8 -.->|0.31| h15\n",
      "    h15 -.->|-0.97| o13\n",
      "    i5 -.->|0.38| h16\n",
      "    h16 -.->|-0.27| o14\n",
      "    h15 -->|-0.46| o12\n",
      "    i0 -.->|0.26| h16\n",
      "    classDef input fill:#61DAFB,stroke:#333,stroke-width:2px;\n",
      "    classDef output fill:#4EC9B0,stroke:#333,stroke-width:2px;\n",
      "    classDef hidden_node fill:#9CA3AF,stroke:#333,stroke-width:2px;\n",
      "    linkStyle default stroke:#E5E7EB,stroke-width:2px;\n",
      "[[0. 1. 2. ... 0. 0. 0.]]\n"
     ]
    },
    {
     "name": "stderr",
     "output_type": "stream",
     "text": [
      "SlimeVolley: 2025-01-02 14:20:04,142 [INFO] GIF saved to ./log/slimevolley_20250102-141756/slimevolley.gif.\n"
     ]
    }
   ],
   "source": [
    "%run neat.py\n",
    "test3()"
   ]
  }
 ],
 "metadata": {
  "kernelspec": {
   "display_name": ".venv",
   "language": "python",
   "name": "python3"
  },
  "language_info": {
   "codemirror_mode": {
    "name": "ipython",
    "version": 3
   },
   "file_extension": ".py",
   "mimetype": "text/x-python",
   "name": "python",
   "nbconvert_exporter": "python",
   "pygments_lexer": "ipython3",
   "version": "3.12.8"
  }
 },
 "nbformat": 4,
 "nbformat_minor": 2
}
